{
 "cells": [
  {
   "cell_type": "code",
   "execution_count": 1,
   "metadata": {},
   "outputs": [],
   "source": [
    "import torch\n",
    "import torch.nn as nn\n",
    "import torch.optim as optim\n",
    "from torch.utils.data import DataLoader\n",
    "from torchvision import transforms\n",
    "from torchvision import models\n",
    "from torchvision.models.vgg import VGG\n",
    "from PIL import Image\n",
    "import numpy as np\n",
    "import os\n",
    "import nibabel as nib\n",
    "import time\n",
    "import datetime\n",
    "import torch.nn.functional as F\n",
    "from models.unet import UNet\n",
    "import matplotlib.pyplot as plt\n",
    "from metrics.torch_seg_metrics import dice_score, iou\n",
    "from datasets.BRATS2018 import ToTensorVal, NormalizeBRATSVal, ZeroPadVal\n",
    "from tqdm import tqdm"
   ]
  },
  {
   "cell_type": "code",
   "execution_count": 2,
   "metadata": {},
   "outputs": [],
   "source": [
    "# helper functions\n",
    "def time_stamp() -> str:\n",
    "    ts = time.time()\n",
    "    time_stamp = datetime.datetime.fromtimestamp(ts).strftime('%Y-%m-%d %H:%M:%S')\n",
    "    return time_stamp"
   ]
  },
  {
   "cell_type": "code",
   "execution_count": 5,
   "metadata": {},
   "outputs": [],
   "source": [
    "def infer(case_name, seg_type, model_path, device):\n",
    "    case_dir = os.path.join(val_dir, case_name)\n",
    "    if seg_type == 'et' or seg_type == 'tc':\n",
    "        scan_path = os.path.join(case_dir, case_name + '_t1ce.nii.gz')\n",
    "        sc = nib.load(scan_path)\n",
    "        sc = sc.get_data()\n",
    "        sc = sc.transpose((2, 0, 1))\n",
    "        assert sc.shape == (155, 240, 240)\n",
    "        \n",
    "        model = UNet(n_channels=1, n_classes=1, residual=True)\n",
    "    elif seg_type == 'wt':\n",
    "        t2_path = os.path.join(case_dir, case_name + '_t2.nii.gz')\n",
    "        flair_path = os.path.join(case_dir, case_name + '_flair.nii.gz')\n",
    "        t2 = nib.load(t2_path).get_data()\n",
    "        flair = nib.load(flair_path).get_data()\n",
    "        sc = np.array([t2, flair]).transpose((3, 0, 1, 2))\n",
    "        assert sc.shape == (155, 2, 240, 240)\n",
    "        \n",
    "        model = UNet(n_channels=2, n_classes=1, residual=True)\n",
    "    elif seg_type == 'seg':\n",
    "        t1_path = os.path.join(case_dir, case_name + '_t1.nii.gz')\n",
    "        t1ce_path = os.path.join(case_dir, case_name + '_t1ce.nii.gz')\n",
    "        t2_path = os.path.join(case_dir, case_name + '_t2.nii.gz')\n",
    "        flair_path = os.path.join(case_dir, case_name + '_flair.nii.gz')\n",
    "        \n",
    "        t1 = nib.load(t1_path).get_data()\n",
    "        t1ce = nib.load(t1ce_path).get_data()\n",
    "        t2 = nib.load(t2_path).get_data()\n",
    "        flair = nib.load(flair_path).get_data()\n",
    "        sc = np.array([t1, t1ce, t2, flair]).transpose((3, 0, 1, 2))\n",
    "        assert sc.shape == (155, 4, 240, 240)\n",
    "        \n",
    "        model = UNet(n_channels=4, n_classes=4, residual=True, expansion=2)\n",
    "    else:\n",
    "        raise ValueError('seg_type should only be et, tc, wt or seg')\n",
    "    \n",
    "    model.load_state_dict(torch.load(model_path, map_location=device))\n",
    "    model.to(device)\n",
    "    model.eval()\n",
    "    \n",
    "    preds = np.zeros((155, 240, 240))\n",
    "    \n",
    "    for i in range(155):\n",
    "        slice_i = sc[i]\n",
    "        if seg_type == 'et' or seg_type == 'tc':\n",
    "            slice_i = np.expand_dims(slice_i, axis=0)\n",
    "            assert slice_i.shape == (1, 240, 240)\n",
    "        elif seg_type == 'wt':\n",
    "            assert slice_i.shape == (2, 240, 240)\n",
    "        elif seg_type == 'seg':\n",
    "            assert slice_i.shape == (4, 240, 240)\n",
    "        \n",
    "        normalize = NormalizeBRATSVal()\n",
    "        totensor = ToTensorVal()\n",
    "        \n",
    "        slice_i = normalize(slice_i)\n",
    "        slice_i = totensor(slice_i)\n",
    "        \n",
    "        # unsqueeze the dimension to 4, NxCxHxW\n",
    "        slice_i = torch.unsqueeze(slice_i, dim=0)\n",
    "        slice_i = slice_i.to(device)\n",
    "        with torch.no_grad():\n",
    "            output = model(slice_i)\n",
    "            if seg_type == 'seg':\n",
    "                pred = torch.argmax(F.softmax(output, dim=1), dim=1, keepdim=True)\n",
    "            else:\n",
    "                pred = torch.sigmoid(output) > 0.5\n",
    "        \n",
    "        # squeeze the dimension down to 2, HxW\n",
    "        pred = torch.squeeze(pred)\n",
    "        pred = pred.cpu().numpy()\n",
    "        preds[i] = pred\n",
    "            \n",
    "    \n",
    "    np.save(os.path.join(case_dir, case_name + f'_{seg_type}'), preds)\n",
    "    return preds\n",
    "    "
   ]
  },
  {
   "cell_type": "markdown",
   "metadata": {},
   "source": [
    "# sorted validation cases"
   ]
  },
  {
   "cell_type": "code",
   "execution_count": 4,
   "metadata": {},
   "outputs": [],
   "source": [
    "case_list = sorted(os.listdir('BRATS2018_Validation/'))\n",
    "val_dir = 'BRATS2018_Validation/'\n",
    "device = torch.device('cuda:0' if torch.cuda.is_available() else 'cpu')\n",
    "if not os.path.exists('validations/'):\n",
    "    os.makedirs('validations/')"
   ]
  },
  {
   "cell_type": "code",
   "execution_count": 9,
   "metadata": {},
   "outputs": [
    {
     "name": "stdout",
     "output_type": "stream",
     "text": [
      "torch.Size([240, 240]) 0\n",
      "torch.Size([240, 240]) 1\n",
      "torch.Size([240, 240]) 2\n",
      "torch.Size([240, 240]) 3\n",
      "torch.Size([240, 240]) 4\n",
      "torch.Size([240, 240]) 5\n",
      "torch.Size([240, 240]) 6\n",
      "torch.Size([240, 240]) 7\n",
      "torch.Size([240, 240]) 8\n",
      "torch.Size([240, 240]) 9\n",
      "torch.Size([240, 240]) 10\n",
      "torch.Size([240, 240]) 11\n",
      "torch.Size([240, 240]) 12\n",
      "torch.Size([240, 240]) 13\n",
      "torch.Size([240, 240]) 14\n",
      "torch.Size([240, 240]) 15\n",
      "torch.Size([240, 240]) 16\n",
      "torch.Size([240, 240]) 17\n",
      "torch.Size([240, 240]) 18\n",
      "torch.Size([240, 240]) 19\n",
      "torch.Size([240, 240]) 20\n",
      "torch.Size([240, 240]) 21\n",
      "torch.Size([240, 240]) 22\n",
      "torch.Size([240, 240]) 23\n",
      "torch.Size([240, 240]) 24\n",
      "torch.Size([240, 240]) 25\n",
      "torch.Size([240, 240]) 26\n",
      "torch.Size([240, 240]) 27\n",
      "torch.Size([240, 240]) 28\n",
      "torch.Size([240, 240]) 29\n",
      "torch.Size([240, 240]) 30\n",
      "torch.Size([240, 240]) 31\n",
      "torch.Size([240, 240]) 32\n",
      "torch.Size([240, 240]) 33\n",
      "torch.Size([240, 240]) 34\n",
      "torch.Size([240, 240]) 35\n",
      "torch.Size([240, 240]) 36\n",
      "torch.Size([240, 240]) 37\n",
      "torch.Size([240, 240]) 38\n",
      "torch.Size([240, 240]) 39\n",
      "torch.Size([240, 240]) 40\n",
      "torch.Size([240, 240]) 41\n",
      "torch.Size([240, 240]) 42\n",
      "torch.Size([240, 240]) 43\n",
      "torch.Size([240, 240]) 44\n",
      "torch.Size([240, 240]) 45\n",
      "torch.Size([240, 240]) 46\n",
      "torch.Size([240, 240]) 47\n",
      "torch.Size([240, 240]) 48\n",
      "torch.Size([240, 240]) 49\n",
      "torch.Size([240, 240]) 50\n",
      "torch.Size([240, 240]) 51\n",
      "torch.Size([240, 240]) 52\n",
      "torch.Size([240, 240]) 53\n",
      "torch.Size([240, 240]) 54\n",
      "torch.Size([240, 240]) 55\n",
      "torch.Size([240, 240]) 56\n",
      "torch.Size([240, 240]) 57\n",
      "torch.Size([240, 240]) 58\n",
      "torch.Size([240, 240]) 59\n",
      "torch.Size([240, 240]) 60\n",
      "torch.Size([240, 240]) 61\n",
      "torch.Size([240, 240]) 62\n",
      "torch.Size([240, 240]) 63\n",
      "torch.Size([240, 240]) 64\n",
      "torch.Size([240, 240]) 65\n",
      "torch.Size([240, 240]) 66\n",
      "torch.Size([240, 240]) 67\n",
      "torch.Size([240, 240]) 68\n",
      "torch.Size([240, 240]) 69\n",
      "torch.Size([240, 240]) 70\n",
      "torch.Size([240, 240]) 71\n",
      "torch.Size([240, 240]) 72\n",
      "torch.Size([240, 240]) 73\n",
      "torch.Size([240, 240]) 74\n",
      "torch.Size([240, 240]) 75\n",
      "torch.Size([240, 240]) 76\n",
      "torch.Size([240, 240]) 77\n",
      "torch.Size([240, 240]) 78\n",
      "torch.Size([240, 240]) 79\n",
      "torch.Size([240, 240]) 80\n",
      "torch.Size([240, 240]) 81\n",
      "torch.Size([240, 240]) 82\n",
      "torch.Size([240, 240]) 83\n",
      "torch.Size([240, 240]) 84\n",
      "torch.Size([240, 240]) 85\n",
      "torch.Size([240, 240]) 86\n",
      "torch.Size([240, 240]) 87\n",
      "torch.Size([240, 240]) 88\n",
      "torch.Size([240, 240]) 89\n",
      "torch.Size([240, 240]) 90\n",
      "torch.Size([240, 240]) 91\n",
      "torch.Size([240, 240]) 92\n",
      "torch.Size([240, 240]) 93\n",
      "torch.Size([240, 240]) 94\n",
      "torch.Size([240, 240]) 95\n",
      "torch.Size([240, 240]) 96\n",
      "torch.Size([240, 240]) 97\n",
      "torch.Size([240, 240]) 98\n",
      "torch.Size([240, 240]) 99\n",
      "torch.Size([240, 240]) 100\n",
      "torch.Size([240, 240]) 101\n",
      "torch.Size([240, 240]) 102\n",
      "torch.Size([240, 240]) 103\n",
      "torch.Size([240, 240]) 104\n",
      "torch.Size([240, 240]) 105\n",
      "torch.Size([240, 240]) 106\n",
      "torch.Size([240, 240]) 107\n",
      "torch.Size([240, 240]) 108\n",
      "torch.Size([240, 240]) 109\n",
      "torch.Size([240, 240]) 110\n",
      "torch.Size([240, 240]) 111\n",
      "torch.Size([240, 240]) 112\n",
      "torch.Size([240, 240]) 113\n",
      "torch.Size([240, 240]) 114\n",
      "torch.Size([240, 240]) 115\n",
      "torch.Size([240, 240]) 116\n",
      "torch.Size([240, 240]) 117\n",
      "torch.Size([240, 240]) 118\n",
      "torch.Size([240, 240]) 119\n",
      "torch.Size([240, 240]) 120\n",
      "torch.Size([240, 240]) 121\n",
      "torch.Size([240, 240]) 122\n",
      "torch.Size([240, 240]) 123\n",
      "torch.Size([240, 240]) 124\n",
      "torch.Size([240, 240]) 125\n",
      "torch.Size([240, 240]) 126\n",
      "torch.Size([240, 240]) 127\n",
      "torch.Size([240, 240]) 128\n",
      "torch.Size([240, 240]) 129\n",
      "torch.Size([240, 240]) 130\n",
      "torch.Size([240, 240]) 131\n",
      "torch.Size([240, 240]) 132\n",
      "torch.Size([240, 240]) 133\n",
      "torch.Size([240, 240]) 134\n",
      "torch.Size([240, 240]) 135\n",
      "torch.Size([240, 240]) 136\n",
      "torch.Size([240, 240]) 137\n",
      "torch.Size([240, 240]) 138\n",
      "torch.Size([240, 240]) 139\n",
      "torch.Size([240, 240]) 140\n",
      "torch.Size([240, 240]) 141\n",
      "torch.Size([240, 240]) 142\n",
      "torch.Size([240, 240]) 143\n",
      "torch.Size([240, 240]) 144\n",
      "torch.Size([240, 240]) 145\n",
      "torch.Size([240, 240]) 146\n",
      "torch.Size([240, 240]) 147\n",
      "torch.Size([240, 240]) 148\n",
      "torch.Size([240, 240]) 149\n",
      "torch.Size([240, 240]) 150\n",
      "torch.Size([240, 240]) 151\n",
      "torch.Size([240, 240]) 152\n",
      "torch.Size([240, 240]) 153\n",
      "torch.Size([240, 240]) 154\n"
     ]
    }
   ],
   "source": [
    "infer('Brats18_CBICA_AAM_1',\\\n",
    "      'wt',\\\n",
    "      '../UNet_BraTS_DiceLoss_WT_210_manual/UNets-BRATS2018-WT-210-T2-Flair_batch6_training_epochs10_Adam_scheduler-step10-gamma1.0_lr1e-05_w_decay1e-05/trained_model.pt',\\\n",
    "      device)"
   ]
  },
  {
   "cell_type": "markdown",
   "metadata": {},
   "source": [
    "## do the inference for Wt, ET, and TC separately"
   ]
  },
  {
   "cell_type": "code",
   "execution_count": 5,
   "metadata": {},
   "outputs": [
    {
     "name": "stderr",
     "output_type": "stream",
     "text": [
      "  0%|          | 0/66 [00:00<?, ?it/s]/home/martin/Documents/semantic_segmentation/PyTorch_venv/lib/python3.6/site-packages/torch/nn/modules/upsampling.py:129: UserWarning: nn.Upsample is deprecated. Use nn.functional.interpolate instead.\n",
      "  warnings.warn(\"nn.{} is deprecated. Use nn.functional.interpolate instead.\".format(self.name))\n"
     ]
    },
    {
     "name": "stdout",
     "output_type": "stream",
     "text": [
      "2019-05-03 23:19:10 Finish Brats18_CBICA_AAM_1 whole tumor.\n",
      "2019-05-03 23:19:23 Finish Brats18_CBICA_AAM_1 enhancing tumor.\n",
      "2019-05-03 23:19:36 Finish Brats18_CBICA_AAM_1 tumor core.\n"
     ]
    },
    {
     "name": "stderr",
     "output_type": "stream",
     "text": [
      "\r",
      "  2%|▏         | 1/66 [00:43<47:23, 43.75s/it]"
     ]
    },
    {
     "name": "stdout",
     "output_type": "stream",
     "text": [
      "[0 1 2 4]\n",
      "2019-05-03 23:19:51 Finish Brats18_CBICA_ABT_1 whole tumor.\n",
      "2019-05-03 23:20:04 Finish Brats18_CBICA_ABT_1 enhancing tumor.\n",
      "2019-05-03 23:20:18 Finish Brats18_CBICA_ABT_1 tumor core.\n"
     ]
    },
    {
     "name": "stderr",
     "output_type": "stream",
     "text": [
      "\r",
      "  3%|▎         | 2/66 [01:25<45:55, 43.05s/it]"
     ]
    },
    {
     "name": "stdout",
     "output_type": "stream",
     "text": [
      "[0 1 2 4]\n",
      "2019-05-03 23:20:33 Finish Brats18_CBICA_ALA_1 whole tumor.\n",
      "2019-05-03 23:20:46 Finish Brats18_CBICA_ALA_1 enhancing tumor.\n",
      "2019-05-03 23:21:00 Finish Brats18_CBICA_ALA_1 tumor core.\n"
     ]
    },
    {
     "name": "stderr",
     "output_type": "stream",
     "text": [
      "\r",
      "  5%|▍         | 3/66 [02:07<44:50, 42.71s/it]"
     ]
    },
    {
     "name": "stdout",
     "output_type": "stream",
     "text": [
      "[0 1 2 4]\n",
      "2019-05-03 23:21:15 Finish Brats18_CBICA_ALT_1 whole tumor.\n",
      "2019-05-03 23:21:28 Finish Brats18_CBICA_ALT_1 enhancing tumor.\n",
      "2019-05-03 23:21:42 Finish Brats18_CBICA_ALT_1 tumor core.\n"
     ]
    },
    {
     "name": "stderr",
     "output_type": "stream",
     "text": [
      "\r",
      "  6%|▌         | 4/66 [02:49<43:56, 42.52s/it]"
     ]
    },
    {
     "name": "stdout",
     "output_type": "stream",
     "text": [
      "[0 1 2 4]\n",
      "2019-05-03 23:21:56 Finish Brats18_CBICA_ALV_1 whole tumor.\n",
      "2019-05-03 23:22:10 Finish Brats18_CBICA_ALV_1 enhancing tumor.\n",
      "2019-05-03 23:22:23 Finish Brats18_CBICA_ALV_1 tumor core.\n"
     ]
    },
    {
     "name": "stderr",
     "output_type": "stream",
     "text": [
      "\r",
      "  8%|▊         | 5/66 [03:30<42:44, 42.04s/it]"
     ]
    },
    {
     "name": "stdout",
     "output_type": "stream",
     "text": [
      "[0 1 2 4]\n",
      "2019-05-03 23:22:37 Finish Brats18_CBICA_ALZ_1 whole tumor.\n",
      "2019-05-03 23:22:50 Finish Brats18_CBICA_ALZ_1 enhancing tumor.\n",
      "2019-05-03 23:23:04 Finish Brats18_CBICA_ALZ_1 tumor core.\n"
     ]
    },
    {
     "name": "stderr",
     "output_type": "stream",
     "text": [
      "\r",
      "  9%|▉         | 6/66 [04:11<41:43, 41.73s/it]"
     ]
    },
    {
     "name": "stdout",
     "output_type": "stream",
     "text": [
      "[0 1 2 4]\n",
      "2019-05-03 23:23:18 Finish Brats18_CBICA_AMF_1 whole tumor.\n",
      "2019-05-03 23:23:31 Finish Brats18_CBICA_AMF_1 enhancing tumor.\n",
      "2019-05-03 23:23:45 Finish Brats18_CBICA_AMF_1 tumor core.\n"
     ]
    },
    {
     "name": "stderr",
     "output_type": "stream",
     "text": [
      "\r",
      " 11%|█         | 7/66 [04:52<40:49, 41.51s/it]"
     ]
    },
    {
     "name": "stdout",
     "output_type": "stream",
     "text": [
      "[0 1 2 4]\n",
      "2019-05-03 23:23:59 Finish Brats18_CBICA_AMU_1 whole tumor.\n",
      "2019-05-03 23:24:13 Finish Brats18_CBICA_AMU_1 enhancing tumor.\n",
      "2019-05-03 23:24:26 Finish Brats18_CBICA_AMU_1 tumor core.\n"
     ]
    },
    {
     "name": "stderr",
     "output_type": "stream",
     "text": [
      "\r",
      " 12%|█▏        | 8/66 [05:33<40:02, 41.42s/it]"
     ]
    },
    {
     "name": "stdout",
     "output_type": "stream",
     "text": [
      "[0 1 2 4]\n",
      "2019-05-03 23:24:40 Finish Brats18_CBICA_ANK_1 whole tumor.\n",
      "2019-05-03 23:24:54 Finish Brats18_CBICA_ANK_1 enhancing tumor.\n",
      "2019-05-03 23:25:07 Finish Brats18_CBICA_ANK_1 tumor core.\n"
     ]
    },
    {
     "name": "stderr",
     "output_type": "stream",
     "text": [
      "\r",
      " 14%|█▎        | 9/66 [06:14<39:15, 41.33s/it]"
     ]
    },
    {
     "name": "stdout",
     "output_type": "stream",
     "text": [
      "[0 1 2 4]\n",
      "2019-05-03 23:25:22 Finish Brats18_CBICA_APM_1 whole tumor.\n",
      "2019-05-03 23:25:35 Finish Brats18_CBICA_APM_1 enhancing tumor.\n",
      "2019-05-03 23:25:48 Finish Brats18_CBICA_APM_1 tumor core.\n"
     ]
    },
    {
     "name": "stderr",
     "output_type": "stream",
     "text": [
      "\r",
      " 15%|█▌        | 10/66 [06:55<38:32, 41.29s/it]"
     ]
    },
    {
     "name": "stdout",
     "output_type": "stream",
     "text": [
      "[0 1 2 4]\n",
      "2019-05-03 23:26:03 Finish Brats18_CBICA_AQE_1 whole tumor.\n",
      "2019-05-03 23:26:16 Finish Brats18_CBICA_AQE_1 enhancing tumor.\n",
      "2019-05-03 23:26:29 Finish Brats18_CBICA_AQE_1 tumor core.\n"
     ]
    },
    {
     "name": "stderr",
     "output_type": "stream",
     "text": [
      "\r",
      " 17%|█▋        | 11/66 [07:36<37:47, 41.22s/it]"
     ]
    },
    {
     "name": "stdout",
     "output_type": "stream",
     "text": [
      "[0 1 2 4]\n",
      "2019-05-03 23:26:44 Finish Brats18_CBICA_ARR_1 whole tumor.\n",
      "2019-05-03 23:26:57 Finish Brats18_CBICA_ARR_1 enhancing tumor.\n",
      "2019-05-03 23:27:11 Finish Brats18_CBICA_ARR_1 tumor core.\n"
     ]
    },
    {
     "name": "stderr",
     "output_type": "stream",
     "text": [
      "\r",
      " 18%|█▊        | 12/66 [08:17<37:05, 41.20s/it]"
     ]
    },
    {
     "name": "stdout",
     "output_type": "stream",
     "text": [
      "[0 1 2 4]\n",
      "2019-05-03 23:27:25 Finish Brats18_CBICA_ATW_1 whole tumor.\n",
      "2019-05-03 23:27:38 Finish Brats18_CBICA_ATW_1 enhancing tumor.\n",
      "2019-05-03 23:27:52 Finish Brats18_CBICA_ATW_1 tumor core.\n"
     ]
    },
    {
     "name": "stderr",
     "output_type": "stream",
     "text": [
      "\r",
      " 20%|█▉        | 13/66 [08:58<36:22, 41.18s/it]"
     ]
    },
    {
     "name": "stdout",
     "output_type": "stream",
     "text": [
      "[0 1 2 4]\n",
      "2019-05-03 23:28:07 Finish Brats18_CBICA_AUC_1 whole tumor.\n",
      "2019-05-03 23:28:20 Finish Brats18_CBICA_AUC_1 enhancing tumor.\n",
      "2019-05-03 23:28:34 Finish Brats18_CBICA_AUC_1 tumor core.\n"
     ]
    },
    {
     "name": "stderr",
     "output_type": "stream",
     "text": [
      "\r",
      " 21%|██        | 14/66 [09:41<35:56, 41.47s/it]"
     ]
    },
    {
     "name": "stdout",
     "output_type": "stream",
     "text": [
      "[0 1 2 4]\n",
      "2019-05-03 23:28:49 Finish Brats18_CBICA_AUE_1 whole tumor.\n",
      "2019-05-03 23:29:02 Finish Brats18_CBICA_AUE_1 enhancing tumor.\n",
      "2019-05-03 23:29:16 Finish Brats18_CBICA_AUE_1 tumor core.\n"
     ]
    },
    {
     "name": "stderr",
     "output_type": "stream",
     "text": [
      "\r",
      " 23%|██▎       | 15/66 [10:23<35:22, 41.63s/it]"
     ]
    },
    {
     "name": "stdout",
     "output_type": "stream",
     "text": [
      "[0 1 2 4]\n",
      "2019-05-03 23:29:31 Finish Brats18_CBICA_AZA_1 whole tumor.\n",
      "2019-05-03 23:29:44 Finish Brats18_CBICA_AZA_1 enhancing tumor.\n",
      "2019-05-03 23:29:58 Finish Brats18_CBICA_AZA_1 tumor core.\n"
     ]
    },
    {
     "name": "stderr",
     "output_type": "stream",
     "text": [
      "\r",
      " 24%|██▍       | 16/66 [11:05<34:47, 41.74s/it]"
     ]
    },
    {
     "name": "stdout",
     "output_type": "stream",
     "text": [
      "[0 1 2 4]\n",
      "2019-05-03 23:30:13 Finish Brats18_CBICA_BHF_1 whole tumor.\n",
      "2019-05-03 23:30:27 Finish Brats18_CBICA_BHF_1 enhancing tumor.\n",
      "2019-05-03 23:30:40 Finish Brats18_CBICA_BHF_1 tumor core.\n"
     ]
    },
    {
     "name": "stderr",
     "output_type": "stream",
     "text": [
      "\r",
      " 26%|██▌       | 17/66 [11:47<34:11, 41.88s/it]"
     ]
    },
    {
     "name": "stdout",
     "output_type": "stream",
     "text": [
      "[0 1 2 4]\n",
      "2019-05-03 23:30:55 Finish Brats18_CBICA_BHN_1 whole tumor.\n",
      "2019-05-03 23:31:09 Finish Brats18_CBICA_BHN_1 enhancing tumor.\n",
      "2019-05-03 23:31:22 Finish Brats18_CBICA_BHN_1 tumor core.\n"
     ]
    },
    {
     "name": "stderr",
     "output_type": "stream",
     "text": [
      "\r",
      " 27%|██▋       | 18/66 [12:29<33:30, 41.88s/it]"
     ]
    },
    {
     "name": "stdout",
     "output_type": "stream",
     "text": [
      "[0 1 2 4]\n",
      "2019-05-03 23:31:37 Finish Brats18_CBICA_BKY_1 whole tumor.\n",
      "2019-05-03 23:31:50 Finish Brats18_CBICA_BKY_1 enhancing tumor.\n",
      "2019-05-03 23:32:04 Finish Brats18_CBICA_BKY_1 tumor core.\n"
     ]
    },
    {
     "name": "stderr",
     "output_type": "stream",
     "text": [
      "\r",
      " 29%|██▉       | 19/66 [13:11<32:49, 41.91s/it]"
     ]
    },
    {
     "name": "stdout",
     "output_type": "stream",
     "text": [
      "[0 1 2 4]\n",
      "2019-05-03 23:32:19 Finish Brats18_CBICA_BLI_1 whole tumor.\n",
      "2019-05-03 23:32:32 Finish Brats18_CBICA_BLI_1 enhancing tumor.\n",
      "2019-05-03 23:32:46 Finish Brats18_CBICA_BLI_1 tumor core.\n"
     ]
    },
    {
     "name": "stderr",
     "output_type": "stream",
     "text": [
      "\r",
      " 30%|███       | 20/66 [13:53<32:09, 41.95s/it]"
     ]
    },
    {
     "name": "stdout",
     "output_type": "stream",
     "text": [
      "[0 1 2 4]\n",
      "2019-05-03 23:33:01 Finish Brats18_CBICA_BLK_1 whole tumor.\n",
      "2019-05-03 23:33:15 Finish Brats18_CBICA_BLK_1 enhancing tumor.\n",
      "2019-05-03 23:33:28 Finish Brats18_CBICA_BLK_1 tumor core.\n"
     ]
    },
    {
     "name": "stderr",
     "output_type": "stream",
     "text": [
      "\r",
      " 32%|███▏      | 21/66 [14:35<31:28, 41.97s/it]"
     ]
    },
    {
     "name": "stdout",
     "output_type": "stream",
     "text": [
      "[0 1 2 4]\n",
      "2019-05-03 23:33:43 Finish Brats18_MDA_1012_1 whole tumor.\n",
      "2019-05-03 23:33:56 Finish Brats18_MDA_1012_1 enhancing tumor.\n",
      "2019-05-03 23:34:10 Finish Brats18_MDA_1012_1 tumor core.\n"
     ]
    },
    {
     "name": "stderr",
     "output_type": "stream",
     "text": [
      "\r",
      " 33%|███▎      | 22/66 [15:17<30:45, 41.94s/it]"
     ]
    },
    {
     "name": "stdout",
     "output_type": "stream",
     "text": [
      "[0 1 2 4]\n",
      "2019-05-03 23:34:25 Finish Brats18_MDA_1015_1 whole tumor.\n",
      "2019-05-03 23:34:39 Finish Brats18_MDA_1015_1 enhancing tumor.\n",
      "2019-05-03 23:34:52 Finish Brats18_MDA_1015_1 tumor core.\n"
     ]
    },
    {
     "name": "stderr",
     "output_type": "stream",
     "text": [
      "\r",
      " 35%|███▍      | 23/66 [15:59<30:05, 42.00s/it]"
     ]
    },
    {
     "name": "stdout",
     "output_type": "stream",
     "text": [
      "[0 1 2 4]\n",
      "2019-05-03 23:35:07 Finish Brats18_MDA_1081_1 whole tumor.\n",
      "2019-05-03 23:35:20 Finish Brats18_MDA_1081_1 enhancing tumor.\n",
      "2019-05-03 23:35:34 Finish Brats18_MDA_1081_1 tumor core.\n"
     ]
    },
    {
     "name": "stderr",
     "output_type": "stream",
     "text": [
      "\r",
      " 36%|███▋      | 24/66 [16:41<29:22, 41.97s/it]"
     ]
    },
    {
     "name": "stdout",
     "output_type": "stream",
     "text": [
      "[0 1 2 4]\n",
      "2019-05-03 23:35:49 Finish Brats18_MDA_907_1 whole tumor.\n",
      "2019-05-03 23:36:03 Finish Brats18_MDA_907_1 enhancing tumor.\n",
      "2019-05-03 23:36:16 Finish Brats18_MDA_907_1 tumor core.\n"
     ]
    },
    {
     "name": "stderr",
     "output_type": "stream",
     "text": [
      "\r",
      " 38%|███▊      | 25/66 [17:23<28:44, 42.05s/it]"
     ]
    },
    {
     "name": "stdout",
     "output_type": "stream",
     "text": [
      "[0 1 2 4]\n",
      "2019-05-03 23:36:31 Finish Brats18_MDA_922_1 whole tumor.\n",
      "2019-05-03 23:36:45 Finish Brats18_MDA_922_1 enhancing tumor.\n",
      "2019-05-03 23:36:59 Finish Brats18_MDA_922_1 tumor core.\n"
     ]
    },
    {
     "name": "stderr",
     "output_type": "stream",
     "text": [
      "\r",
      " 39%|███▉      | 26/66 [18:05<28:07, 42.19s/it]"
     ]
    },
    {
     "name": "stdout",
     "output_type": "stream",
     "text": [
      "[0 1 2 4]\n",
      "2019-05-03 23:37:13 Finish Brats18_TCIA02_230_1 whole tumor.\n",
      "2019-05-03 23:37:27 Finish Brats18_TCIA02_230_1 enhancing tumor.\n",
      "2019-05-03 23:37:41 Finish Brats18_TCIA02_230_1 tumor core.\n"
     ]
    },
    {
     "name": "stderr",
     "output_type": "stream",
     "text": [
      "\r",
      " 41%|████      | 27/66 [18:47<27:23, 42.14s/it]"
     ]
    },
    {
     "name": "stdout",
     "output_type": "stream",
     "text": [
      "[0 1 2 4]\n",
      "2019-05-03 23:37:55 Finish Brats18_TCIA02_400_1 whole tumor.\n",
      "2019-05-03 23:38:09 Finish Brats18_TCIA02_400_1 enhancing tumor.\n",
      "2019-05-03 23:38:23 Finish Brats18_TCIA02_400_1 tumor core.\n"
     ]
    },
    {
     "name": "stderr",
     "output_type": "stream",
     "text": [
      "\r",
      " 42%|████▏     | 28/66 [19:29<26:38, 42.07s/it]"
     ]
    },
    {
     "name": "stdout",
     "output_type": "stream",
     "text": [
      "[0 1 2 4]\n",
      "2019-05-03 23:38:37 Finish Brats18_TCIA03_216_1 whole tumor.\n",
      "2019-05-03 23:38:51 Finish Brats18_TCIA03_216_1 enhancing tumor.\n",
      "2019-05-03 23:39:05 Finish Brats18_TCIA03_216_1 tumor core.\n"
     ]
    },
    {
     "name": "stderr",
     "output_type": "stream",
     "text": [
      "\r",
      " 44%|████▍     | 29/66 [20:12<25:59, 42.15s/it]"
     ]
    },
    {
     "name": "stdout",
     "output_type": "stream",
     "text": [
      "[0 1 2 4]\n",
      "2019-05-03 23:39:20 Finish Brats18_TCIA03_288_1 whole tumor.\n",
      "2019-05-03 23:39:33 Finish Brats18_TCIA03_288_1 enhancing tumor.\n",
      "2019-05-03 23:39:47 Finish Brats18_TCIA03_288_1 tumor core.\n"
     ]
    },
    {
     "name": "stderr",
     "output_type": "stream",
     "text": [
      "\r",
      " 45%|████▌     | 30/66 [20:54<25:15, 42.09s/it]"
     ]
    },
    {
     "name": "stdout",
     "output_type": "stream",
     "text": [
      "[0 1 2 4]\n",
      "2019-05-03 23:40:02 Finish Brats18_TCIA03_313_1 whole tumor.\n",
      "2019-05-03 23:40:15 Finish Brats18_TCIA03_313_1 enhancing tumor.\n",
      "2019-05-03 23:40:29 Finish Brats18_TCIA03_313_1 tumor core.\n"
     ]
    },
    {
     "name": "stderr",
     "output_type": "stream",
     "text": [
      "\r",
      " 47%|████▋     | 31/66 [21:36<24:32, 42.06s/it]"
     ]
    },
    {
     "name": "stdout",
     "output_type": "stream",
     "text": [
      "[0 1 2 4]\n",
      "2019-05-03 23:40:44 Finish Brats18_TCIA03_604_1 whole tumor.\n",
      "2019-05-03 23:40:57 Finish Brats18_TCIA03_604_1 enhancing tumor.\n",
      "2019-05-03 23:41:11 Finish Brats18_TCIA03_604_1 tumor core.\n"
     ]
    },
    {
     "name": "stderr",
     "output_type": "stream",
     "text": [
      "\r",
      " 48%|████▊     | 32/66 [22:18<23:48, 42.03s/it]"
     ]
    },
    {
     "name": "stdout",
     "output_type": "stream",
     "text": [
      "[0 1 2 4]\n",
      "2019-05-03 23:41:26 Finish Brats18_TCIA04_212_1 whole tumor.\n",
      "2019-05-03 23:41:39 Finish Brats18_TCIA04_212_1 enhancing tumor.\n",
      "2019-05-03 23:41:53 Finish Brats18_TCIA04_212_1 tumor core.\n"
     ]
    },
    {
     "name": "stderr",
     "output_type": "stream",
     "text": [
      "\r",
      " 50%|█████     | 33/66 [22:59<23:06, 42.00s/it]"
     ]
    },
    {
     "name": "stdout",
     "output_type": "stream",
     "text": [
      "[0 1 2 4]\n",
      "2019-05-03 23:42:07 Finish Brats18_TCIA04_253_1 whole tumor.\n",
      "2019-05-03 23:42:21 Finish Brats18_TCIA04_253_1 enhancing tumor.\n",
      "2019-05-03 23:42:35 Finish Brats18_TCIA04_253_1 tumor core.\n",
      "[0 1 2 4]\n"
     ]
    },
    {
     "name": "stderr",
     "output_type": "stream",
     "text": [
      "\r",
      " 52%|█████▏    | 34/66 [23:42<22:24, 42.01s/it]"
     ]
    },
    {
     "name": "stdout",
     "output_type": "stream",
     "text": [
      "2019-05-03 23:42:50 Finish Brats18_TCIA07_600_1 whole tumor.\n",
      "2019-05-03 23:43:03 Finish Brats18_TCIA07_600_1 enhancing tumor.\n",
      "2019-05-03 23:43:17 Finish Brats18_TCIA07_600_1 tumor core.\n"
     ]
    },
    {
     "name": "stderr",
     "output_type": "stream",
     "text": [
      "\r",
      " 53%|█████▎    | 35/66 [24:24<21:43, 42.04s/it]"
     ]
    },
    {
     "name": "stdout",
     "output_type": "stream",
     "text": [
      "[0 1 2 4]\n",
      "2019-05-03 23:43:32 Finish Brats18_TCIA07_601_1 whole tumor.\n",
      "2019-05-03 23:43:45 Finish Brats18_TCIA07_601_1 enhancing tumor.\n",
      "2019-05-03 23:43:59 Finish Brats18_TCIA07_601_1 tumor core.\n"
     ]
    },
    {
     "name": "stderr",
     "output_type": "stream",
     "text": [
      "\r",
      " 55%|█████▍    | 36/66 [25:06<21:00, 42.01s/it]"
     ]
    },
    {
     "name": "stdout",
     "output_type": "stream",
     "text": [
      "[0 1 2 4]\n",
      "2019-05-03 23:44:14 Finish Brats18_TCIA07_602_1 whole tumor.\n",
      "2019-05-03 23:44:27 Finish Brats18_TCIA07_602_1 enhancing tumor.\n",
      "2019-05-03 23:44:41 Finish Brats18_TCIA07_602_1 tumor core.\n"
     ]
    },
    {
     "name": "stderr",
     "output_type": "stream",
     "text": [
      "\r",
      " 56%|█████▌    | 37/66 [25:48<20:17, 41.99s/it]"
     ]
    },
    {
     "name": "stdout",
     "output_type": "stream",
     "text": [
      "[0 1 2 4]\n",
      "2019-05-03 23:44:55 Finish Brats18_TCIA09_248_1 whole tumor.\n",
      "2019-05-03 23:45:09 Finish Brats18_TCIA09_248_1 enhancing tumor.\n",
      "2019-05-03 23:45:23 Finish Brats18_TCIA09_248_1 tumor core.\n"
     ]
    },
    {
     "name": "stderr",
     "output_type": "stream",
     "text": [
      "\r",
      " 58%|█████▊    | 38/66 [26:29<19:34, 41.96s/it]"
     ]
    },
    {
     "name": "stdout",
     "output_type": "stream",
     "text": [
      "[0 2 4]\n",
      "2019-05-03 23:45:38 Finish Brats18_TCIA10_195_1 whole tumor.\n",
      "2019-05-03 23:45:52 Finish Brats18_TCIA10_195_1 enhancing tumor.\n",
      "2019-05-03 23:46:05 Finish Brats18_TCIA10_195_1 tumor core.\n"
     ]
    },
    {
     "name": "stderr",
     "output_type": "stream",
     "text": [
      "\r",
      " 59%|█████▉    | 39/66 [27:12<18:56, 42.10s/it]"
     ]
    },
    {
     "name": "stdout",
     "output_type": "stream",
     "text": [
      "[0 2 4]\n",
      "2019-05-03 23:46:20 Finish Brats18_TCIA10_311_1 whole tumor.\n",
      "2019-05-03 23:46:34 Finish Brats18_TCIA10_311_1 enhancing tumor.\n",
      "2019-05-03 23:46:47 Finish Brats18_TCIA10_311_1 tumor core.\n"
     ]
    },
    {
     "name": "stderr",
     "output_type": "stream",
     "text": [
      "\r",
      " 61%|██████    | 40/66 [27:54<18:15, 42.14s/it]"
     ]
    },
    {
     "name": "stdout",
     "output_type": "stream",
     "text": [
      "[0 2 4]\n",
      "2019-05-03 23:47:02 Finish Brats18_TCIA10_609_1 whole tumor.\n",
      "2019-05-03 23:47:16 Finish Brats18_TCIA10_609_1 enhancing tumor.\n",
      "2019-05-03 23:47:29 Finish Brats18_TCIA10_609_1 tumor core.\n"
     ]
    },
    {
     "name": "stderr",
     "output_type": "stream",
     "text": [
      "\r",
      " 62%|██████▏   | 41/66 [28:36<17:32, 42.08s/it]"
     ]
    },
    {
     "name": "stdout",
     "output_type": "stream",
     "text": [
      "[0 1 2 4]\n",
      "2019-05-03 23:47:44 Finish Brats18_TCIA11_612_1 whole tumor.\n",
      "2019-05-03 23:47:58 Finish Brats18_TCIA11_612_1 enhancing tumor.\n",
      "2019-05-03 23:48:11 Finish Brats18_TCIA11_612_1 tumor core.\n"
     ]
    },
    {
     "name": "stderr",
     "output_type": "stream",
     "text": [
      "\r",
      " 64%|██████▎   | 42/66 [29:18<16:48, 42.03s/it]"
     ]
    },
    {
     "name": "stdout",
     "output_type": "stream",
     "text": [
      "[0 2]\n",
      "2019-05-03 23:48:26 Finish Brats18_TCIA12_613_1 whole tumor.\n",
      "2019-05-03 23:48:40 Finish Brats18_TCIA12_613_1 enhancing tumor.\n",
      "2019-05-03 23:48:53 Finish Brats18_TCIA12_613_1 tumor core.\n"
     ]
    },
    {
     "name": "stderr",
     "output_type": "stream",
     "text": [
      "\r",
      " 65%|██████▌   | 43/66 [30:00<16:05, 41.98s/it]"
     ]
    },
    {
     "name": "stdout",
     "output_type": "stream",
     "text": [
      "[0]\n",
      "2019-05-03 23:49:08 Finish Brats18_TCIA13_610_1 whole tumor.\n",
      "2019-05-03 23:49:22 Finish Brats18_TCIA13_610_1 enhancing tumor.\n",
      "2019-05-03 23:49:36 Finish Brats18_TCIA13_610_1 tumor core.\n"
     ]
    },
    {
     "name": "stderr",
     "output_type": "stream",
     "text": [
      "\r",
      " 67%|██████▋   | 44/66 [30:43<15:29, 42.25s/it]"
     ]
    },
    {
     "name": "stdout",
     "output_type": "stream",
     "text": [
      "[0 1 2 4]\n",
      "2019-05-03 23:49:51 Finish Brats18_TCIA13_611_1 whole tumor.\n",
      "2019-05-03 23:50:05 Finish Brats18_TCIA13_611_1 enhancing tumor.\n",
      "2019-05-03 23:50:18 Finish Brats18_TCIA13_611_1 tumor core.\n"
     ]
    },
    {
     "name": "stderr",
     "output_type": "stream",
     "text": [
      "\r",
      " 68%|██████▊   | 45/66 [31:25<14:45, 42.19s/it]"
     ]
    },
    {
     "name": "stdout",
     "output_type": "stream",
     "text": [
      "[0 1 2 4]\n",
      "2019-05-03 23:50:33 Finish Brats18_TCIA13_617_1 whole tumor.\n",
      "2019-05-03 23:50:46 Finish Brats18_TCIA13_617_1 enhancing tumor.\n",
      "2019-05-03 23:51:00 Finish Brats18_TCIA13_617_1 tumor core.\n"
     ]
    },
    {
     "name": "stderr",
     "output_type": "stream",
     "text": [
      "\r",
      " 70%|██████▉   | 46/66 [32:07<14:02, 42.12s/it]"
     ]
    },
    {
     "name": "stdout",
     "output_type": "stream",
     "text": [
      "[0 1 2 4]\n",
      "2019-05-03 23:51:15 Finish Brats18_TCIA13_636_1 whole tumor.\n",
      "2019-05-03 23:51:28 Finish Brats18_TCIA13_636_1 enhancing tumor.\n",
      "2019-05-03 23:51:42 Finish Brats18_TCIA13_636_1 tumor core.\n"
     ]
    },
    {
     "name": "stderr",
     "output_type": "stream",
     "text": [
      "\r",
      " 71%|███████   | 47/66 [32:49<13:20, 42.11s/it]"
     ]
    },
    {
     "name": "stdout",
     "output_type": "stream",
     "text": [
      "[0 1 2 4]\n",
      "2019-05-03 23:51:57 Finish Brats18_TCIA13_638_1 whole tumor.\n",
      "2019-05-03 23:52:10 Finish Brats18_TCIA13_638_1 enhancing tumor.\n",
      "2019-05-03 23:52:24 Finish Brats18_TCIA13_638_1 tumor core.\n"
     ]
    },
    {
     "name": "stderr",
     "output_type": "stream",
     "text": [
      "\r",
      " 73%|███████▎  | 48/66 [33:30<12:36, 42.00s/it]"
     ]
    },
    {
     "name": "stdout",
     "output_type": "stream",
     "text": [
      "[0 1 2 4]\n",
      "2019-05-03 23:52:38 Finish Brats18_TCIA13_646_1 whole tumor.\n",
      "2019-05-03 23:52:53 Finish Brats18_TCIA13_646_1 enhancing tumor.\n",
      "2019-05-03 23:53:06 Finish Brats18_TCIA13_646_1 tumor core.\n"
     ]
    },
    {
     "name": "stderr",
     "output_type": "stream",
     "text": [
      "\r",
      " 74%|███████▍  | 49/66 [34:13<11:55, 42.09s/it]"
     ]
    },
    {
     "name": "stdout",
     "output_type": "stream",
     "text": [
      "[0 2 4]\n",
      "2019-05-03 23:53:21 Finish Brats18_TCIA13_652_1 whole tumor.\n",
      "2019-05-03 23:53:35 Finish Brats18_TCIA13_652_1 enhancing tumor.\n",
      "2019-05-03 23:53:48 Finish Brats18_TCIA13_652_1 tumor core.\n"
     ]
    },
    {
     "name": "stderr",
     "output_type": "stream",
     "text": [
      "\r",
      " 76%|███████▌  | 50/66 [34:55<11:12, 42.05s/it]"
     ]
    },
    {
     "name": "stdout",
     "output_type": "stream",
     "text": [
      "[0 2 4]\n",
      "2019-05-03 23:54:03 Finish Brats18_UAB_3446_1 whole tumor.\n",
      "2019-05-03 23:54:16 Finish Brats18_UAB_3446_1 enhancing tumor.\n",
      "2019-05-03 23:54:30 Finish Brats18_UAB_3446_1 tumor core.\n"
     ]
    },
    {
     "name": "stderr",
     "output_type": "stream",
     "text": [
      "\r",
      " 77%|███████▋  | 51/66 [35:37<10:29, 41.99s/it]"
     ]
    },
    {
     "name": "stdout",
     "output_type": "stream",
     "text": [
      "[0 1 2 4]\n",
      "2019-05-03 23:54:45 Finish Brats18_UAB_3448_1 whole tumor.\n",
      "2019-05-03 23:54:58 Finish Brats18_UAB_3448_1 enhancing tumor.\n",
      "2019-05-03 23:55:12 Finish Brats18_UAB_3448_1 tumor core.\n"
     ]
    },
    {
     "name": "stderr",
     "output_type": "stream",
     "text": [
      "\r",
      " 79%|███████▉  | 52/66 [36:19<09:47, 41.98s/it]"
     ]
    },
    {
     "name": "stdout",
     "output_type": "stream",
     "text": [
      "[0 1 2 4]\n",
      "2019-05-03 23:55:27 Finish Brats18_UAB_3449_1 whole tumor.\n",
      "2019-05-03 23:55:40 Finish Brats18_UAB_3449_1 enhancing tumor.\n",
      "2019-05-03 23:55:54 Finish Brats18_UAB_3449_1 tumor core.\n"
     ]
    },
    {
     "name": "stderr",
     "output_type": "stream",
     "text": [
      "\r",
      " 80%|████████  | 53/66 [37:00<09:05, 41.96s/it]"
     ]
    },
    {
     "name": "stdout",
     "output_type": "stream",
     "text": [
      "[0 1 2 4]\n",
      "2019-05-03 23:56:08 Finish Brats18_UAB_3454_1 whole tumor.\n",
      "2019-05-03 23:56:23 Finish Brats18_UAB_3454_1 enhancing tumor.\n",
      "2019-05-03 23:56:37 Finish Brats18_UAB_3454_1 tumor core.\n"
     ]
    },
    {
     "name": "stderr",
     "output_type": "stream",
     "text": [
      "\r",
      " 82%|████████▏ | 54/66 [37:43<08:26, 42.25s/it]"
     ]
    },
    {
     "name": "stdout",
     "output_type": "stream",
     "text": [
      "[0 1 2 4]\n",
      "2019-05-03 23:56:51 Finish Brats18_UAB_3455_1 whole tumor.\n",
      "2019-05-03 23:57:05 Finish Brats18_UAB_3455_1 enhancing tumor.\n",
      "2019-05-03 23:57:18 Finish Brats18_UAB_3455_1 tumor core.\n"
     ]
    },
    {
     "name": "stderr",
     "output_type": "stream",
     "text": [
      "\r",
      " 83%|████████▎ | 55/66 [38:25<07:43, 42.14s/it]"
     ]
    },
    {
     "name": "stdout",
     "output_type": "stream",
     "text": [
      "[0 1 2 4]\n",
      "2019-05-03 23:57:33 Finish Brats18_UAB_3456_1 whole tumor.\n",
      "2019-05-03 23:57:47 Finish Brats18_UAB_3456_1 enhancing tumor.\n",
      "2019-05-03 23:58:01 Finish Brats18_UAB_3456_1 tumor core.\n"
     ]
    },
    {
     "name": "stderr",
     "output_type": "stream",
     "text": [
      "\r",
      " 85%|████████▍ | 56/66 [39:07<07:01, 42.14s/it]"
     ]
    },
    {
     "name": "stdout",
     "output_type": "stream",
     "text": [
      "[0 1 2 4]\n",
      "2019-05-03 23:58:15 Finish Brats18_UAB_3490_1 whole tumor.\n",
      "2019-05-03 23:58:29 Finish Brats18_UAB_3490_1 enhancing tumor.\n",
      "2019-05-03 23:58:43 Finish Brats18_UAB_3490_1 tumor core.\n"
     ]
    },
    {
     "name": "stderr",
     "output_type": "stream",
     "text": [
      "\r",
      " 86%|████████▋ | 57/66 [39:49<06:18, 42.06s/it]"
     ]
    },
    {
     "name": "stdout",
     "output_type": "stream",
     "text": [
      "[0 1 2 4]\n",
      "2019-05-03 23:58:57 Finish Brats18_UAB_3498_1 whole tumor.\n",
      "2019-05-03 23:59:11 Finish Brats18_UAB_3498_1 enhancing tumor.\n",
      "2019-05-03 23:59:25 Finish Brats18_UAB_3498_1 tumor core.\n"
     ]
    },
    {
     "name": "stderr",
     "output_type": "stream",
     "text": [
      "\r",
      " 88%|████████▊ | 58/66 [40:31<05:36, 42.07s/it]"
     ]
    },
    {
     "name": "stdout",
     "output_type": "stream",
     "text": [
      "[0 1 2 4]\n",
      "2019-05-03 23:59:39 Finish Brats18_UAB_3499_1 whole tumor.\n",
      "2019-05-03 23:59:53 Finish Brats18_UAB_3499_1 enhancing tumor.\n",
      "2019-05-04 00:00:06 Finish Brats18_UAB_3499_1 tumor core.\n"
     ]
    },
    {
     "name": "stderr",
     "output_type": "stream",
     "text": [
      "\r",
      " 89%|████████▉ | 59/66 [41:13<04:53, 41.98s/it]"
     ]
    },
    {
     "name": "stdout",
     "output_type": "stream",
     "text": [
      "[0 1 2 4]\n",
      "2019-05-04 00:00:21 Finish Brats18_WashU_S036_1 whole tumor.\n",
      "2019-05-04 00:00:35 Finish Brats18_WashU_S036_1 enhancing tumor.\n",
      "2019-05-04 00:00:49 Finish Brats18_WashU_S036_1 tumor core.\n"
     ]
    },
    {
     "name": "stderr",
     "output_type": "stream",
     "text": [
      "\r",
      " 91%|█████████ | 60/66 [41:55<04:12, 42.04s/it]"
     ]
    },
    {
     "name": "stdout",
     "output_type": "stream",
     "text": [
      "[0 1 2 4]\n",
      "2019-05-04 00:01:03 Finish Brats18_WashU_S037_1 whole tumor.\n",
      "2019-05-04 00:01:17 Finish Brats18_WashU_S037_1 enhancing tumor.\n",
      "2019-05-04 00:01:31 Finish Brats18_WashU_S037_1 tumor core.\n"
     ]
    },
    {
     "name": "stderr",
     "output_type": "stream",
     "text": [
      "\r",
      " 92%|█████████▏| 61/66 [42:37<03:30, 42.04s/it]"
     ]
    },
    {
     "name": "stdout",
     "output_type": "stream",
     "text": [
      "[0 1 2 4]\n",
      "2019-05-04 00:01:46 Finish Brats18_WashU_S041_1 whole tumor.\n",
      "2019-05-04 00:01:59 Finish Brats18_WashU_S041_1 enhancing tumor.\n",
      "2019-05-04 00:02:13 Finish Brats18_WashU_S041_1 tumor core.\n"
     ]
    },
    {
     "name": "stderr",
     "output_type": "stream",
     "text": [
      "\r",
      " 94%|█████████▍| 62/66 [43:20<02:48, 42.11s/it]"
     ]
    },
    {
     "name": "stdout",
     "output_type": "stream",
     "text": [
      "[0 1 2 4]\n",
      "2019-05-04 00:02:28 Finish Brats18_WashU_W033_1 whole tumor.\n",
      "2019-05-04 00:02:42 Finish Brats18_WashU_W033_1 enhancing tumor.\n",
      "2019-05-04 00:02:55 Finish Brats18_WashU_W033_1 tumor core.\n"
     ]
    },
    {
     "name": "stderr",
     "output_type": "stream",
     "text": [
      "\r",
      " 95%|█████████▌| 63/66 [44:02<02:06, 42.11s/it]"
     ]
    },
    {
     "name": "stdout",
     "output_type": "stream",
     "text": [
      "[0 1 2 4]\n",
      "2019-05-04 00:03:10 Finish Brats18_WashU_W038_1 whole tumor.\n",
      "2019-05-04 00:03:24 Finish Brats18_WashU_W038_1 enhancing tumor.\n",
      "2019-05-04 00:03:37 Finish Brats18_WashU_W038_1 tumor core.\n"
     ]
    },
    {
     "name": "stderr",
     "output_type": "stream",
     "text": [
      "\r",
      " 97%|█████████▋| 64/66 [44:44<01:24, 42.14s/it]"
     ]
    },
    {
     "name": "stdout",
     "output_type": "stream",
     "text": [
      "[0 1 2 4]\n",
      "2019-05-04 00:03:52 Finish Brats18_WashU_W047_1 whole tumor.\n",
      "2019-05-04 00:04:06 Finish Brats18_WashU_W047_1 enhancing tumor.\n",
      "2019-05-04 00:04:19 Finish Brats18_WashU_W047_1 tumor core.\n"
     ]
    },
    {
     "name": "stderr",
     "output_type": "stream",
     "text": [
      "\r",
      " 98%|█████████▊| 65/66 [45:26<00:42, 42.12s/it]"
     ]
    },
    {
     "name": "stdout",
     "output_type": "stream",
     "text": [
      "[0 1 2 4]\n",
      "2019-05-04 00:04:34 Finish Brats18_WashU_W053_1 whole tumor.\n",
      "2019-05-04 00:04:48 Finish Brats18_WashU_W053_1 enhancing tumor.\n",
      "2019-05-04 00:05:02 Finish Brats18_WashU_W053_1 tumor core.\n"
     ]
    },
    {
     "name": "stderr",
     "output_type": "stream",
     "text": [
      "\r",
      "100%|██████████| 66/66 [46:08<00:00, 42.17s/it]"
     ]
    },
    {
     "name": "stdout",
     "output_type": "stream",
     "text": [
      "[0 1 2 4]\n"
     ]
    },
    {
     "name": "stderr",
     "output_type": "stream",
     "text": [
      "\n"
     ]
    }
   ],
   "source": [
    "for case_name in tqdm(case_list):\n",
    "    preds_wt = infer(case_name, 'wt', '../UNetResidualBlock_DiceLoss_WT_210_manual/UNets-ResidualBlock-BRATS2018-210-WT_batch8_training_epochs15_Adam_scheduler-step10-gamma1.0_lr0.0001_w_decay1e-05/trained_model.pt',\\\n",
    "         device)\n",
    "    assert preds_wt.shape == (155, 240, 240)\n",
    "    print(f'{time_stamp()} Finish {case_name} whole tumor.')\n",
    "    \n",
    "    preds_et = infer(case_name, 'et', '../UNetResidualBlock_DiceLoss_ET_210_manual/UNet-Residual-Block-BRATS2018-210-ET_batch8_training_epochs10_Adam_scheduler-step10-gamma1.0_lr1e-05_w_decay1e-05/terminated_model.pt',\\\n",
    "         device)\n",
    "    assert preds_et.shape == (155, 240, 240)\n",
    "    print(f'{time_stamp()} Finish {case_name} enhancing tumor.')\n",
    "    \n",
    "    preds_tc = infer(case_name, 'tc', '../UNetResidualBlock_DiceLoss_TC_210_manual/UNet-ResidualBlock-BRATS2018-210-TC_batch8_training_epochs15_Adam_scheduler-step10-gamma1.0_lr3e-05_w_decay1e-05/terminated_model.pt',\\\n",
    "         device)\n",
    "    assert preds_tc.shape == (155, 240, 240)\n",
    "    print(f'{time_stamp()} Finish {case_name} tumor core.')\n",
    "    \n",
    "    preds_2 = np.logical_xor(preds_wt, preds_tc).astype(np.uint8)\n",
    "    preds_1 = np.logical_xor(preds_tc, preds_et).astype(np.uint8)\n",
    "    preds_4 = preds_et.astype(np.uint8)\n",
    "    \n",
    "    preds_seg = 4 * preds_4 + 2 * preds_2 + preds_1\n",
    "    assert preds_seg.shape == (155, 240, 240)\n",
    "    \n",
    "    # get the mask of which computed label is greater than 4, and set it to 4\n",
    "    preds_seg = preds_seg + (preds_seg > 4).astype(np.uint8) * (4 * np.ones((155, 240, 240)) - preds_seg)\n",
    "    preds_seg = preds_seg + (preds_seg == 3) * np.ones((155, 240, 240))\n",
    "    preds_seg = preds_seg.astype(np.uint8)\n",
    "    print(np.unique(preds_seg))\n",
    "    \n",
    "    img = nib.Nifti1Image(preds_seg.transpose(1, 2, 0), affine=None)\n",
    "    nib.save(img, os.path.join('validations', case_name + '.nii.gz'))\n",
    "    \n",
    "    "
   ]
  },
  {
   "cell_type": "markdown",
   "metadata": {},
   "source": [
    "## infer 4 classes in one forward pass"
   ]
  },
  {
   "cell_type": "code",
   "execution_count": 6,
   "metadata": {},
   "outputs": [
    {
     "name": "stderr",
     "output_type": "stream",
     "text": [
      "  0%|          | 0/66 [00:00<?, ?it/s]/home/martin/Documents/semantic_segmentation/PyTorch_venv/lib/python3.6/site-packages/torch/nn/modules/upsampling.py:129: UserWarning: nn.Upsample is deprecated. Use nn.functional.interpolate instead.\n",
      "  warnings.warn(\"nn.{} is deprecated. Use nn.functional.interpolate instead.\".format(self.name))\n"
     ]
    },
    {
     "name": "stdout",
     "output_type": "stream",
     "text": [
      "2019-05-05 19:35:04 Finish Brats18_CBICA_AAM_1.\n"
     ]
    },
    {
     "name": "stderr",
     "output_type": "stream",
     "text": [
      "\r",
      "  2%|▏         | 1/66 [00:36<40:03, 36.97s/it]"
     ]
    },
    {
     "name": "stdout",
     "output_type": "stream",
     "text": [
      "[0 1 2 4]\n",
      "2019-05-05 19:35:27 Finish Brats18_CBICA_ABT_1.\n",
      "[0 1 2 4]\n"
     ]
    },
    {
     "name": "stderr",
     "output_type": "stream",
     "text": [
      "\r",
      "  3%|▎         | 2/66 [00:59<34:51, 32.67s/it]"
     ]
    },
    {
     "name": "stdout",
     "output_type": "stream",
     "text": [
      "2019-05-05 19:35:50 Finish Brats18_CBICA_ALA_1.\n",
      "[0 1 2 4]\n"
     ]
    },
    {
     "name": "stderr",
     "output_type": "stream",
     "text": [
      "\r",
      "  5%|▍         | 3/66 [01:22<31:14, 29.76s/it]"
     ]
    },
    {
     "name": "stdout",
     "output_type": "stream",
     "text": [
      "2019-05-05 19:36:13 Finish Brats18_CBICA_ALT_1.\n",
      "[0 1 2 4]\n"
     ]
    },
    {
     "name": "stderr",
     "output_type": "stream",
     "text": [
      "\r",
      "  6%|▌         | 4/66 [01:45<28:37, 27.71s/it]"
     ]
    },
    {
     "name": "stdout",
     "output_type": "stream",
     "text": [
      "2019-05-05 19:36:36 Finish Brats18_CBICA_ALV_1.\n",
      "[0 1 2 4]\n"
     ]
    },
    {
     "name": "stderr",
     "output_type": "stream",
     "text": [
      "\r",
      "  8%|▊         | 5/66 [02:08<26:42, 26.27s/it]"
     ]
    },
    {
     "name": "stdout",
     "output_type": "stream",
     "text": [
      "2019-05-05 19:36:59 Finish Brats18_CBICA_ALZ_1.\n",
      "[0 1 2 4]\n"
     ]
    },
    {
     "name": "stderr",
     "output_type": "stream",
     "text": [
      "\r",
      "  9%|▉         | 6/66 [02:31<25:15, 25.26s/it]"
     ]
    },
    {
     "name": "stdout",
     "output_type": "stream",
     "text": [
      "2019-05-05 19:37:21 Finish Brats18_CBICA_AMF_1.\n",
      "[0 1 2 4]\n"
     ]
    },
    {
     "name": "stderr",
     "output_type": "stream",
     "text": [
      "\r",
      " 11%|█         | 7/66 [02:54<24:08, 24.55s/it]"
     ]
    },
    {
     "name": "stdout",
     "output_type": "stream",
     "text": [
      "2019-05-05 19:37:44 Finish Brats18_CBICA_AMU_1.\n",
      "[0 1 2 4]\n"
     ]
    },
    {
     "name": "stderr",
     "output_type": "stream",
     "text": [
      "\r",
      " 12%|█▏        | 8/66 [03:17<23:15, 24.05s/it]"
     ]
    },
    {
     "name": "stdout",
     "output_type": "stream",
     "text": [
      "2019-05-05 19:38:07 Finish Brats18_CBICA_ANK_1.\n",
      "[0 1 2 4]\n"
     ]
    },
    {
     "name": "stderr",
     "output_type": "stream",
     "text": [
      "\r",
      " 14%|█▎        | 9/66 [03:40<22:31, 23.72s/it]"
     ]
    },
    {
     "name": "stdout",
     "output_type": "stream",
     "text": [
      "2019-05-05 19:38:30 Finish Brats18_CBICA_APM_1.\n",
      "[0 1 2 4]\n"
     ]
    },
    {
     "name": "stderr",
     "output_type": "stream",
     "text": [
      "\r",
      " 15%|█▌        | 10/66 [04:02<21:53, 23.46s/it]"
     ]
    },
    {
     "name": "stdout",
     "output_type": "stream",
     "text": [
      "2019-05-05 19:38:53 Finish Brats18_CBICA_AQE_1.\n",
      "[0 1 2 4]\n"
     ]
    },
    {
     "name": "stderr",
     "output_type": "stream",
     "text": [
      "\r",
      " 17%|█▋        | 11/66 [04:25<21:19, 23.27s/it]"
     ]
    },
    {
     "name": "stdout",
     "output_type": "stream",
     "text": [
      "2019-05-05 19:39:16 Finish Brats18_CBICA_ARR_1.\n",
      "[0 1 2 4]\n"
     ]
    },
    {
     "name": "stderr",
     "output_type": "stream",
     "text": [
      "\r",
      " 18%|█▊        | 12/66 [04:48<20:49, 23.13s/it]"
     ]
    },
    {
     "name": "stdout",
     "output_type": "stream",
     "text": [
      "2019-05-05 19:39:39 Finish Brats18_CBICA_ATW_1.\n",
      "[0 1 2 4]\n"
     ]
    },
    {
     "name": "stderr",
     "output_type": "stream",
     "text": [
      "\r",
      " 20%|█▉        | 13/66 [05:11<20:21, 23.05s/it]"
     ]
    },
    {
     "name": "stdout",
     "output_type": "stream",
     "text": [
      "2019-05-05 19:40:01 Finish Brats18_CBICA_AUC_1.\n",
      "[0 1 2 4]\n"
     ]
    },
    {
     "name": "stderr",
     "output_type": "stream",
     "text": [
      "\r",
      " 21%|██        | 14/66 [05:34<19:54, 22.97s/it]"
     ]
    },
    {
     "name": "stdout",
     "output_type": "stream",
     "text": [
      "2019-05-05 19:40:24 Finish Brats18_CBICA_AUE_1.\n",
      "[0 1 2 4]\n"
     ]
    },
    {
     "name": "stderr",
     "output_type": "stream",
     "text": [
      "\r",
      " 23%|██▎       | 15/66 [05:56<19:28, 22.92s/it]"
     ]
    },
    {
     "name": "stdout",
     "output_type": "stream",
     "text": [
      "2019-05-05 19:40:47 Finish Brats18_CBICA_AZA_1.\n",
      "[0 1 2 4]\n"
     ]
    },
    {
     "name": "stderr",
     "output_type": "stream",
     "text": [
      "\r",
      " 24%|██▍       | 16/66 [06:19<19:04, 22.89s/it]"
     ]
    },
    {
     "name": "stdout",
     "output_type": "stream",
     "text": [
      "2019-05-05 19:41:10 Finish Brats18_CBICA_BHF_1.\n",
      "[0 1 2 4]\n"
     ]
    },
    {
     "name": "stderr",
     "output_type": "stream",
     "text": [
      "\r",
      " 26%|██▌       | 17/66 [06:42<18:40, 22.86s/it]"
     ]
    },
    {
     "name": "stdout",
     "output_type": "stream",
     "text": [
      "2019-05-05 19:41:33 Finish Brats18_CBICA_BHN_1.\n",
      "[0 1 2 4]\n"
     ]
    },
    {
     "name": "stderr",
     "output_type": "stream",
     "text": [
      "\r",
      " 27%|██▋       | 18/66 [07:05<18:16, 22.85s/it]"
     ]
    },
    {
     "name": "stdout",
     "output_type": "stream",
     "text": [
      "2019-05-05 19:41:55 Finish Brats18_CBICA_BKY_1.\n",
      "[0 1 2 4]\n"
     ]
    },
    {
     "name": "stderr",
     "output_type": "stream",
     "text": [
      "\r",
      " 29%|██▉       | 19/66 [07:28<17:52, 22.83s/it]"
     ]
    },
    {
     "name": "stdout",
     "output_type": "stream",
     "text": [
      "2019-05-05 19:42:18 Finish Brats18_CBICA_BLI_1.\n",
      "[0 1 2 4]\n"
     ]
    },
    {
     "name": "stderr",
     "output_type": "stream",
     "text": [
      " 32%|███▏      | 21/66 [08:13<17:06, 22.81s/it]"
     ]
    },
    {
     "name": "stdout",
     "output_type": "stream",
     "text": [
      "2019-05-05 19:42:41 Finish Brats18_CBICA_BLK_1.\n",
      "[0 1 2 4]\n"
     ]
    },
    {
     "name": "stderr",
     "output_type": "stream",
     "text": [
      "\r",
      " 33%|███▎      | 22/66 [08:36<16:42, 22.79s/it]"
     ]
    },
    {
     "name": "stdout",
     "output_type": "stream",
     "text": [
      "2019-05-05 19:43:04 Finish Brats18_MDA_1012_1.\n",
      "[0 1 2 4]\n"
     ]
    },
    {
     "name": "stderr",
     "output_type": "stream",
     "text": [
      "\r",
      " 35%|███▍      | 23/66 [08:59<16:20, 22.79s/it]"
     ]
    },
    {
     "name": "stdout",
     "output_type": "stream",
     "text": [
      "2019-05-05 19:43:27 Finish Brats18_MDA_1015_1.\n",
      "[0 1 2 4]\n",
      "2019-05-05 19:43:49 Finish Brats18_MDA_1081_1.\n",
      "[0 1 2 4]\n"
     ]
    },
    {
     "name": "stderr",
     "output_type": "stream",
     "text": [
      "\r",
      " 36%|███▋      | 24/66 [09:22<15:57, 22.80s/it]"
     ]
    },
    {
     "name": "stdout",
     "output_type": "stream",
     "text": [
      "2019-05-05 19:44:12 Finish Brats18_MDA_907_1.\n",
      "[0 1 2 4]\n"
     ]
    },
    {
     "name": "stderr",
     "output_type": "stream",
     "text": [
      "\r",
      " 38%|███▊      | 25/66 [09:45<15:36, 22.83s/it]"
     ]
    },
    {
     "name": "stdout",
     "output_type": "stream",
     "text": [
      "2019-05-05 19:44:35 Finish Brats18_MDA_922_1.\n",
      "[0 1 2 4]\n"
     ]
    },
    {
     "name": "stderr",
     "output_type": "stream",
     "text": [
      "\r",
      " 39%|███▉      | 26/66 [10:07<15:14, 22.86s/it]"
     ]
    },
    {
     "name": "stdout",
     "output_type": "stream",
     "text": [
      "2019-05-05 19:44:58 Finish Brats18_TCIA02_230_1.\n",
      "[0 1 2 4]\n"
     ]
    },
    {
     "name": "stderr",
     "output_type": "stream",
     "text": [
      "\r",
      " 41%|████      | 27/66 [10:30<14:51, 22.85s/it]"
     ]
    },
    {
     "name": "stdout",
     "output_type": "stream",
     "text": [
      "2019-05-05 19:45:21 Finish Brats18_TCIA02_400_1.\n",
      "[0 1 2 4]\n"
     ]
    },
    {
     "name": "stderr",
     "output_type": "stream",
     "text": [
      "\r",
      " 42%|████▏     | 28/66 [10:53<14:29, 22.87s/it]"
     ]
    },
    {
     "name": "stdout",
     "output_type": "stream",
     "text": [
      "2019-05-05 19:45:44 Finish Brats18_TCIA03_216_1.\n",
      "[0 1 2 4]\n"
     ]
    },
    {
     "name": "stderr",
     "output_type": "stream",
     "text": [
      "\r",
      " 44%|████▍     | 29/66 [11:16<14:05, 22.86s/it]"
     ]
    },
    {
     "name": "stdout",
     "output_type": "stream",
     "text": [
      "2019-05-05 19:46:07 Finish Brats18_TCIA03_288_1.\n",
      "[0 1 2 4]\n"
     ]
    },
    {
     "name": "stderr",
     "output_type": "stream",
     "text": [
      "\r",
      " 45%|████▌     | 30/66 [11:39<13:42, 22.86s/it]"
     ]
    },
    {
     "name": "stdout",
     "output_type": "stream",
     "text": [
      "2019-05-05 19:46:29 Finish Brats18_TCIA03_313_1.\n",
      "[0 1 2 4]\n"
     ]
    },
    {
     "name": "stderr",
     "output_type": "stream",
     "text": [
      "\r",
      " 47%|████▋     | 31/66 [12:02<13:19, 22.84s/it]"
     ]
    },
    {
     "name": "stdout",
     "output_type": "stream",
     "text": [
      "2019-05-05 19:46:52 Finish Brats18_TCIA03_604_1.\n",
      "[0 1 2 4]\n"
     ]
    },
    {
     "name": "stderr",
     "output_type": "stream",
     "text": [
      "\r",
      " 48%|████▊     | 32/66 [12:25<12:56, 22.85s/it]"
     ]
    },
    {
     "name": "stdout",
     "output_type": "stream",
     "text": [
      "2019-05-05 19:47:15 Finish Brats18_TCIA04_212_1.\n",
      "[0 1 2 4]\n"
     ]
    },
    {
     "name": "stderr",
     "output_type": "stream",
     "text": [
      "\r",
      " 50%|█████     | 33/66 [12:47<12:33, 22.84s/it]"
     ]
    },
    {
     "name": "stdout",
     "output_type": "stream",
     "text": [
      "2019-05-05 19:47:38 Finish Brats18_TCIA04_253_1.\n",
      "[0 1 2 4]\n"
     ]
    },
    {
     "name": "stderr",
     "output_type": "stream",
     "text": [
      "\r",
      " 52%|█████▏    | 34/66 [13:10<12:10, 22.83s/it]"
     ]
    },
    {
     "name": "stdout",
     "output_type": "stream",
     "text": [
      "2019-05-05 19:48:01 Finish Brats18_TCIA07_600_1.\n",
      "[0 1 2 4]\n"
     ]
    },
    {
     "name": "stderr",
     "output_type": "stream",
     "text": [
      "\r",
      " 53%|█████▎    | 35/66 [13:33<11:47, 22.82s/it]"
     ]
    },
    {
     "name": "stdout",
     "output_type": "stream",
     "text": [
      "2019-05-05 19:48:24 Finish Brats18_TCIA07_601_1.\n",
      "[0 1 2 4]\n"
     ]
    },
    {
     "name": "stderr",
     "output_type": "stream",
     "text": [
      "\r",
      " 55%|█████▍    | 36/66 [13:56<11:27, 22.91s/it]"
     ]
    },
    {
     "name": "stdout",
     "output_type": "stream",
     "text": [
      "2019-05-05 19:48:46 Finish Brats18_TCIA07_602_1.\n",
      "[0 1 2 4]\n"
     ]
    },
    {
     "name": "stderr",
     "output_type": "stream",
     "text": [
      "\r",
      " 56%|█████▌    | 37/66 [14:19<11:01, 22.82s/it]"
     ]
    },
    {
     "name": "stdout",
     "output_type": "stream",
     "text": [
      "2019-05-05 19:49:09 Finish Brats18_TCIA09_248_1.\n",
      "[0 1 2 4]\n"
     ]
    },
    {
     "name": "stderr",
     "output_type": "stream",
     "text": [
      "\r",
      " 58%|█████▊    | 38/66 [14:41<10:38, 22.81s/it]"
     ]
    },
    {
     "name": "stdout",
     "output_type": "stream",
     "text": [
      "2019-05-05 19:49:32 Finish Brats18_TCIA10_195_1.\n",
      "[0 1 2 4]\n"
     ]
    },
    {
     "name": "stderr",
     "output_type": "stream",
     "text": [
      "\r",
      " 59%|█████▉    | 39/66 [15:04<10:15, 22.81s/it]"
     ]
    },
    {
     "name": "stdout",
     "output_type": "stream",
     "text": [
      "2019-05-05 19:49:55 Finish Brats18_TCIA10_311_1.\n",
      "[0 2 4]\n"
     ]
    },
    {
     "name": "stderr",
     "output_type": "stream",
     "text": [
      "\r",
      " 61%|██████    | 40/66 [15:27<09:52, 22.79s/it]"
     ]
    },
    {
     "name": "stdout",
     "output_type": "stream",
     "text": [
      "2019-05-05 19:50:18 Finish Brats18_TCIA10_609_1.\n",
      "[0 1 2 4]\n"
     ]
    },
    {
     "name": "stderr",
     "output_type": "stream",
     "text": [
      "\r",
      " 62%|██████▏   | 41/66 [15:50<09:29, 22.79s/it]"
     ]
    },
    {
     "name": "stdout",
     "output_type": "stream",
     "text": [
      "2019-05-05 19:50:40 Finish Brats18_TCIA11_612_1.\n",
      "[0 2]\n"
     ]
    },
    {
     "name": "stderr",
     "output_type": "stream",
     "text": [
      "\r",
      " 64%|██████▎   | 42/66 [16:13<09:07, 22.79s/it]"
     ]
    },
    {
     "name": "stdout",
     "output_type": "stream",
     "text": [
      "2019-05-05 19:51:03 Finish Brats18_TCIA12_613_1.\n",
      "[0 2]\n"
     ]
    },
    {
     "name": "stderr",
     "output_type": "stream",
     "text": [
      "\r",
      " 65%|██████▌   | 43/66 [16:35<08:44, 22.79s/it]"
     ]
    },
    {
     "name": "stdout",
     "output_type": "stream",
     "text": [
      "2019-05-05 19:51:26 Finish Brats18_TCIA13_610_1.\n",
      "[0 1 2 4]\n"
     ]
    },
    {
     "name": "stderr",
     "output_type": "stream",
     "text": [
      "\r",
      " 67%|██████▋   | 44/66 [16:58<08:21, 22.80s/it]"
     ]
    },
    {
     "name": "stdout",
     "output_type": "stream",
     "text": [
      "2019-05-05 19:51:49 Finish Brats18_TCIA13_611_1.\n",
      "[0 1 2 4]\n"
     ]
    },
    {
     "name": "stderr",
     "output_type": "stream",
     "text": [
      "\r",
      " 68%|██████▊   | 45/66 [17:21<07:58, 22.79s/it]"
     ]
    },
    {
     "name": "stdout",
     "output_type": "stream",
     "text": [
      "2019-05-05 19:52:11 Finish Brats18_TCIA13_617_1.\n",
      "[0 1 2 4]\n"
     ]
    },
    {
     "name": "stderr",
     "output_type": "stream",
     "text": [
      "\r",
      " 70%|██████▉   | 46/66 [17:44<07:35, 22.75s/it]"
     ]
    },
    {
     "name": "stdout",
     "output_type": "stream",
     "text": [
      "2019-05-05 19:52:34 Finish Brats18_TCIA13_636_1.\n",
      "[0 1 2 4]\n"
     ]
    },
    {
     "name": "stderr",
     "output_type": "stream",
     "text": [
      "\r",
      " 71%|███████   | 47/66 [18:06<07:12, 22.76s/it]"
     ]
    },
    {
     "name": "stdout",
     "output_type": "stream",
     "text": [
      "2019-05-05 19:52:57 Finish Brats18_TCIA13_638_1.\n",
      "[0 1 2 4]\n"
     ]
    },
    {
     "name": "stderr",
     "output_type": "stream",
     "text": [
      "\r",
      " 73%|███████▎  | 48/66 [18:29<06:50, 22.78s/it]"
     ]
    },
    {
     "name": "stdout",
     "output_type": "stream",
     "text": [
      "2019-05-05 19:53:20 Finish Brats18_TCIA13_646_1.\n",
      "[0 2 4]\n"
     ]
    },
    {
     "name": "stderr",
     "output_type": "stream",
     "text": [
      "\r",
      " 74%|███████▍  | 49/66 [18:52<06:27, 22.79s/it]"
     ]
    },
    {
     "name": "stdout",
     "output_type": "stream",
     "text": [
      "2019-05-05 19:53:43 Finish Brats18_TCIA13_652_1.\n",
      "[0 1 2 4]\n"
     ]
    },
    {
     "name": "stderr",
     "output_type": "stream",
     "text": [
      "\r",
      " 76%|███████▌  | 50/66 [19:15<06:04, 22.79s/it]"
     ]
    },
    {
     "name": "stdout",
     "output_type": "stream",
     "text": [
      "2019-05-05 19:54:05 Finish Brats18_UAB_3446_1.\n",
      "[0 1 2 4]\n"
     ]
    },
    {
     "name": "stderr",
     "output_type": "stream",
     "text": [
      "\r",
      " 77%|███████▋  | 51/66 [19:38<05:41, 22.79s/it]"
     ]
    },
    {
     "name": "stdout",
     "output_type": "stream",
     "text": [
      "2019-05-05 19:54:28 Finish Brats18_UAB_3448_1.\n",
      "[0 1 2 4]\n"
     ]
    },
    {
     "name": "stderr",
     "output_type": "stream",
     "text": [
      "\r",
      " 79%|███████▉  | 52/66 [20:00<05:18, 22.78s/it]"
     ]
    },
    {
     "name": "stdout",
     "output_type": "stream",
     "text": [
      "2019-05-05 19:54:51 Finish Brats18_UAB_3449_1.\n",
      "[0 1 2 4]\n"
     ]
    },
    {
     "name": "stderr",
     "output_type": "stream",
     "text": [
      "\r",
      " 80%|████████  | 53/66 [20:23<04:56, 22.80s/it]"
     ]
    },
    {
     "name": "stdout",
     "output_type": "stream",
     "text": [
      "2019-05-05 19:55:14 Finish Brats18_UAB_3454_1.\n",
      "[0 1 2 4]\n"
     ]
    },
    {
     "name": "stderr",
     "output_type": "stream",
     "text": [
      "\r",
      " 82%|████████▏ | 54/66 [20:46<04:33, 22.78s/it]"
     ]
    },
    {
     "name": "stdout",
     "output_type": "stream",
     "text": [
      "2019-05-05 19:55:36 Finish Brats18_UAB_3455_1.\n",
      "[0 1 2 4]\n"
     ]
    },
    {
     "name": "stderr",
     "output_type": "stream",
     "text": [
      "\r",
      " 83%|████████▎ | 55/66 [21:09<04:10, 22.76s/it]"
     ]
    },
    {
     "name": "stdout",
     "output_type": "stream",
     "text": [
      "2019-05-05 19:55:59 Finish Brats18_UAB_3456_1.\n",
      "[0 1 2 4]\n"
     ]
    },
    {
     "name": "stderr",
     "output_type": "stream",
     "text": [
      "\r",
      " 85%|████████▍ | 56/66 [21:31<03:47, 22.76s/it]"
     ]
    },
    {
     "name": "stdout",
     "output_type": "stream",
     "text": [
      "2019-05-05 19:56:22 Finish Brats18_UAB_3490_1.\n",
      "[0 1 2 4]\n"
     ]
    },
    {
     "name": "stderr",
     "output_type": "stream",
     "text": [
      "\r",
      " 86%|████████▋ | 57/66 [21:54<03:25, 22.80s/it]"
     ]
    },
    {
     "name": "stdout",
     "output_type": "stream",
     "text": [
      "2019-05-05 19:56:45 Finish Brats18_UAB_3498_1.\n",
      "[0 1 2 4]\n"
     ]
    },
    {
     "name": "stderr",
     "output_type": "stream",
     "text": [
      "\r",
      " 88%|████████▊ | 58/66 [22:17<03:02, 22.79s/it]"
     ]
    },
    {
     "name": "stdout",
     "output_type": "stream",
     "text": [
      "2019-05-05 19:57:08 Finish Brats18_UAB_3499_1.\n",
      "[0 1 2 4]\n"
     ]
    },
    {
     "name": "stderr",
     "output_type": "stream",
     "text": [
      "\r",
      " 89%|████████▉ | 59/66 [22:40<02:39, 22.78s/it]"
     ]
    },
    {
     "name": "stdout",
     "output_type": "stream",
     "text": [
      "2019-05-05 19:57:30 Finish Brats18_WashU_S036_1.\n",
      "[0 1 2 4]\n"
     ]
    },
    {
     "name": "stderr",
     "output_type": "stream",
     "text": [
      "\r",
      " 91%|█████████ | 60/66 [23:03<02:16, 22.79s/it]"
     ]
    },
    {
     "name": "stdout",
     "output_type": "stream",
     "text": [
      "2019-05-05 19:57:53 Finish Brats18_WashU_S037_1.\n",
      "[0 1 2 4]\n"
     ]
    },
    {
     "name": "stderr",
     "output_type": "stream",
     "text": [
      "\r",
      " 92%|█████████▏| 61/66 [23:26<01:54, 22.81s/it]"
     ]
    },
    {
     "name": "stdout",
     "output_type": "stream",
     "text": [
      "2019-05-05 19:58:16 Finish Brats18_WashU_S041_1.\n",
      "[0 1 2 4]\n"
     ]
    },
    {
     "name": "stderr",
     "output_type": "stream",
     "text": [
      "\r",
      " 94%|█████████▍| 62/66 [23:48<01:31, 22.83s/it]"
     ]
    },
    {
     "name": "stdout",
     "output_type": "stream",
     "text": [
      "2019-05-05 19:58:39 Finish Brats18_WashU_W033_1.\n",
      "[0 1 2 4]\n"
     ]
    },
    {
     "name": "stderr",
     "output_type": "stream",
     "text": [
      "\r",
      " 95%|█████████▌| 63/66 [24:11<01:08, 22.84s/it]"
     ]
    },
    {
     "name": "stdout",
     "output_type": "stream",
     "text": [
      "2019-05-05 19:59:02 Finish Brats18_WashU_W038_1.\n",
      "[0 1 2 4]\n"
     ]
    },
    {
     "name": "stderr",
     "output_type": "stream",
     "text": [
      "\r",
      " 97%|█████████▋| 64/66 [24:34<00:45, 22.83s/it]"
     ]
    },
    {
     "name": "stdout",
     "output_type": "stream",
     "text": [
      "2019-05-05 19:59:25 Finish Brats18_WashU_W047_1.\n",
      "[0 1 2 4]\n"
     ]
    },
    {
     "name": "stderr",
     "output_type": "stream",
     "text": [
      "100%|██████████| 66/66 [25:20<00:00, 22.85s/it]"
     ]
    },
    {
     "name": "stdout",
     "output_type": "stream",
     "text": [
      "2019-05-05 19:59:48 Finish Brats18_WashU_W053_1.\n",
      "[0 1 2 4]\n"
     ]
    },
    {
     "name": "stderr",
     "output_type": "stream",
     "text": [
      "\n"
     ]
    }
   ],
   "source": [
    "for case_name in tqdm(case_list):\n",
    "    preds = infer(case_name, 'seg', '../UNet-ResidualBlock-Expansion_210_end_to_end_manual/UNet-ResidualBlock-Expansion-BRATS2018-End-to-End_batch6_training_epochs15_Adam_scheduler-step10-gamma1.0_lr5e-05_w_decay3e-05/trained_model.pt',\\\n",
    "                 device)\n",
    "    assert preds.shape == (155, 240, 240)\n",
    "    print(f'{time_stamp()} Finish {case_name}.')\n",
    "    \n",
    "    # map label (0, 1, 2, 3) to (0, 1, 2, 4)\n",
    "    preds = preds + (preds == 3).astype(np.uint8) * np.ones((155, 240, 240))\n",
    "    preds = preds.astype(np.uint8)\n",
    "    print(np.unique(preds))\n",
    "    \n",
    "    img = nib.Nifti1Image(preds.transpose(1, 2, 0), affine=None)\n",
    "    nib.save(img, os.path.join('validations', case_name + '.nii.gz'))"
   ]
  }
 ],
 "metadata": {
  "kernelspec": {
   "display_name": "Python 3",
   "language": "python",
   "name": "python3"
  },
  "language_info": {
   "codemirror_mode": {
    "name": "ipython",
    "version": 3
   },
   "file_extension": ".py",
   "mimetype": "text/x-python",
   "name": "python",
   "nbconvert_exporter": "python",
   "pygments_lexer": "ipython3",
   "version": "3.6.7"
  }
 },
 "nbformat": 4,
 "nbformat_minor": 2
}
