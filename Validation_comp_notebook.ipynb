{
 "cells": [
  {
   "cell_type": "code",
   "execution_count": 1,
   "metadata": {},
   "outputs": [],
   "source": [
    "import torch\n",
    "import torch.nn as nn\n",
    "import torch.optim as optim\n",
    "from torch.utils.data import DataLoader\n",
    "from torchvision import transforms\n",
    "from torchvision import models\n",
    "from torchvision.models.vgg import VGG\n",
    "from PIL import Image\n",
    "import numpy as np\n",
    "import os\n",
    "import nibabel as nib\n",
    "import time\n",
    "import datetime\n",
    "import torch.nn.functional as F\n",
    "from models.unet import UNet\n",
    "import matplotlib.pyplot as plt\n",
    "from metrics.torch_seg_metrics import dice_score, iou\n",
    "from datasets.BRATS2018 import ToTensorVal, NormalizeBRATSVal, ZeroPadVal\n",
    "from tqdm import tqdm"
   ]
  },
  {
   "cell_type": "code",
   "execution_count": 2,
   "metadata": {},
   "outputs": [],
   "source": [
    "# helper functions\n",
    "def time_stamp() -> str:\n",
    "    ts = time.time()\n",
    "    time_stamp = datetime.datetime.fromtimestamp(ts).strftime('%Y-%m-%d %H:%M:%S')\n",
    "    return time_stamp"
   ]
  },
  {
   "cell_type": "code",
   "execution_count": 3,
   "metadata": {},
   "outputs": [],
   "source": [
    "def infer(case_name, seg_type, model_path, device):\n",
    "    case_dir = os.path.join(val_dir, case_name)\n",
    "    if seg_type == 'et' or seg_type == 'tc':\n",
    "        scan_path = os.path.join(case_dir, case_name + '_t1ce.nii.gz')\n",
    "        sc = nib.load(scan_path)\n",
    "        sc = sc.get_data()\n",
    "        sc = sc.transpose((2, 0, 1))\n",
    "        assert sc.shape == (155, 240, 240)\n",
    "        \n",
    "        model = UNet(n_channels=1, n_classes=1)\n",
    "    elif seg_type == 'wt':\n",
    "        t2_path = os.path.join(case_dir, case_name + '_t2.nii.gz')\n",
    "        flair_path = os.path.join(case_dir, case_name + '_flair.nii.gz')\n",
    "        t2 = nib.load(t2_path).get_data()\n",
    "        flair = nib.load(flair_path).get_data()\n",
    "        sc = np.array([t2, flair]).transpose((3, 0, 1, 2))\n",
    "        assert sc.shape == (155, 2, 240, 240)\n",
    "        \n",
    "        model = UNet(n_channels=2, n_classes=1)\n",
    "    else:\n",
    "        raise ValueError('seg_type should only be et, tc or wt')\n",
    "    \n",
    "    model.load_state_dict(torch.load(model_path, map_location=device))\n",
    "    model.to(device)\n",
    "    model.eval()\n",
    "    \n",
    "    preds = np.zeros((155, 240, 240))\n",
    "    \n",
    "    for i in range(155):\n",
    "        slice_i = sc[i]\n",
    "        if not seg_type == 'wt':\n",
    "            slice_i = np.expand_dims(slice_i, axis=0)\n",
    "            assert slice_i.shape == (1, 240, 240)\n",
    "        else:\n",
    "            assert slice_i.shape == (2, 240, 240)\n",
    "        \n",
    "        normalize = NormalizeBRATSVal()\n",
    "        totensor = ToTensorVal()\n",
    "        \n",
    "        slice_i = normalize(slice_i)\n",
    "        slice_i = totensor(slice_i)\n",
    "        \n",
    "        # unsqueeze the dimension to 4, NxCxHxW\n",
    "        slice_i = torch.unsqueeze(slice_i, dim=0)\n",
    "        slice_i = slice_i.to(device)\n",
    "        with torch.no_grad():\n",
    "            output = model(slice_i)\n",
    "            pred = torch.sigmoid(output) > 0.5\n",
    "        \n",
    "        # squeeze the dimension down to 2, HxW\n",
    "        pred = torch.squeeze(pred)\n",
    "        pred = pred.cpu().numpy()\n",
    "        preds[i] = pred\n",
    "            \n",
    "    \n",
    "    np.save(os.path.join(case_dir, case_name + f'_{seg_type}'), preds)\n",
    "    return preds\n",
    "    "
   ]
  },
  {
   "cell_type": "markdown",
   "metadata": {},
   "source": [
    "# sorted validation cases"
   ]
  },
  {
   "cell_type": "code",
   "execution_count": 53,
   "metadata": {},
   "outputs": [],
   "source": [
    "case_list = sorted(os.listdir('BRATS2018_Validation/'))\n",
    "val_dir = 'BRATS2018_Validation/'\n",
    "device = torch.device('cuda:0' if torch.cuda.is_available() else 'cpu')\n",
    "if not os.path.exists('validations/'):\n",
    "    os.makedirs('validations/')"
   ]
  },
  {
   "cell_type": "code",
   "execution_count": 9,
   "metadata": {},
   "outputs": [
    {
     "name": "stdout",
     "output_type": "stream",
     "text": [
      "torch.Size([240, 240]) 0\n",
      "torch.Size([240, 240]) 1\n",
      "torch.Size([240, 240]) 2\n",
      "torch.Size([240, 240]) 3\n",
      "torch.Size([240, 240]) 4\n",
      "torch.Size([240, 240]) 5\n",
      "torch.Size([240, 240]) 6\n",
      "torch.Size([240, 240]) 7\n",
      "torch.Size([240, 240]) 8\n",
      "torch.Size([240, 240]) 9\n",
      "torch.Size([240, 240]) 10\n",
      "torch.Size([240, 240]) 11\n",
      "torch.Size([240, 240]) 12\n",
      "torch.Size([240, 240]) 13\n",
      "torch.Size([240, 240]) 14\n",
      "torch.Size([240, 240]) 15\n",
      "torch.Size([240, 240]) 16\n",
      "torch.Size([240, 240]) 17\n",
      "torch.Size([240, 240]) 18\n",
      "torch.Size([240, 240]) 19\n",
      "torch.Size([240, 240]) 20\n",
      "torch.Size([240, 240]) 21\n",
      "torch.Size([240, 240]) 22\n",
      "torch.Size([240, 240]) 23\n",
      "torch.Size([240, 240]) 24\n",
      "torch.Size([240, 240]) 25\n",
      "torch.Size([240, 240]) 26\n",
      "torch.Size([240, 240]) 27\n",
      "torch.Size([240, 240]) 28\n",
      "torch.Size([240, 240]) 29\n",
      "torch.Size([240, 240]) 30\n",
      "torch.Size([240, 240]) 31\n",
      "torch.Size([240, 240]) 32\n",
      "torch.Size([240, 240]) 33\n",
      "torch.Size([240, 240]) 34\n",
      "torch.Size([240, 240]) 35\n",
      "torch.Size([240, 240]) 36\n",
      "torch.Size([240, 240]) 37\n",
      "torch.Size([240, 240]) 38\n",
      "torch.Size([240, 240]) 39\n",
      "torch.Size([240, 240]) 40\n",
      "torch.Size([240, 240]) 41\n",
      "torch.Size([240, 240]) 42\n",
      "torch.Size([240, 240]) 43\n",
      "torch.Size([240, 240]) 44\n",
      "torch.Size([240, 240]) 45\n",
      "torch.Size([240, 240]) 46\n",
      "torch.Size([240, 240]) 47\n",
      "torch.Size([240, 240]) 48\n",
      "torch.Size([240, 240]) 49\n",
      "torch.Size([240, 240]) 50\n",
      "torch.Size([240, 240]) 51\n",
      "torch.Size([240, 240]) 52\n",
      "torch.Size([240, 240]) 53\n",
      "torch.Size([240, 240]) 54\n",
      "torch.Size([240, 240]) 55\n",
      "torch.Size([240, 240]) 56\n",
      "torch.Size([240, 240]) 57\n",
      "torch.Size([240, 240]) 58\n",
      "torch.Size([240, 240]) 59\n",
      "torch.Size([240, 240]) 60\n",
      "torch.Size([240, 240]) 61\n",
      "torch.Size([240, 240]) 62\n",
      "torch.Size([240, 240]) 63\n",
      "torch.Size([240, 240]) 64\n",
      "torch.Size([240, 240]) 65\n",
      "torch.Size([240, 240]) 66\n",
      "torch.Size([240, 240]) 67\n",
      "torch.Size([240, 240]) 68\n",
      "torch.Size([240, 240]) 69\n",
      "torch.Size([240, 240]) 70\n",
      "torch.Size([240, 240]) 71\n",
      "torch.Size([240, 240]) 72\n",
      "torch.Size([240, 240]) 73\n",
      "torch.Size([240, 240]) 74\n",
      "torch.Size([240, 240]) 75\n",
      "torch.Size([240, 240]) 76\n",
      "torch.Size([240, 240]) 77\n",
      "torch.Size([240, 240]) 78\n",
      "torch.Size([240, 240]) 79\n",
      "torch.Size([240, 240]) 80\n",
      "torch.Size([240, 240]) 81\n",
      "torch.Size([240, 240]) 82\n",
      "torch.Size([240, 240]) 83\n",
      "torch.Size([240, 240]) 84\n",
      "torch.Size([240, 240]) 85\n",
      "torch.Size([240, 240]) 86\n",
      "torch.Size([240, 240]) 87\n",
      "torch.Size([240, 240]) 88\n",
      "torch.Size([240, 240]) 89\n",
      "torch.Size([240, 240]) 90\n",
      "torch.Size([240, 240]) 91\n",
      "torch.Size([240, 240]) 92\n",
      "torch.Size([240, 240]) 93\n",
      "torch.Size([240, 240]) 94\n",
      "torch.Size([240, 240]) 95\n",
      "torch.Size([240, 240]) 96\n",
      "torch.Size([240, 240]) 97\n",
      "torch.Size([240, 240]) 98\n",
      "torch.Size([240, 240]) 99\n",
      "torch.Size([240, 240]) 100\n",
      "torch.Size([240, 240]) 101\n",
      "torch.Size([240, 240]) 102\n",
      "torch.Size([240, 240]) 103\n",
      "torch.Size([240, 240]) 104\n",
      "torch.Size([240, 240]) 105\n",
      "torch.Size([240, 240]) 106\n",
      "torch.Size([240, 240]) 107\n",
      "torch.Size([240, 240]) 108\n",
      "torch.Size([240, 240]) 109\n",
      "torch.Size([240, 240]) 110\n",
      "torch.Size([240, 240]) 111\n",
      "torch.Size([240, 240]) 112\n",
      "torch.Size([240, 240]) 113\n",
      "torch.Size([240, 240]) 114\n",
      "torch.Size([240, 240]) 115\n",
      "torch.Size([240, 240]) 116\n",
      "torch.Size([240, 240]) 117\n",
      "torch.Size([240, 240]) 118\n",
      "torch.Size([240, 240]) 119\n",
      "torch.Size([240, 240]) 120\n",
      "torch.Size([240, 240]) 121\n",
      "torch.Size([240, 240]) 122\n",
      "torch.Size([240, 240]) 123\n",
      "torch.Size([240, 240]) 124\n",
      "torch.Size([240, 240]) 125\n",
      "torch.Size([240, 240]) 126\n",
      "torch.Size([240, 240]) 127\n",
      "torch.Size([240, 240]) 128\n",
      "torch.Size([240, 240]) 129\n",
      "torch.Size([240, 240]) 130\n",
      "torch.Size([240, 240]) 131\n",
      "torch.Size([240, 240]) 132\n",
      "torch.Size([240, 240]) 133\n",
      "torch.Size([240, 240]) 134\n",
      "torch.Size([240, 240]) 135\n",
      "torch.Size([240, 240]) 136\n",
      "torch.Size([240, 240]) 137\n",
      "torch.Size([240, 240]) 138\n",
      "torch.Size([240, 240]) 139\n",
      "torch.Size([240, 240]) 140\n",
      "torch.Size([240, 240]) 141\n",
      "torch.Size([240, 240]) 142\n",
      "torch.Size([240, 240]) 143\n",
      "torch.Size([240, 240]) 144\n",
      "torch.Size([240, 240]) 145\n",
      "torch.Size([240, 240]) 146\n",
      "torch.Size([240, 240]) 147\n",
      "torch.Size([240, 240]) 148\n",
      "torch.Size([240, 240]) 149\n",
      "torch.Size([240, 240]) 150\n",
      "torch.Size([240, 240]) 151\n",
      "torch.Size([240, 240]) 152\n",
      "torch.Size([240, 240]) 153\n",
      "torch.Size([240, 240]) 154\n"
     ]
    }
   ],
   "source": [
    "infer('Brats18_CBICA_AAM_1',\\\n",
    "      'wt',\\\n",
    "      '../UNet_BraTS_DiceLoss_WT_210_manual/UNets-BRATS2018-WT-210-T2-Flair_batch6_training_epochs10_Adam_scheduler-step10-gamma1.0_lr1e-05_w_decay1e-05/trained_model.pt',\\\n",
    "      device)"
   ]
  },
  {
   "cell_type": "code",
   "execution_count": 54,
   "metadata": {},
   "outputs": [
    {
     "name": "stderr",
     "output_type": "stream",
     "text": [
      "\n",
      "\n",
      "  0%|          | 0/66 [00:00<?, ?it/s]\u001b[A\u001b[A"
     ]
    },
    {
     "name": "stdout",
     "output_type": "stream",
     "text": [
      "2019-05-01 15:25:21 Finish Brats18_CBICA_AAM_1 whole tumor.\n",
      "2019-05-01 15:25:37 Finish Brats18_CBICA_AAM_1 enhancing tumor.\n",
      "2019-05-01 15:25:53 Finish Brats18_CBICA_AAM_1 tumor core.\n"
     ]
    },
    {
     "name": "stderr",
     "output_type": "stream",
     "text": [
      "\n",
      "\n",
      "  2%|▏         | 1/66 [00:49<53:23, 49.29s/it]\u001b[A\u001b[A"
     ]
    },
    {
     "name": "stdout",
     "output_type": "stream",
     "text": [
      "[0 1 2 4]\n",
      "2019-05-01 15:26:11 Finish Brats18_CBICA_ABT_1 whole tumor.\n",
      "2019-05-01 15:26:27 Finish Brats18_CBICA_ABT_1 enhancing tumor.\n",
      "2019-05-01 15:26:43 Finish Brats18_CBICA_ABT_1 tumor core.\n"
     ]
    },
    {
     "name": "stderr",
     "output_type": "stream",
     "text": [
      "\n",
      "\n",
      "  3%|▎         | 2/66 [01:39<52:44, 49.45s/it]\u001b[A\u001b[A"
     ]
    },
    {
     "name": "stdout",
     "output_type": "stream",
     "text": [
      "[0 1 2 4]\n",
      "2019-05-01 15:27:00 Finish Brats18_CBICA_ALA_1 whole tumor.\n",
      "2019-05-01 15:27:17 Finish Brats18_CBICA_ALA_1 enhancing tumor.\n",
      "2019-05-01 15:27:33 Finish Brats18_CBICA_ALA_1 tumor core.\n"
     ]
    },
    {
     "name": "stderr",
     "output_type": "stream",
     "text": [
      "\n",
      "\n",
      "  5%|▍         | 3/66 [02:28<51:59, 49.51s/it]\u001b[A\u001b[A"
     ]
    },
    {
     "name": "stdout",
     "output_type": "stream",
     "text": [
      "[0 1 2 4]\n",
      "2019-05-01 15:27:50 Finish Brats18_CBICA_ALT_1 whole tumor.\n",
      "2019-05-01 15:28:06 Finish Brats18_CBICA_ALT_1 enhancing tumor.\n",
      "2019-05-01 15:28:23 Finish Brats18_CBICA_ALT_1 tumor core.\n"
     ]
    },
    {
     "name": "stderr",
     "output_type": "stream",
     "text": [
      "\n",
      "\n",
      "  6%|▌         | 4/66 [03:18<51:17, 49.63s/it]\u001b[A\u001b[A"
     ]
    },
    {
     "name": "stdout",
     "output_type": "stream",
     "text": [
      "[0 1 2 4]\n",
      "2019-05-01 15:28:40 Finish Brats18_CBICA_ALV_1 whole tumor.\n",
      "2019-05-01 15:28:56 Finish Brats18_CBICA_ALV_1 enhancing tumor.\n",
      "2019-05-01 15:29:13 Finish Brats18_CBICA_ALV_1 tumor core.\n"
     ]
    },
    {
     "name": "stderr",
     "output_type": "stream",
     "text": [
      "\n",
      "\n",
      "  8%|▊         | 5/66 [04:08<50:35, 49.76s/it]\u001b[A\u001b[A"
     ]
    },
    {
     "name": "stdout",
     "output_type": "stream",
     "text": [
      "[0 1 2 4]\n",
      "2019-05-01 15:29:30 Finish Brats18_CBICA_ALZ_1 whole tumor.\n",
      "2019-05-01 15:29:46 Finish Brats18_CBICA_ALZ_1 enhancing tumor.\n",
      "2019-05-01 15:30:03 Finish Brats18_CBICA_ALZ_1 tumor core.\n"
     ]
    },
    {
     "name": "stderr",
     "output_type": "stream",
     "text": [
      "\n",
      "\n",
      "  9%|▉         | 6/66 [04:58<49:53, 49.90s/it]\u001b[A\u001b[A"
     ]
    },
    {
     "name": "stdout",
     "output_type": "stream",
     "text": [
      "[0 1 2 4]\n",
      "2019-05-01 15:30:20 Finish Brats18_CBICA_AMF_1 whole tumor.\n",
      "2019-05-01 15:30:37 Finish Brats18_CBICA_AMF_1 enhancing tumor.\n",
      "2019-05-01 15:30:53 Finish Brats18_CBICA_AMF_1 tumor core.\n"
     ]
    },
    {
     "name": "stderr",
     "output_type": "stream",
     "text": [
      "\n",
      "\n",
      " 11%|█         | 7/66 [05:49<49:11, 50.02s/it]\u001b[A\u001b[A"
     ]
    },
    {
     "name": "stdout",
     "output_type": "stream",
     "text": [
      "[0 1 2 4]\n",
      "2019-05-01 15:31:11 Finish Brats18_CBICA_AMU_1 whole tumor.\n",
      "2019-05-01 15:31:28 Finish Brats18_CBICA_AMU_1 enhancing tumor.\n",
      "2019-05-01 15:31:44 Finish Brats18_CBICA_AMU_1 tumor core.\n"
     ]
    },
    {
     "name": "stderr",
     "output_type": "stream",
     "text": [
      "\n",
      "\n",
      " 12%|█▏        | 8/66 [06:40<48:39, 50.34s/it]\u001b[A\u001b[A"
     ]
    },
    {
     "name": "stdout",
     "output_type": "stream",
     "text": [
      "[0 1 2 4]\n",
      "2019-05-01 15:32:02 Finish Brats18_CBICA_ANK_1 whole tumor.\n",
      "2019-05-01 15:32:18 Finish Brats18_CBICA_ANK_1 enhancing tumor.\n",
      "2019-05-01 15:32:35 Finish Brats18_CBICA_ANK_1 tumor core.\n"
     ]
    },
    {
     "name": "stderr",
     "output_type": "stream",
     "text": [
      "\n",
      "\n",
      " 14%|█▎        | 9/66 [07:30<47:51, 50.38s/it]\u001b[A\u001b[A"
     ]
    },
    {
     "name": "stdout",
     "output_type": "stream",
     "text": [
      "[0 1 2 4]\n",
      "2019-05-01 15:32:52 Finish Brats18_CBICA_APM_1 whole tumor.\n",
      "2019-05-01 15:33:09 Finish Brats18_CBICA_APM_1 enhancing tumor.\n",
      "2019-05-01 15:33:25 Finish Brats18_CBICA_APM_1 tumor core.\n"
     ]
    },
    {
     "name": "stderr",
     "output_type": "stream",
     "text": [
      "\n",
      "\n",
      " 15%|█▌        | 10/66 [08:21<47:03, 50.41s/it]\u001b[A\u001b[A"
     ]
    },
    {
     "name": "stdout",
     "output_type": "stream",
     "text": [
      "[0 1 2 4]\n",
      "2019-05-01 15:33:43 Finish Brats18_CBICA_AQE_1 whole tumor.\n",
      "2019-05-01 15:34:00 Finish Brats18_CBICA_AQE_1 enhancing tumor.\n",
      "2019-05-01 15:34:16 Finish Brats18_CBICA_AQE_1 tumor core.\n"
     ]
    },
    {
     "name": "stderr",
     "output_type": "stream",
     "text": [
      "\n",
      "\n",
      " 17%|█▋        | 11/66 [09:12<46:20, 50.56s/it]\u001b[A\u001b[A"
     ]
    },
    {
     "name": "stdout",
     "output_type": "stream",
     "text": [
      "[0 1 2 4]\n",
      "2019-05-01 15:34:34 Finish Brats18_CBICA_ARR_1 whole tumor.\n",
      "2019-05-01 15:34:50 Finish Brats18_CBICA_ARR_1 enhancing tumor.\n",
      "2019-05-01 15:35:07 Finish Brats18_CBICA_ARR_1 tumor core.\n"
     ]
    },
    {
     "name": "stderr",
     "output_type": "stream",
     "text": [
      "\n",
      "\n",
      " 18%|█▊        | 12/66 [10:02<45:29, 50.55s/it]\u001b[A\u001b[A"
     ]
    },
    {
     "name": "stdout",
     "output_type": "stream",
     "text": [
      "[0 1 2 4]\n",
      "2019-05-01 15:35:24 Finish Brats18_CBICA_ATW_1 whole tumor.\n",
      "2019-05-01 15:35:41 Finish Brats18_CBICA_ATW_1 enhancing tumor.\n",
      "2019-05-01 15:35:57 Finish Brats18_CBICA_ATW_1 tumor core.\n"
     ]
    },
    {
     "name": "stderr",
     "output_type": "stream",
     "text": [
      "\n",
      "\n",
      " 20%|█▉        | 13/66 [10:53<44:38, 50.54s/it]\u001b[A\u001b[A"
     ]
    },
    {
     "name": "stdout",
     "output_type": "stream",
     "text": [
      "[0 1 2 4]\n",
      "2019-05-01 15:36:15 Finish Brats18_CBICA_AUC_1 whole tumor.\n",
      "2019-05-01 15:36:31 Finish Brats18_CBICA_AUC_1 enhancing tumor.\n",
      "2019-05-01 15:36:48 Finish Brats18_CBICA_AUC_1 tumor core.\n"
     ]
    },
    {
     "name": "stderr",
     "output_type": "stream",
     "text": [
      "\n",
      "\n",
      " 21%|██        | 14/66 [11:43<43:47, 50.54s/it]\u001b[A\u001b[A"
     ]
    },
    {
     "name": "stdout",
     "output_type": "stream",
     "text": [
      "[0 1 2 4]\n",
      "2019-05-01 15:37:05 Finish Brats18_CBICA_AUE_1 whole tumor.\n",
      "2019-05-01 15:37:22 Finish Brats18_CBICA_AUE_1 enhancing tumor.\n",
      "2019-05-01 15:37:38 Finish Brats18_CBICA_AUE_1 tumor core.\n"
     ]
    },
    {
     "name": "stderr",
     "output_type": "stream",
     "text": [
      "\n",
      "\n",
      " 23%|██▎       | 15/66 [12:34<42:59, 50.58s/it]\u001b[A\u001b[A"
     ]
    },
    {
     "name": "stdout",
     "output_type": "stream",
     "text": [
      "[0 1 2 4]\n",
      "2019-05-01 15:37:56 Finish Brats18_CBICA_AZA_1 whole tumor.\n",
      "2019-05-01 15:38:13 Finish Brats18_CBICA_AZA_1 enhancing tumor.\n",
      "2019-05-01 15:38:29 Finish Brats18_CBICA_AZA_1 tumor core.\n"
     ]
    },
    {
     "name": "stderr",
     "output_type": "stream",
     "text": [
      "\n",
      "\n",
      " 24%|██▍       | 16/66 [13:25<42:11, 50.63s/it]\u001b[A\u001b[A"
     ]
    },
    {
     "name": "stdout",
     "output_type": "stream",
     "text": [
      "[0 1 2 4]\n",
      "2019-05-01 15:38:47 Finish Brats18_CBICA_BHF_1 whole tumor.\n",
      "2019-05-01 15:39:04 Finish Brats18_CBICA_BHF_1 enhancing tumor.\n",
      "2019-05-01 15:39:20 Finish Brats18_CBICA_BHF_1 tumor core.\n"
     ]
    },
    {
     "name": "stderr",
     "output_type": "stream",
     "text": [
      "\n",
      "\n",
      " 26%|██▌       | 17/66 [14:16<41:27, 50.77s/it]\u001b[A\u001b[A"
     ]
    },
    {
     "name": "stdout",
     "output_type": "stream",
     "text": [
      "[0 1 2 4]\n",
      "2019-05-01 15:39:39 Finish Brats18_CBICA_BHN_1 whole tumor.\n",
      "2019-05-01 15:39:55 Finish Brats18_CBICA_BHN_1 enhancing tumor.\n",
      "2019-05-01 15:40:12 Finish Brats18_CBICA_BHN_1 tumor core.\n"
     ]
    },
    {
     "name": "stderr",
     "output_type": "stream",
     "text": [
      "\n",
      "\n",
      " 27%|██▋       | 18/66 [15:07<40:45, 50.94s/it]\u001b[A\u001b[A"
     ]
    },
    {
     "name": "stdout",
     "output_type": "stream",
     "text": [
      "[0 1 2 4]\n",
      "2019-05-01 15:40:30 Finish Brats18_CBICA_BKY_1 whole tumor.\n",
      "2019-05-01 15:40:46 Finish Brats18_CBICA_BKY_1 enhancing tumor.\n",
      "2019-05-01 15:41:03 Finish Brats18_CBICA_BKY_1 tumor core.\n"
     ]
    },
    {
     "name": "stderr",
     "output_type": "stream",
     "text": [
      "\n",
      "\n",
      " 29%|██▉       | 19/66 [15:58<39:54, 50.94s/it]\u001b[A\u001b[A"
     ]
    },
    {
     "name": "stdout",
     "output_type": "stream",
     "text": [
      "[0 1 2 4]\n",
      "2019-05-01 15:41:21 Finish Brats18_CBICA_BLI_1 whole tumor.\n",
      "2019-05-01 15:41:37 Finish Brats18_CBICA_BLI_1 enhancing tumor.\n",
      "2019-05-01 15:41:54 Finish Brats18_CBICA_BLI_1 tumor core.\n"
     ]
    },
    {
     "name": "stderr",
     "output_type": "stream",
     "text": [
      "\n",
      "\n",
      " 30%|███       | 20/66 [16:49<39:07, 51.03s/it]\u001b[A\u001b[A"
     ]
    },
    {
     "name": "stdout",
     "output_type": "stream",
     "text": [
      "[0 1 2 4]\n",
      "2019-05-01 15:42:12 Finish Brats18_CBICA_BLK_1 whole tumor.\n",
      "2019-05-01 15:42:29 Finish Brats18_CBICA_BLK_1 enhancing tumor.\n",
      "2019-05-01 15:42:45 Finish Brats18_CBICA_BLK_1 tumor core.\n"
     ]
    },
    {
     "name": "stderr",
     "output_type": "stream",
     "text": [
      "\n",
      "\n",
      " 32%|███▏      | 21/66 [17:41<38:22, 51.17s/it]\u001b[A\u001b[A"
     ]
    },
    {
     "name": "stdout",
     "output_type": "stream",
     "text": [
      "[0 1 2 4]\n",
      "2019-05-01 15:43:03 Finish Brats18_MDA_1012_1 whole tumor.\n",
      "2019-05-01 15:43:20 Finish Brats18_MDA_1012_1 enhancing tumor.\n",
      "2019-05-01 15:43:36 Finish Brats18_MDA_1012_1 tumor core.\n"
     ]
    },
    {
     "name": "stderr",
     "output_type": "stream",
     "text": [
      "\n",
      "\n",
      " 33%|███▎      | 22/66 [18:32<37:29, 51.13s/it]\u001b[A\u001b[A"
     ]
    },
    {
     "name": "stdout",
     "output_type": "stream",
     "text": [
      "[0 1 2 4]\n",
      "2019-05-01 15:43:54 Finish Brats18_MDA_1015_1 whole tumor.\n",
      "2019-05-01 15:44:11 Finish Brats18_MDA_1015_1 enhancing tumor.\n",
      "2019-05-01 15:44:27 Finish Brats18_MDA_1015_1 tumor core.\n"
     ]
    },
    {
     "name": "stderr",
     "output_type": "stream",
     "text": [
      "\n",
      "\n",
      " 35%|███▍      | 23/66 [19:23<36:37, 51.10s/it]\u001b[A\u001b[A"
     ]
    },
    {
     "name": "stdout",
     "output_type": "stream",
     "text": [
      "[0 1 2 4]\n",
      "2019-05-01 15:44:46 Finish Brats18_MDA_1081_1 whole tumor.\n",
      "2019-05-01 15:45:02 Finish Brats18_MDA_1081_1 enhancing tumor.\n",
      "2019-05-01 15:45:19 Finish Brats18_MDA_1081_1 tumor core.\n"
     ]
    },
    {
     "name": "stderr",
     "output_type": "stream",
     "text": [
      "\n",
      "\n",
      " 36%|███▋      | 24/66 [20:14<35:49, 51.18s/it]\u001b[A\u001b[A"
     ]
    },
    {
     "name": "stdout",
     "output_type": "stream",
     "text": [
      "[0 1 2 4]\n",
      "2019-05-01 15:45:37 Finish Brats18_MDA_907_1 whole tumor.\n",
      "2019-05-01 15:45:53 Finish Brats18_MDA_907_1 enhancing tumor.\n",
      "2019-05-01 15:46:10 Finish Brats18_MDA_907_1 tumor core.\n"
     ]
    },
    {
     "name": "stderr",
     "output_type": "stream",
     "text": [
      "\n",
      "\n",
      " 38%|███▊      | 25/66 [21:06<35:00, 51.23s/it]\u001b[A\u001b[A"
     ]
    },
    {
     "name": "stdout",
     "output_type": "stream",
     "text": [
      "[0 1 2 4]\n",
      "2019-05-01 15:46:28 Finish Brats18_MDA_922_1 whole tumor.\n",
      "2019-05-01 15:46:45 Finish Brats18_MDA_922_1 enhancing tumor.\n",
      "2019-05-01 15:47:01 Finish Brats18_MDA_922_1 tumor core.\n"
     ]
    },
    {
     "name": "stderr",
     "output_type": "stream",
     "text": [
      "\n",
      "\n",
      " 39%|███▉      | 26/66 [21:57<34:10, 51.25s/it]\u001b[A\u001b[A"
     ]
    },
    {
     "name": "stdout",
     "output_type": "stream",
     "text": [
      "[0 1 2 4]\n",
      "2019-05-01 15:47:19 Finish Brats18_TCIA02_230_1 whole tumor.\n",
      "2019-05-01 15:47:36 Finish Brats18_TCIA02_230_1 enhancing tumor.\n",
      "2019-05-01 15:47:53 Finish Brats18_TCIA02_230_1 tumor core.\n"
     ]
    },
    {
     "name": "stderr",
     "output_type": "stream",
     "text": [
      "\n",
      "\n",
      " 41%|████      | 27/66 [22:48<33:18, 51.24s/it]\u001b[A\u001b[A"
     ]
    },
    {
     "name": "stdout",
     "output_type": "stream",
     "text": [
      "[0 1 2 4]\n",
      "2019-05-01 15:48:10 Finish Brats18_TCIA02_400_1 whole tumor.\n",
      "2019-05-01 15:48:27 Finish Brats18_TCIA02_400_1 enhancing tumor.\n",
      "2019-05-01 15:48:43 Finish Brats18_TCIA02_400_1 tumor core.\n"
     ]
    },
    {
     "name": "stderr",
     "output_type": "stream",
     "text": [
      "\n",
      "\n",
      " 42%|████▏     | 28/66 [23:39<32:23, 51.13s/it]\u001b[A\u001b[A"
     ]
    },
    {
     "name": "stdout",
     "output_type": "stream",
     "text": [
      "[0 1 2 4]\n",
      "2019-05-01 15:49:02 Finish Brats18_TCIA03_216_1 whole tumor.\n",
      "2019-05-01 15:49:18 Finish Brats18_TCIA03_216_1 enhancing tumor.\n",
      "2019-05-01 15:49:35 Finish Brats18_TCIA03_216_1 tumor core.\n",
      "[0 1 2 4]\n"
     ]
    },
    {
     "name": "stderr",
     "output_type": "stream",
     "text": [
      "\n",
      "\n",
      " 44%|████▍     | 29/66 [24:30<31:35, 51.22s/it]\u001b[A\u001b[A"
     ]
    },
    {
     "name": "stdout",
     "output_type": "stream",
     "text": [
      "2019-05-01 15:49:53 Finish Brats18_TCIA03_288_1 whole tumor.\n",
      "2019-05-01 15:50:10 Finish Brats18_TCIA03_288_1 enhancing tumor.\n",
      "2019-05-01 15:50:26 Finish Brats18_TCIA03_288_1 tumor core.\n"
     ]
    },
    {
     "name": "stderr",
     "output_type": "stream",
     "text": [
      "\n",
      "\n",
      " 45%|████▌     | 30/66 [25:22<30:45, 51.26s/it]\u001b[A\u001b[A"
     ]
    },
    {
     "name": "stdout",
     "output_type": "stream",
     "text": [
      "[0 1 2 4]\n",
      "2019-05-01 15:50:44 Finish Brats18_TCIA03_313_1 whole tumor.\n",
      "2019-05-01 15:51:01 Finish Brats18_TCIA03_313_1 enhancing tumor.\n",
      "2019-05-01 15:51:17 Finish Brats18_TCIA03_313_1 tumor core.\n"
     ]
    },
    {
     "name": "stderr",
     "output_type": "stream",
     "text": [
      "\n",
      "\n",
      " 47%|████▋     | 31/66 [26:13<29:52, 51.21s/it]\u001b[A\u001b[A"
     ]
    },
    {
     "name": "stdout",
     "output_type": "stream",
     "text": [
      "[0 1 2 4]\n",
      "2019-05-01 15:51:35 Finish Brats18_TCIA03_604_1 whole tumor.\n",
      "2019-05-01 15:51:52 Finish Brats18_TCIA03_604_1 enhancing tumor.\n",
      "2019-05-01 15:52:09 Finish Brats18_TCIA03_604_1 tumor core.\n"
     ]
    },
    {
     "name": "stderr",
     "output_type": "stream",
     "text": [
      "\n",
      "\n",
      " 48%|████▊     | 32/66 [27:04<29:00, 51.19s/it]\u001b[A\u001b[A"
     ]
    },
    {
     "name": "stdout",
     "output_type": "stream",
     "text": [
      "[0 1 2 4]\n",
      "2019-05-01 15:52:27 Finish Brats18_TCIA04_212_1 whole tumor.\n",
      "2019-05-01 15:52:43 Finish Brats18_TCIA04_212_1 enhancing tumor.\n",
      "2019-05-01 15:53:00 Finish Brats18_TCIA04_212_1 tumor core.\n",
      "[0 1 2 4]\n"
     ]
    },
    {
     "name": "stderr",
     "output_type": "stream",
     "text": [
      "\n",
      "\n",
      " 50%|█████     | 33/66 [27:56<28:17, 51.43s/it]\u001b[A\u001b[A"
     ]
    },
    {
     "name": "stdout",
     "output_type": "stream",
     "text": [
      "2019-05-01 15:53:18 Finish Brats18_TCIA04_253_1 whole tumor.\n",
      "2019-05-01 15:53:35 Finish Brats18_TCIA04_253_1 enhancing tumor.\n",
      "2019-05-01 15:53:52 Finish Brats18_TCIA04_253_1 tumor core.\n"
     ]
    },
    {
     "name": "stderr",
     "output_type": "stream",
     "text": [
      "\n",
      "\n",
      " 52%|█████▏    | 34/66 [28:47<27:21, 51.31s/it]\u001b[A\u001b[A"
     ]
    },
    {
     "name": "stdout",
     "output_type": "stream",
     "text": [
      "[0 1 2 4]\n",
      "2019-05-01 15:54:09 Finish Brats18_TCIA07_600_1 whole tumor.\n",
      "2019-05-01 15:54:26 Finish Brats18_TCIA07_600_1 enhancing tumor.\n",
      "2019-05-01 15:54:42 Finish Brats18_TCIA07_600_1 tumor core.\n"
     ]
    },
    {
     "name": "stderr",
     "output_type": "stream",
     "text": [
      "\n",
      "\n",
      " 53%|█████▎    | 35/66 [29:38<26:24, 51.12s/it]\u001b[A\u001b[A"
     ]
    },
    {
     "name": "stdout",
     "output_type": "stream",
     "text": [
      "[0 1 2 4]\n",
      "2019-05-01 15:55:00 Finish Brats18_TCIA07_601_1 whole tumor.\n",
      "2019-05-01 15:55:17 Finish Brats18_TCIA07_601_1 enhancing tumor.\n",
      "2019-05-01 15:55:33 Finish Brats18_TCIA07_601_1 tumor core.\n"
     ]
    },
    {
     "name": "stderr",
     "output_type": "stream",
     "text": [
      "\n",
      "\n",
      " 55%|█████▍    | 36/66 [30:29<25:33, 51.10s/it]\u001b[A\u001b[A"
     ]
    },
    {
     "name": "stdout",
     "output_type": "stream",
     "text": [
      "[0 1 2 4]\n",
      "2019-05-01 15:55:52 Finish Brats18_TCIA07_602_1 whole tumor.\n",
      "2019-05-01 15:56:08 Finish Brats18_TCIA07_602_1 enhancing tumor.\n",
      "2019-05-01 15:56:25 Finish Brats18_TCIA07_602_1 tumor core.\n"
     ]
    },
    {
     "name": "stderr",
     "output_type": "stream",
     "text": [
      "\n",
      "\n",
      " 56%|█████▌    | 37/66 [31:20<24:45, 51.21s/it]\u001b[A\u001b[A"
     ]
    },
    {
     "name": "stdout",
     "output_type": "stream",
     "text": [
      "[0 1 2 4]\n",
      "2019-05-01 15:56:43 Finish Brats18_TCIA09_248_1 whole tumor.\n",
      "2019-05-01 15:56:59 Finish Brats18_TCIA09_248_1 enhancing tumor.\n",
      "2019-05-01 15:57:16 Finish Brats18_TCIA09_248_1 tumor core.\n"
     ]
    },
    {
     "name": "stderr",
     "output_type": "stream",
     "text": [
      "\n",
      "\n",
      " 58%|█████▊    | 38/66 [32:12<23:54, 51.25s/it]\u001b[A\u001b[A"
     ]
    },
    {
     "name": "stdout",
     "output_type": "stream",
     "text": [
      "[0 2 4]\n",
      "2019-05-01 15:57:34 Finish Brats18_TCIA10_195_1 whole tumor.\n",
      "2019-05-01 15:57:51 Finish Brats18_TCIA10_195_1 enhancing tumor.\n",
      "2019-05-01 15:58:07 Finish Brats18_TCIA10_195_1 tumor core.\n"
     ]
    },
    {
     "name": "stderr",
     "output_type": "stream",
     "text": [
      "\n",
      "\n",
      " 59%|█████▉    | 39/66 [33:03<23:02, 51.22s/it]\u001b[A\u001b[A"
     ]
    },
    {
     "name": "stdout",
     "output_type": "stream",
     "text": [
      "[0 2 4]\n",
      "2019-05-01 15:58:25 Finish Brats18_TCIA10_311_1 whole tumor.\n",
      "2019-05-01 15:58:41 Finish Brats18_TCIA10_311_1 enhancing tumor.\n",
      "2019-05-01 15:58:58 Finish Brats18_TCIA10_311_1 tumor core.\n"
     ]
    },
    {
     "name": "stderr",
     "output_type": "stream",
     "text": [
      "\n",
      "\n",
      " 61%|██████    | 40/66 [33:53<22:07, 51.07s/it]\u001b[A\u001b[A"
     ]
    },
    {
     "name": "stdout",
     "output_type": "stream",
     "text": [
      "[0 1 2 4]\n",
      "2019-05-01 15:59:15 Finish Brats18_TCIA10_609_1 whole tumor.\n",
      "2019-05-01 15:59:32 Finish Brats18_TCIA10_609_1 enhancing tumor.\n",
      "2019-05-01 15:59:49 Finish Brats18_TCIA10_609_1 tumor core.\n"
     ]
    },
    {
     "name": "stderr",
     "output_type": "stream",
     "text": [
      "\n",
      "\n",
      " 62%|██████▏   | 41/66 [34:44<21:14, 50.96s/it]\u001b[A\u001b[A"
     ]
    },
    {
     "name": "stdout",
     "output_type": "stream",
     "text": [
      "[0 2 4]\n",
      "2019-05-01 16:00:06 Finish Brats18_TCIA11_612_1 whole tumor.\n",
      "2019-05-01 16:00:23 Finish Brats18_TCIA11_612_1 enhancing tumor.\n",
      "2019-05-01 16:00:39 Finish Brats18_TCIA11_612_1 tumor core.\n"
     ]
    },
    {
     "name": "stderr",
     "output_type": "stream",
     "text": [
      "\n",
      "\n",
      " 64%|██████▎   | 42/66 [35:35<20:21, 50.88s/it]\u001b[A\u001b[A"
     ]
    },
    {
     "name": "stdout",
     "output_type": "stream",
     "text": [
      "[0 1 2 4]\n",
      "2019-05-01 16:00:57 Finish Brats18_TCIA12_613_1 whole tumor.\n",
      "2019-05-01 16:01:14 Finish Brats18_TCIA12_613_1 enhancing tumor.\n",
      "2019-05-01 16:01:31 Finish Brats18_TCIA12_613_1 tumor core.\n"
     ]
    },
    {
     "name": "stderr",
     "output_type": "stream",
     "text": [
      "\n",
      "\n",
      " 65%|██████▌   | 43/66 [36:26<19:32, 50.98s/it]\u001b[A\u001b[A"
     ]
    },
    {
     "name": "stdout",
     "output_type": "stream",
     "text": [
      "[0 2 4]\n",
      "2019-05-01 16:01:48 Finish Brats18_TCIA13_610_1 whole tumor.\n",
      "2019-05-01 16:02:05 Finish Brats18_TCIA13_610_1 enhancing tumor.\n",
      "2019-05-01 16:02:22 Finish Brats18_TCIA13_610_1 tumor core.\n"
     ]
    },
    {
     "name": "stderr",
     "output_type": "stream",
     "text": [
      "\n",
      "\n",
      " 67%|██████▋   | 44/66 [37:17<18:42, 51.02s/it]\u001b[A\u001b[A"
     ]
    },
    {
     "name": "stdout",
     "output_type": "stream",
     "text": [
      "[0 1 2 4]\n",
      "2019-05-01 16:02:39 Finish Brats18_TCIA13_611_1 whole tumor.\n",
      "2019-05-01 16:02:56 Finish Brats18_TCIA13_611_1 enhancing tumor.\n",
      "2019-05-01 16:03:13 Finish Brats18_TCIA13_611_1 tumor core.\n"
     ]
    },
    {
     "name": "stderr",
     "output_type": "stream",
     "text": [
      "\n",
      "\n",
      " 68%|██████▊   | 45/66 [38:08<17:51, 51.03s/it]\u001b[A\u001b[A"
     ]
    },
    {
     "name": "stdout",
     "output_type": "stream",
     "text": [
      "[0 1 2 4]\n",
      "2019-05-01 16:03:30 Finish Brats18_TCIA13_617_1 whole tumor.\n",
      "2019-05-01 16:03:47 Finish Brats18_TCIA13_617_1 enhancing tumor.\n",
      "2019-05-01 16:04:04 Finish Brats18_TCIA13_617_1 tumor core.\n"
     ]
    },
    {
     "name": "stderr",
     "output_type": "stream",
     "text": [
      "\n",
      "\n",
      " 70%|██████▉   | 46/66 [39:00<17:02, 51.11s/it]\u001b[A\u001b[A"
     ]
    },
    {
     "name": "stdout",
     "output_type": "stream",
     "text": [
      "[0 2 4]\n",
      "2019-05-01 16:04:22 Finish Brats18_TCIA13_636_1 whole tumor.\n",
      "2019-05-01 16:04:39 Finish Brats18_TCIA13_636_1 enhancing tumor.\n",
      "2019-05-01 16:04:55 Finish Brats18_TCIA13_636_1 tumor core.\n"
     ]
    },
    {
     "name": "stderr",
     "output_type": "stream",
     "text": [
      "\n",
      "\n",
      " 71%|███████   | 47/66 [39:51<16:11, 51.14s/it]\u001b[A\u001b[A"
     ]
    },
    {
     "name": "stdout",
     "output_type": "stream",
     "text": [
      "[0 1 2 4]\n",
      "2019-05-01 16:05:13 Finish Brats18_TCIA13_638_1 whole tumor.\n",
      "2019-05-01 16:05:30 Finish Brats18_TCIA13_638_1 enhancing tumor.\n",
      "2019-05-01 16:05:46 Finish Brats18_TCIA13_638_1 tumor core.\n"
     ]
    },
    {
     "name": "stderr",
     "output_type": "stream",
     "text": [
      "\n",
      "\n",
      " 73%|███████▎  | 48/66 [40:42<15:20, 51.13s/it]\u001b[A\u001b[A"
     ]
    },
    {
     "name": "stdout",
     "output_type": "stream",
     "text": [
      "[0 1 2 4]\n",
      "2019-05-01 16:06:04 Finish Brats18_TCIA13_646_1 whole tumor.\n",
      "2019-05-01 16:06:21 Finish Brats18_TCIA13_646_1 enhancing tumor.\n",
      "2019-05-01 16:06:37 Finish Brats18_TCIA13_646_1 tumor core.\n"
     ]
    },
    {
     "name": "stderr",
     "output_type": "stream",
     "text": [
      "\n",
      "\n",
      " 74%|███████▍  | 49/66 [41:33<14:29, 51.13s/it]\u001b[A\u001b[A"
     ]
    },
    {
     "name": "stdout",
     "output_type": "stream",
     "text": [
      "[0 2 4]\n",
      "2019-05-01 16:06:55 Finish Brats18_TCIA13_652_1 whole tumor.\n",
      "2019-05-01 16:07:12 Finish Brats18_TCIA13_652_1 enhancing tumor.\n",
      "2019-05-01 16:07:28 Finish Brats18_TCIA13_652_1 tumor core.\n"
     ]
    },
    {
     "name": "stderr",
     "output_type": "stream",
     "text": [
      "\n",
      "\n",
      " 76%|███████▌  | 50/66 [42:24<13:37, 51.07s/it]\u001b[A\u001b[A"
     ]
    },
    {
     "name": "stdout",
     "output_type": "stream",
     "text": [
      "[0 1 2 4]\n",
      "2019-05-01 16:07:46 Finish Brats18_UAB_3446_1 whole tumor.\n",
      "2019-05-01 16:08:03 Finish Brats18_UAB_3446_1 enhancing tumor.\n",
      "2019-05-01 16:08:19 Finish Brats18_UAB_3446_1 tumor core.\n"
     ]
    },
    {
     "name": "stderr",
     "output_type": "stream",
     "text": [
      "\n",
      "\n",
      " 77%|███████▋  | 51/66 [43:15<12:44, 50.97s/it]\u001b[A\u001b[A"
     ]
    },
    {
     "name": "stdout",
     "output_type": "stream",
     "text": [
      "[0 1 2 4]\n",
      "2019-05-01 16:08:37 Finish Brats18_UAB_3448_1 whole tumor.\n",
      "2019-05-01 16:08:53 Finish Brats18_UAB_3448_1 enhancing tumor.\n",
      "2019-05-01 16:09:10 Finish Brats18_UAB_3448_1 tumor core.\n"
     ]
    },
    {
     "name": "stderr",
     "output_type": "stream",
     "text": [
      "\n",
      "\n",
      " 79%|███████▉  | 52/66 [44:05<11:52, 50.92s/it]\u001b[A\u001b[A"
     ]
    },
    {
     "name": "stdout",
     "output_type": "stream",
     "text": [
      "[0 1 2 4]\n",
      "2019-05-01 16:09:28 Finish Brats18_UAB_3449_1 whole tumor.\n",
      "2019-05-01 16:09:44 Finish Brats18_UAB_3449_1 enhancing tumor.\n",
      "2019-05-01 16:10:01 Finish Brats18_UAB_3449_1 tumor core.\n"
     ]
    },
    {
     "name": "stderr",
     "output_type": "stream",
     "text": [
      "\n",
      "\n",
      " 80%|████████  | 53/66 [44:56<11:01, 50.87s/it]\u001b[A\u001b[A"
     ]
    },
    {
     "name": "stdout",
     "output_type": "stream",
     "text": [
      "[0 1 2 4]\n",
      "2019-05-01 16:10:18 Finish Brats18_UAB_3454_1 whole tumor.\n",
      "2019-05-01 16:10:35 Finish Brats18_UAB_3454_1 enhancing tumor.\n",
      "2019-05-01 16:10:51 Finish Brats18_UAB_3454_1 tumor core.\n"
     ]
    },
    {
     "name": "stderr",
     "output_type": "stream",
     "text": [
      "\n",
      "\n",
      " 82%|████████▏ | 54/66 [45:47<10:09, 50.79s/it]\u001b[A\u001b[A"
     ]
    },
    {
     "name": "stdout",
     "output_type": "stream",
     "text": [
      "[0 1 2 4]\n",
      "2019-05-01 16:11:09 Finish Brats18_UAB_3455_1 whole tumor.\n",
      "2019-05-01 16:11:26 Finish Brats18_UAB_3455_1 enhancing tumor.\n",
      "2019-05-01 16:11:42 Finish Brats18_UAB_3455_1 tumor core.\n"
     ]
    },
    {
     "name": "stderr",
     "output_type": "stream",
     "text": [
      "\n",
      "\n",
      " 83%|████████▎ | 55/66 [46:38<09:18, 50.78s/it]\u001b[A\u001b[A"
     ]
    },
    {
     "name": "stdout",
     "output_type": "stream",
     "text": [
      "[0 1 2 4]\n",
      "2019-05-01 16:12:00 Finish Brats18_UAB_3456_1 whole tumor.\n",
      "2019-05-01 16:12:17 Finish Brats18_UAB_3456_1 enhancing tumor.\n",
      "2019-05-01 16:12:33 Finish Brats18_UAB_3456_1 tumor core.\n"
     ]
    },
    {
     "name": "stderr",
     "output_type": "stream",
     "text": [
      "\n",
      "\n",
      " 85%|████████▍ | 56/66 [47:29<08:28, 50.88s/it]\u001b[A\u001b[A"
     ]
    },
    {
     "name": "stdout",
     "output_type": "stream",
     "text": [
      "[0 1 2 4]\n",
      "2019-05-01 16:12:51 Finish Brats18_UAB_3490_1 whole tumor.\n",
      "2019-05-01 16:13:08 Finish Brats18_UAB_3490_1 enhancing tumor.\n",
      "2019-05-01 16:13:24 Finish Brats18_UAB_3490_1 tumor core.\n"
     ]
    },
    {
     "name": "stderr",
     "output_type": "stream",
     "text": [
      "\n",
      "\n",
      " 86%|████████▋ | 57/66 [48:20<07:38, 50.98s/it]\u001b[A\u001b[A"
     ]
    },
    {
     "name": "stdout",
     "output_type": "stream",
     "text": [
      "[0 1 2 4]\n",
      "2019-05-01 16:13:43 Finish Brats18_UAB_3498_1 whole tumor.\n",
      "2019-05-01 16:13:59 Finish Brats18_UAB_3498_1 enhancing tumor.\n",
      "2019-05-01 16:14:16 Finish Brats18_UAB_3498_1 tumor core.\n"
     ]
    },
    {
     "name": "stderr",
     "output_type": "stream",
     "text": [
      "\n",
      "\n",
      " 88%|████████▊ | 58/66 [49:11<06:48, 51.05s/it]\u001b[A\u001b[A"
     ]
    },
    {
     "name": "stdout",
     "output_type": "stream",
     "text": [
      "[0 1 2 4]\n",
      "2019-05-01 16:14:34 Finish Brats18_UAB_3499_1 whole tumor.\n",
      "2019-05-01 16:14:50 Finish Brats18_UAB_3499_1 enhancing tumor.\n",
      "2019-05-01 16:15:07 Finish Brats18_UAB_3499_1 tumor core.\n"
     ]
    },
    {
     "name": "stderr",
     "output_type": "stream",
     "text": [
      "\n",
      "\n",
      " 89%|████████▉ | 59/66 [50:02<05:58, 51.15s/it]\u001b[A\u001b[A"
     ]
    },
    {
     "name": "stdout",
     "output_type": "stream",
     "text": [
      "[0 1 2 4]\n",
      "2019-05-01 16:15:25 Finish Brats18_WashU_S036_1 whole tumor.\n",
      "2019-05-01 16:15:42 Finish Brats18_WashU_S036_1 enhancing tumor.\n",
      "2019-05-01 16:15:58 Finish Brats18_WashU_S036_1 tumor core.\n"
     ]
    },
    {
     "name": "stderr",
     "output_type": "stream",
     "text": [
      "\n",
      "\n",
      " 91%|█████████ | 60/66 [50:54<05:07, 51.21s/it]\u001b[A\u001b[A"
     ]
    },
    {
     "name": "stdout",
     "output_type": "stream",
     "text": [
      "[0 1 2 4]\n",
      "2019-05-01 16:16:16 Finish Brats18_WashU_S037_1 whole tumor.\n",
      "2019-05-01 16:16:33 Finish Brats18_WashU_S037_1 enhancing tumor.\n",
      "2019-05-01 16:16:49 Finish Brats18_WashU_S037_1 tumor core.\n"
     ]
    },
    {
     "name": "stderr",
     "output_type": "stream",
     "text": [
      "\n",
      "\n",
      " 92%|█████████▏| 61/66 [51:45<04:15, 51.19s/it]\u001b[A\u001b[A"
     ]
    },
    {
     "name": "stdout",
     "output_type": "stream",
     "text": [
      "[0 1 2 4]\n",
      "2019-05-01 16:17:09 Finish Brats18_WashU_S041_1 whole tumor.\n",
      "2019-05-01 16:17:25 Finish Brats18_WashU_S041_1 enhancing tumor.\n",
      "2019-05-01 16:17:42 Finish Brats18_WashU_S041_1 tumor core.\n"
     ]
    },
    {
     "name": "stderr",
     "output_type": "stream",
     "text": [
      "\n",
      "\n",
      " 94%|█████████▍| 62/66 [52:38<03:26, 51.61s/it]\u001b[A\u001b[A"
     ]
    },
    {
     "name": "stdout",
     "output_type": "stream",
     "text": [
      "[0 1 2 4]\n",
      "2019-05-01 16:18:00 Finish Brats18_WashU_W033_1 whole tumor.\n",
      "2019-05-01 16:18:17 Finish Brats18_WashU_W033_1 enhancing tumor.\n",
      "2019-05-01 16:18:34 Finish Brats18_WashU_W033_1 tumor core.\n"
     ]
    },
    {
     "name": "stderr",
     "output_type": "stream",
     "text": [
      "\n",
      "\n",
      " 95%|█████████▌| 63/66 [53:29<02:34, 51.63s/it]\u001b[A\u001b[A"
     ]
    },
    {
     "name": "stdout",
     "output_type": "stream",
     "text": [
      "[0 1 2 4]\n",
      "2019-05-01 16:18:52 Finish Brats18_WashU_W038_1 whole tumor.\n",
      "2019-05-01 16:19:10 Finish Brats18_WashU_W038_1 enhancing tumor.\n",
      "2019-05-01 16:19:27 Finish Brats18_WashU_W038_1 tumor core.\n"
     ]
    },
    {
     "name": "stderr",
     "output_type": "stream",
     "text": [
      "\n",
      "\n",
      " 97%|█████████▋| 64/66 [54:22<01:44, 52.10s/it]\u001b[A\u001b[A"
     ]
    },
    {
     "name": "stdout",
     "output_type": "stream",
     "text": [
      "[0 1 2 4]\n",
      "2019-05-01 16:19:45 Finish Brats18_WashU_W047_1 whole tumor.\n",
      "2019-05-01 16:20:01 Finish Brats18_WashU_W047_1 enhancing tumor.\n",
      "2019-05-01 16:20:18 Finish Brats18_WashU_W047_1 tumor core.\n"
     ]
    },
    {
     "name": "stderr",
     "output_type": "stream",
     "text": [
      "\n",
      "\n",
      " 98%|█████████▊| 65/66 [55:14<00:51, 51.87s/it]\u001b[A\u001b[A"
     ]
    },
    {
     "name": "stdout",
     "output_type": "stream",
     "text": [
      "[0 1 2 4]\n",
      "2019-05-01 16:20:36 Finish Brats18_WashU_W053_1 whole tumor.\n",
      "2019-05-01 16:20:53 Finish Brats18_WashU_W053_1 enhancing tumor.\n",
      "2019-05-01 16:21:09 Finish Brats18_WashU_W053_1 tumor core.\n"
     ]
    },
    {
     "name": "stderr",
     "output_type": "stream",
     "text": [
      "\n",
      "\n",
      "100%|██████████| 66/66 [56:05<00:00, 51.62s/it]\u001b[A\u001b[A"
     ]
    },
    {
     "name": "stdout",
     "output_type": "stream",
     "text": [
      "[0 1 2 4]\n"
     ]
    }
   ],
   "source": [
    "for case_name in tqdm(case_list):\n",
    "    preds_wt = infer(case_name, 'wt', '../UNet_BraTS_DiceLoss_WT_210_manual/UNets-BRATS2018-WT-210-T2-Flair_batch6_training_epochs10_Adam_scheduler-step10-gamma1.0_lr1e-05_w_decay1e-05/trained_model.pt',\\\n",
    "         device)\n",
    "    assert preds_wt.shape == (155, 240, 240)\n",
    "    print(f'{time_stamp()} Finish {case_name} whole tumor.')\n",
    "    \n",
    "    preds_et = infer(case_name, 'et', '../UNet_BraTS_DiceLoss_ET_manual/UNets-BRATS2018-ET-DiceLoss_batch6_training_epochs50_Adam_scheduler-step10-gamma1.0_lr0.0001_w_decay1e-05/terminated_model.pt',\\\n",
    "         device)\n",
    "    assert preds_et.shape == (155, 240, 240)\n",
    "    print(f'{time_stamp()} Finish {case_name} enhancing tumor.')\n",
    "    \n",
    "    preds_tc = infer(case_name, 'tc', '../UNet_BraTS_DiceLoss_TC_manual/UNets-BRATS2018-TC-DiceLoss_batch6_training_epochs50_Adam_scheduler-step10-gamma1.0_lr1e-05_w_decay1e-05/terminated_model.pt',\\\n",
    "         device)\n",
    "    assert preds_tc.shape == (155, 240, 240)\n",
    "    print(f'{time_stamp()} Finish {case_name} tumor core.')\n",
    "    \n",
    "    preds_2 = np.logical_xor(preds_wt, preds_tc).astype(np.uint8)\n",
    "    preds_1 = np.logical_xor(preds_tc, preds_et).astype(np.uint8)\n",
    "    preds_4 = preds_et.astype(np.uint8)\n",
    "    \n",
    "    preds_seg = 4 * preds_4 + 2 * preds_2 + preds_1\n",
    "    assert preds_seg.shape == (155, 240, 240)\n",
    "    \n",
    "    # get the mask of which computed label is greater than 4, and set it to 4\n",
    "    preds_seg = preds_seg + (preds_seg > 4).astype(np.uint8) * (4 * np.ones((155, 240, 240)) - preds_seg)\n",
    "    preds_seg = preds_seg + (preds_seg == 3) * np.ones((155, 240, 240))\n",
    "    preds_seg = preds_seg.astype(np.uint8)\n",
    "    print(np.unique(preds_seg))\n",
    "    \n",
    "    img = nib.Nifti1Image(preds_seg.transpose(1, 2, 0), affine=None)\n",
    "    nib.save(img, os.path.join('validations', case_name + '_seg.nii.gz'))\n",
    "    \n",
    "    "
   ]
  }
 ],
 "metadata": {
  "kernelspec": {
   "display_name": "Python 3",
   "language": "python",
   "name": "python3"
  },
  "language_info": {
   "codemirror_mode": {
    "name": "ipython",
    "version": 3
   },
   "file_extension": ".py",
   "mimetype": "text/x-python",
   "name": "python",
   "nbconvert_exporter": "python",
   "pygments_lexer": "ipython3",
   "version": "3.6.7"
  }
 },
 "nbformat": 4,
 "nbformat_minor": 2
}
