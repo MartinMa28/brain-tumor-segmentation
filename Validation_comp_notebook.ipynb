{
 "cells": [
  {
   "cell_type": "code",
   "execution_count": 1,
   "metadata": {},
   "outputs": [],
   "source": [
    "import torch\n",
    "import torch.nn as nn\n",
    "import torch.optim as optim\n",
    "from torch.utils.data import DataLoader\n",
    "from torchvision import transforms\n",
    "from torchvision import models\n",
    "from torchvision.models.vgg import VGG\n",
    "from PIL import Image\n",
    "import numpy as np\n",
    "import os\n",
    "import nibabel as nib\n",
    "import time\n",
    "import datetime\n",
    "import torch.nn.functional as F\n",
    "from models.unet import UNet\n",
    "import matplotlib.pyplot as plt\n",
    "from metrics.torch_seg_metrics import dice_score, iou\n",
    "from datasets.BRATS2018 import ToTensorVal, NormalizeBRATSVal, ZeroPadVal\n",
    "from datasets.BRATS2018_3D import CenterCropBRATS3D, NormalizeBRATS3D\n",
    "from models.resnet3D import resnet50_3D\n",
    "from tqdm import tqdm"
   ]
  },
  {
   "cell_type": "code",
   "execution_count": 2,
   "metadata": {},
   "outputs": [],
   "source": [
    "# helper functions\n",
    "def time_stamp() -> str:\n",
    "    ts = time.time()\n",
    "    time_stamp = datetime.datetime.fromtimestamp(ts).strftime('%Y-%m-%d %H:%M:%S')\n",
    "    return time_stamp"
   ]
  },
  {
   "cell_type": "code",
   "execution_count": 3,
   "metadata": {},
   "outputs": [],
   "source": [
    "def classification_infer(case_name, val_dir, model):\n",
    "    case_dir = os.path.join(val_dir, case_name)\n",
    "    \n",
    "    t1 = nib.load(os.path.join(case_dir, case_name + '_t1.nii.gz')).get_data()\n",
    "    t1ce = nib.load(os.path.join(case_dir, case_name + '_t1ce.nii.gz')).get_data()\n",
    "    t2 = nib.load(os.path.join(case_dir, case_name + '_t2.nii.gz')).get_data()\n",
    "    flair = nib.load(os.path.join(case_dir, case_name + '_flair.nii.gz')).get_data()\n",
    "    \n",
    "    assert t1.shape == (240, 240, 155)\n",
    "    assert t1ce.shape == (240, 240, 155)\n",
    "    assert t2.shape == (240, 240, 155)\n",
    "    assert flair.shape == (240, 240, 155)\n",
    "    \n",
    "    sc = np.array([t1, t1ce, t2, flair])\n",
    "    assert sc.shape == (4, 240, 240, 155)\n",
    "    \n",
    "    # fake label for position\n",
    "    fake_label = np.array([1])\n",
    "    \n",
    "    center_crop = CenterCropBRATS3D()\n",
    "    normalize = NormalizeBRATS3D()\n",
    "    to_tensor = ToTensorVal()\n",
    "    \n",
    "    sc, fake_label = center_crop((sc, fake_label))\n",
    "    sc, fake_label = normalize((sc, fake_label))\n",
    "    sc = to_tensor(sc)\n",
    "    \n",
    "    # unsqueeze to 5-dimension array, NxCxHxWxD\n",
    "    sc = torch.unsqueeze(sc, dim=0)\n",
    "    sc = sc.to(device)\n",
    "    \n",
    "    with torch.no_grad():\n",
    "        label = model(sc)\n",
    "        label = torch.argmax(F.softmax(label, dim=1), dim=1, keepdim=True)\n",
    "    \n",
    "    # squeeze to rank-0 array\n",
    "    label = torch.squeeze(label)\n",
    "    label = label.cpu().numpy()\n",
    "    \n",
    "    return label"
   ]
  },
  {
   "cell_type": "code",
   "execution_count": 4,
   "metadata": {},
   "outputs": [],
   "source": [
    "def infer(case_name, seg_type, model_path, device):\n",
    "    case_dir = os.path.join(val_dir, case_name)\n",
    "    if seg_type == 'et' or seg_type == 'tc':\n",
    "        scan_path = os.path.join(case_dir, case_name + '_t1ce.nii.gz')\n",
    "        sc = nib.load(scan_path)\n",
    "        sc = sc.get_data()\n",
    "        sc = sc.transpose((2, 0, 1))\n",
    "        assert sc.shape == (155, 240, 240)\n",
    "        \n",
    "        model = UNet(n_channels=1, n_classes=1, residual=True)\n",
    "    elif seg_type == 'wt':\n",
    "        t2_path = os.path.join(case_dir, case_name + '_t2.nii.gz')\n",
    "        flair_path = os.path.join(case_dir, case_name + '_flair.nii.gz')\n",
    "        t2 = nib.load(t2_path).get_data()\n",
    "        flair = nib.load(flair_path).get_data()\n",
    "        sc = np.array([t2, flair]).transpose((3, 0, 1, 2))\n",
    "        assert sc.shape == (155, 2, 240, 240)\n",
    "        \n",
    "        model = UNet(n_channels=2, n_classes=1, residual=True)\n",
    "    elif seg_type == 'seg':\n",
    "        t1_path = os.path.join(case_dir, case_name + '_t1.nii.gz')\n",
    "        t1ce_path = os.path.join(case_dir, case_name + '_t1ce.nii.gz')\n",
    "        t2_path = os.path.join(case_dir, case_name + '_t2.nii.gz')\n",
    "        flair_path = os.path.join(case_dir, case_name + '_flair.nii.gz')\n",
    "        \n",
    "        t1 = nib.load(t1_path).get_data()\n",
    "        t1ce = nib.load(t1ce_path).get_data()\n",
    "        t2 = nib.load(t2_path).get_data()\n",
    "        flair = nib.load(flair_path).get_data()\n",
    "        sc = np.array([t1, t1ce, t2, flair]).transpose((3, 0, 1, 2))\n",
    "        assert sc.shape == (155, 4, 240, 240)\n",
    "        \n",
    "        model = UNet(n_channels=4, n_classes=4, residual=True, expansion=2)\n",
    "    else:\n",
    "        raise ValueError('seg_type should only be et, tc, wt or seg')\n",
    "    \n",
    "    model.load_state_dict(torch.load(model_path, map_location=device))\n",
    "    model.to(device)\n",
    "    model.eval()\n",
    "    \n",
    "    preds = np.zeros((155, 240, 240))\n",
    "    \n",
    "    for i in range(155):\n",
    "        slice_i = sc[i]\n",
    "        if seg_type == 'et' or seg_type == 'tc':\n",
    "            slice_i = np.expand_dims(slice_i, axis=0)\n",
    "            assert slice_i.shape == (1, 240, 240)\n",
    "        elif seg_type == 'wt':\n",
    "            assert slice_i.shape == (2, 240, 240)\n",
    "        elif seg_type == 'seg':\n",
    "            assert slice_i.shape == (4, 240, 240)\n",
    "        \n",
    "        normalize = NormalizeBRATSVal()\n",
    "        totensor = ToTensorVal()\n",
    "        \n",
    "        slice_i = normalize(slice_i)\n",
    "        slice_i = totensor(slice_i)\n",
    "        \n",
    "        # unsqueeze the dimension to 4, NxCxHxW\n",
    "        slice_i = torch.unsqueeze(slice_i, dim=0)\n",
    "        slice_i = slice_i.to(device)\n",
    "        with torch.no_grad():\n",
    "            output = model(slice_i)\n",
    "            if seg_type == 'seg':\n",
    "                pred = torch.argmax(F.softmax(output, dim=1), dim=1, keepdim=True)\n",
    "            else:\n",
    "                pred = torch.sigmoid(output) > 0.5\n",
    "        \n",
    "        # squeeze the dimension down to 2, HxW\n",
    "        pred = torch.squeeze(pred)\n",
    "        pred = pred.cpu().numpy()\n",
    "        preds[i] = pred\n",
    "            \n",
    "    \n",
    "    return preds"
   ]
  },
  {
   "cell_type": "markdown",
   "metadata": {},
   "source": [
    "# sorted validation cases"
   ]
  },
  {
   "cell_type": "code",
   "execution_count": 4,
   "metadata": {},
   "outputs": [],
   "source": [
    "case_list = sorted(os.listdir('BRATS2018_Validation/'))\n",
    "val_dir = 'BRATS2018_Validation/'\n",
    "device = torch.device('cuda:0' if torch.cuda.is_available() else 'cpu')\n",
    "if not os.path.exists('validations/'):\n",
    "    os.makedirs('validations/')"
   ]
  },
  {
   "cell_type": "markdown",
   "metadata": {},
   "source": [
    "## do the inference for Wt, ET, and TC separately"
   ]
  },
  {
   "cell_type": "code",
   "execution_count": 5,
   "metadata": {},
   "outputs": [
    {
     "name": "stderr",
     "output_type": "stream",
     "text": [
      "  0%|          | 0/66 [00:00<?, ?it/s]/home/martin/Documents/semantic_segmentation/PyTorch_venv/lib/python3.6/site-packages/torch/nn/modules/upsampling.py:129: UserWarning: nn.Upsample is deprecated. Use nn.functional.interpolate instead.\n",
      "  warnings.warn(\"nn.{} is deprecated. Use nn.functional.interpolate instead.\".format(self.name))\n"
     ]
    },
    {
     "name": "stdout",
     "output_type": "stream",
     "text": [
      "2019-05-03 23:19:10 Finish Brats18_CBICA_AAM_1 whole tumor.\n",
      "2019-05-03 23:19:23 Finish Brats18_CBICA_AAM_1 enhancing tumor.\n",
      "2019-05-03 23:19:36 Finish Brats18_CBICA_AAM_1 tumor core.\n"
     ]
    },
    {
     "name": "stderr",
     "output_type": "stream",
     "text": [
      "\r",
      "  2%|▏         | 1/66 [00:43<47:23, 43.75s/it]"
     ]
    },
    {
     "name": "stdout",
     "output_type": "stream",
     "text": [
      "[0 1 2 4]\n",
      "2019-05-03 23:19:51 Finish Brats18_CBICA_ABT_1 whole tumor.\n",
      "2019-05-03 23:20:04 Finish Brats18_CBICA_ABT_1 enhancing tumor.\n",
      "2019-05-03 23:20:18 Finish Brats18_CBICA_ABT_1 tumor core.\n"
     ]
    },
    {
     "name": "stderr",
     "output_type": "stream",
     "text": [
      "\r",
      "  3%|▎         | 2/66 [01:25<45:55, 43.05s/it]"
     ]
    },
    {
     "name": "stdout",
     "output_type": "stream",
     "text": [
      "[0 1 2 4]\n",
      "2019-05-03 23:20:33 Finish Brats18_CBICA_ALA_1 whole tumor.\n",
      "2019-05-03 23:20:46 Finish Brats18_CBICA_ALA_1 enhancing tumor.\n",
      "2019-05-03 23:21:00 Finish Brats18_CBICA_ALA_1 tumor core.\n"
     ]
    },
    {
     "name": "stderr",
     "output_type": "stream",
     "text": [
      "\r",
      "  5%|▍         | 3/66 [02:07<44:50, 42.71s/it]"
     ]
    },
    {
     "name": "stdout",
     "output_type": "stream",
     "text": [
      "[0 1 2 4]\n",
      "2019-05-03 23:21:15 Finish Brats18_CBICA_ALT_1 whole tumor.\n",
      "2019-05-03 23:21:28 Finish Brats18_CBICA_ALT_1 enhancing tumor.\n",
      "2019-05-03 23:21:42 Finish Brats18_CBICA_ALT_1 tumor core.\n"
     ]
    },
    {
     "name": "stderr",
     "output_type": "stream",
     "text": [
      "\r",
      "  6%|▌         | 4/66 [02:49<43:56, 42.52s/it]"
     ]
    },
    {
     "name": "stdout",
     "output_type": "stream",
     "text": [
      "[0 1 2 4]\n",
      "2019-05-03 23:21:56 Finish Brats18_CBICA_ALV_1 whole tumor.\n",
      "2019-05-03 23:22:10 Finish Brats18_CBICA_ALV_1 enhancing tumor.\n",
      "2019-05-03 23:22:23 Finish Brats18_CBICA_ALV_1 tumor core.\n"
     ]
    },
    {
     "name": "stderr",
     "output_type": "stream",
     "text": [
      "\r",
      "  8%|▊         | 5/66 [03:30<42:44, 42.04s/it]"
     ]
    },
    {
     "name": "stdout",
     "output_type": "stream",
     "text": [
      "[0 1 2 4]\n",
      "2019-05-03 23:22:37 Finish Brats18_CBICA_ALZ_1 whole tumor.\n",
      "2019-05-03 23:22:50 Finish Brats18_CBICA_ALZ_1 enhancing tumor.\n",
      "2019-05-03 23:23:04 Finish Brats18_CBICA_ALZ_1 tumor core.\n"
     ]
    },
    {
     "name": "stderr",
     "output_type": "stream",
     "text": [
      "\r",
      "  9%|▉         | 6/66 [04:11<41:43, 41.73s/it]"
     ]
    },
    {
     "name": "stdout",
     "output_type": "stream",
     "text": [
      "[0 1 2 4]\n",
      "2019-05-03 23:23:18 Finish Brats18_CBICA_AMF_1 whole tumor.\n",
      "2019-05-03 23:23:31 Finish Brats18_CBICA_AMF_1 enhancing tumor.\n",
      "2019-05-03 23:23:45 Finish Brats18_CBICA_AMF_1 tumor core.\n"
     ]
    },
    {
     "name": "stderr",
     "output_type": "stream",
     "text": [
      "\r",
      " 11%|█         | 7/66 [04:52<40:49, 41.51s/it]"
     ]
    },
    {
     "name": "stdout",
     "output_type": "stream",
     "text": [
      "[0 1 2 4]\n",
      "2019-05-03 23:23:59 Finish Brats18_CBICA_AMU_1 whole tumor.\n",
      "2019-05-03 23:24:13 Finish Brats18_CBICA_AMU_1 enhancing tumor.\n",
      "2019-05-03 23:24:26 Finish Brats18_CBICA_AMU_1 tumor core.\n"
     ]
    },
    {
     "name": "stderr",
     "output_type": "stream",
     "text": [
      "\r",
      " 12%|█▏        | 8/66 [05:33<40:02, 41.42s/it]"
     ]
    },
    {
     "name": "stdout",
     "output_type": "stream",
     "text": [
      "[0 1 2 4]\n",
      "2019-05-03 23:24:40 Finish Brats18_CBICA_ANK_1 whole tumor.\n",
      "2019-05-03 23:24:54 Finish Brats18_CBICA_ANK_1 enhancing tumor.\n",
      "2019-05-03 23:25:07 Finish Brats18_CBICA_ANK_1 tumor core.\n"
     ]
    },
    {
     "name": "stderr",
     "output_type": "stream",
     "text": [
      "\r",
      " 14%|█▎        | 9/66 [06:14<39:15, 41.33s/it]"
     ]
    },
    {
     "name": "stdout",
     "output_type": "stream",
     "text": [
      "[0 1 2 4]\n",
      "2019-05-03 23:25:22 Finish Brats18_CBICA_APM_1 whole tumor.\n",
      "2019-05-03 23:25:35 Finish Brats18_CBICA_APM_1 enhancing tumor.\n",
      "2019-05-03 23:25:48 Finish Brats18_CBICA_APM_1 tumor core.\n"
     ]
    },
    {
     "name": "stderr",
     "output_type": "stream",
     "text": [
      "\r",
      " 15%|█▌        | 10/66 [06:55<38:32, 41.29s/it]"
     ]
    },
    {
     "name": "stdout",
     "output_type": "stream",
     "text": [
      "[0 1 2 4]\n",
      "2019-05-03 23:26:03 Finish Brats18_CBICA_AQE_1 whole tumor.\n",
      "2019-05-03 23:26:16 Finish Brats18_CBICA_AQE_1 enhancing tumor.\n",
      "2019-05-03 23:26:29 Finish Brats18_CBICA_AQE_1 tumor core.\n"
     ]
    },
    {
     "name": "stderr",
     "output_type": "stream",
     "text": [
      "\r",
      " 17%|█▋        | 11/66 [07:36<37:47, 41.22s/it]"
     ]
    },
    {
     "name": "stdout",
     "output_type": "stream",
     "text": [
      "[0 1 2 4]\n",
      "2019-05-03 23:26:44 Finish Brats18_CBICA_ARR_1 whole tumor.\n",
      "2019-05-03 23:26:57 Finish Brats18_CBICA_ARR_1 enhancing tumor.\n",
      "2019-05-03 23:27:11 Finish Brats18_CBICA_ARR_1 tumor core.\n"
     ]
    },
    {
     "name": "stderr",
     "output_type": "stream",
     "text": [
      "\r",
      " 18%|█▊        | 12/66 [08:17<37:05, 41.20s/it]"
     ]
    },
    {
     "name": "stdout",
     "output_type": "stream",
     "text": [
      "[0 1 2 4]\n",
      "2019-05-03 23:27:25 Finish Brats18_CBICA_ATW_1 whole tumor.\n",
      "2019-05-03 23:27:38 Finish Brats18_CBICA_ATW_1 enhancing tumor.\n",
      "2019-05-03 23:27:52 Finish Brats18_CBICA_ATW_1 tumor core.\n"
     ]
    },
    {
     "name": "stderr",
     "output_type": "stream",
     "text": [
      "\r",
      " 20%|█▉        | 13/66 [08:58<36:22, 41.18s/it]"
     ]
    },
    {
     "name": "stdout",
     "output_type": "stream",
     "text": [
      "[0 1 2 4]\n",
      "2019-05-03 23:28:07 Finish Brats18_CBICA_AUC_1 whole tumor.\n",
      "2019-05-03 23:28:20 Finish Brats18_CBICA_AUC_1 enhancing tumor.\n",
      "2019-05-03 23:28:34 Finish Brats18_CBICA_AUC_1 tumor core.\n"
     ]
    },
    {
     "name": "stderr",
     "output_type": "stream",
     "text": [
      "\r",
      " 21%|██        | 14/66 [09:41<35:56, 41.47s/it]"
     ]
    },
    {
     "name": "stdout",
     "output_type": "stream",
     "text": [
      "[0 1 2 4]\n",
      "2019-05-03 23:28:49 Finish Brats18_CBICA_AUE_1 whole tumor.\n",
      "2019-05-03 23:29:02 Finish Brats18_CBICA_AUE_1 enhancing tumor.\n",
      "2019-05-03 23:29:16 Finish Brats18_CBICA_AUE_1 tumor core.\n"
     ]
    },
    {
     "name": "stderr",
     "output_type": "stream",
     "text": [
      "\r",
      " 23%|██▎       | 15/66 [10:23<35:22, 41.63s/it]"
     ]
    },
    {
     "name": "stdout",
     "output_type": "stream",
     "text": [
      "[0 1 2 4]\n",
      "2019-05-03 23:29:31 Finish Brats18_CBICA_AZA_1 whole tumor.\n",
      "2019-05-03 23:29:44 Finish Brats18_CBICA_AZA_1 enhancing tumor.\n",
      "2019-05-03 23:29:58 Finish Brats18_CBICA_AZA_1 tumor core.\n"
     ]
    },
    {
     "name": "stderr",
     "output_type": "stream",
     "text": [
      "\r",
      " 24%|██▍       | 16/66 [11:05<34:47, 41.74s/it]"
     ]
    },
    {
     "name": "stdout",
     "output_type": "stream",
     "text": [
      "[0 1 2 4]\n",
      "2019-05-03 23:30:13 Finish Brats18_CBICA_BHF_1 whole tumor.\n",
      "2019-05-03 23:30:27 Finish Brats18_CBICA_BHF_1 enhancing tumor.\n",
      "2019-05-03 23:30:40 Finish Brats18_CBICA_BHF_1 tumor core.\n"
     ]
    },
    {
     "name": "stderr",
     "output_type": "stream",
     "text": [
      "\r",
      " 26%|██▌       | 17/66 [11:47<34:11, 41.88s/it]"
     ]
    },
    {
     "name": "stdout",
     "output_type": "stream",
     "text": [
      "[0 1 2 4]\n",
      "2019-05-03 23:30:55 Finish Brats18_CBICA_BHN_1 whole tumor.\n",
      "2019-05-03 23:31:09 Finish Brats18_CBICA_BHN_1 enhancing tumor.\n",
      "2019-05-03 23:31:22 Finish Brats18_CBICA_BHN_1 tumor core.\n"
     ]
    },
    {
     "name": "stderr",
     "output_type": "stream",
     "text": [
      "\r",
      " 27%|██▋       | 18/66 [12:29<33:30, 41.88s/it]"
     ]
    },
    {
     "name": "stdout",
     "output_type": "stream",
     "text": [
      "[0 1 2 4]\n",
      "2019-05-03 23:31:37 Finish Brats18_CBICA_BKY_1 whole tumor.\n",
      "2019-05-03 23:31:50 Finish Brats18_CBICA_BKY_1 enhancing tumor.\n",
      "2019-05-03 23:32:04 Finish Brats18_CBICA_BKY_1 tumor core.\n"
     ]
    },
    {
     "name": "stderr",
     "output_type": "stream",
     "text": [
      "\r",
      " 29%|██▉       | 19/66 [13:11<32:49, 41.91s/it]"
     ]
    },
    {
     "name": "stdout",
     "output_type": "stream",
     "text": [
      "[0 1 2 4]\n",
      "2019-05-03 23:32:19 Finish Brats18_CBICA_BLI_1 whole tumor.\n",
      "2019-05-03 23:32:32 Finish Brats18_CBICA_BLI_1 enhancing tumor.\n",
      "2019-05-03 23:32:46 Finish Brats18_CBICA_BLI_1 tumor core.\n"
     ]
    },
    {
     "name": "stderr",
     "output_type": "stream",
     "text": [
      "\r",
      " 30%|███       | 20/66 [13:53<32:09, 41.95s/it]"
     ]
    },
    {
     "name": "stdout",
     "output_type": "stream",
     "text": [
      "[0 1 2 4]\n",
      "2019-05-03 23:33:01 Finish Brats18_CBICA_BLK_1 whole tumor.\n",
      "2019-05-03 23:33:15 Finish Brats18_CBICA_BLK_1 enhancing tumor.\n",
      "2019-05-03 23:33:28 Finish Brats18_CBICA_BLK_1 tumor core.\n"
     ]
    },
    {
     "name": "stderr",
     "output_type": "stream",
     "text": [
      "\r",
      " 32%|███▏      | 21/66 [14:35<31:28, 41.97s/it]"
     ]
    },
    {
     "name": "stdout",
     "output_type": "stream",
     "text": [
      "[0 1 2 4]\n",
      "2019-05-03 23:33:43 Finish Brats18_MDA_1012_1 whole tumor.\n",
      "2019-05-03 23:33:56 Finish Brats18_MDA_1012_1 enhancing tumor.\n",
      "2019-05-03 23:34:10 Finish Brats18_MDA_1012_1 tumor core.\n"
     ]
    },
    {
     "name": "stderr",
     "output_type": "stream",
     "text": [
      "\r",
      " 33%|███▎      | 22/66 [15:17<30:45, 41.94s/it]"
     ]
    },
    {
     "name": "stdout",
     "output_type": "stream",
     "text": [
      "[0 1 2 4]\n",
      "2019-05-03 23:34:25 Finish Brats18_MDA_1015_1 whole tumor.\n",
      "2019-05-03 23:34:39 Finish Brats18_MDA_1015_1 enhancing tumor.\n",
      "2019-05-03 23:34:52 Finish Brats18_MDA_1015_1 tumor core.\n"
     ]
    },
    {
     "name": "stderr",
     "output_type": "stream",
     "text": [
      "\r",
      " 35%|███▍      | 23/66 [15:59<30:05, 42.00s/it]"
     ]
    },
    {
     "name": "stdout",
     "output_type": "stream",
     "text": [
      "[0 1 2 4]\n",
      "2019-05-03 23:35:07 Finish Brats18_MDA_1081_1 whole tumor.\n",
      "2019-05-03 23:35:20 Finish Brats18_MDA_1081_1 enhancing tumor.\n",
      "2019-05-03 23:35:34 Finish Brats18_MDA_1081_1 tumor core.\n"
     ]
    },
    {
     "name": "stderr",
     "output_type": "stream",
     "text": [
      "\r",
      " 36%|███▋      | 24/66 [16:41<29:22, 41.97s/it]"
     ]
    },
    {
     "name": "stdout",
     "output_type": "stream",
     "text": [
      "[0 1 2 4]\n",
      "2019-05-03 23:35:49 Finish Brats18_MDA_907_1 whole tumor.\n",
      "2019-05-03 23:36:03 Finish Brats18_MDA_907_1 enhancing tumor.\n",
      "2019-05-03 23:36:16 Finish Brats18_MDA_907_1 tumor core.\n"
     ]
    },
    {
     "name": "stderr",
     "output_type": "stream",
     "text": [
      "\r",
      " 38%|███▊      | 25/66 [17:23<28:44, 42.05s/it]"
     ]
    },
    {
     "name": "stdout",
     "output_type": "stream",
     "text": [
      "[0 1 2 4]\n",
      "2019-05-03 23:36:31 Finish Brats18_MDA_922_1 whole tumor.\n",
      "2019-05-03 23:36:45 Finish Brats18_MDA_922_1 enhancing tumor.\n",
      "2019-05-03 23:36:59 Finish Brats18_MDA_922_1 tumor core.\n"
     ]
    },
    {
     "name": "stderr",
     "output_type": "stream",
     "text": [
      "\r",
      " 39%|███▉      | 26/66 [18:05<28:07, 42.19s/it]"
     ]
    },
    {
     "name": "stdout",
     "output_type": "stream",
     "text": [
      "[0 1 2 4]\n",
      "2019-05-03 23:37:13 Finish Brats18_TCIA02_230_1 whole tumor.\n",
      "2019-05-03 23:37:27 Finish Brats18_TCIA02_230_1 enhancing tumor.\n",
      "2019-05-03 23:37:41 Finish Brats18_TCIA02_230_1 tumor core.\n"
     ]
    },
    {
     "name": "stderr",
     "output_type": "stream",
     "text": [
      "\r",
      " 41%|████      | 27/66 [18:47<27:23, 42.14s/it]"
     ]
    },
    {
     "name": "stdout",
     "output_type": "stream",
     "text": [
      "[0 1 2 4]\n",
      "2019-05-03 23:37:55 Finish Brats18_TCIA02_400_1 whole tumor.\n",
      "2019-05-03 23:38:09 Finish Brats18_TCIA02_400_1 enhancing tumor.\n",
      "2019-05-03 23:38:23 Finish Brats18_TCIA02_400_1 tumor core.\n"
     ]
    },
    {
     "name": "stderr",
     "output_type": "stream",
     "text": [
      "\r",
      " 42%|████▏     | 28/66 [19:29<26:38, 42.07s/it]"
     ]
    },
    {
     "name": "stdout",
     "output_type": "stream",
     "text": [
      "[0 1 2 4]\n",
      "2019-05-03 23:38:37 Finish Brats18_TCIA03_216_1 whole tumor.\n",
      "2019-05-03 23:38:51 Finish Brats18_TCIA03_216_1 enhancing tumor.\n",
      "2019-05-03 23:39:05 Finish Brats18_TCIA03_216_1 tumor core.\n"
     ]
    },
    {
     "name": "stderr",
     "output_type": "stream",
     "text": [
      "\r",
      " 44%|████▍     | 29/66 [20:12<25:59, 42.15s/it]"
     ]
    },
    {
     "name": "stdout",
     "output_type": "stream",
     "text": [
      "[0 1 2 4]\n",
      "2019-05-03 23:39:20 Finish Brats18_TCIA03_288_1 whole tumor.\n",
      "2019-05-03 23:39:33 Finish Brats18_TCIA03_288_1 enhancing tumor.\n",
      "2019-05-03 23:39:47 Finish Brats18_TCIA03_288_1 tumor core.\n"
     ]
    },
    {
     "name": "stderr",
     "output_type": "stream",
     "text": [
      "\r",
      " 45%|████▌     | 30/66 [20:54<25:15, 42.09s/it]"
     ]
    },
    {
     "name": "stdout",
     "output_type": "stream",
     "text": [
      "[0 1 2 4]\n",
      "2019-05-03 23:40:02 Finish Brats18_TCIA03_313_1 whole tumor.\n",
      "2019-05-03 23:40:15 Finish Brats18_TCIA03_313_1 enhancing tumor.\n",
      "2019-05-03 23:40:29 Finish Brats18_TCIA03_313_1 tumor core.\n"
     ]
    },
    {
     "name": "stderr",
     "output_type": "stream",
     "text": [
      "\r",
      " 47%|████▋     | 31/66 [21:36<24:32, 42.06s/it]"
     ]
    },
    {
     "name": "stdout",
     "output_type": "stream",
     "text": [
      "[0 1 2 4]\n",
      "2019-05-03 23:40:44 Finish Brats18_TCIA03_604_1 whole tumor.\n",
      "2019-05-03 23:40:57 Finish Brats18_TCIA03_604_1 enhancing tumor.\n",
      "2019-05-03 23:41:11 Finish Brats18_TCIA03_604_1 tumor core.\n"
     ]
    },
    {
     "name": "stderr",
     "output_type": "stream",
     "text": [
      "\r",
      " 48%|████▊     | 32/66 [22:18<23:48, 42.03s/it]"
     ]
    },
    {
     "name": "stdout",
     "output_type": "stream",
     "text": [
      "[0 1 2 4]\n",
      "2019-05-03 23:41:26 Finish Brats18_TCIA04_212_1 whole tumor.\n",
      "2019-05-03 23:41:39 Finish Brats18_TCIA04_212_1 enhancing tumor.\n",
      "2019-05-03 23:41:53 Finish Brats18_TCIA04_212_1 tumor core.\n"
     ]
    },
    {
     "name": "stderr",
     "output_type": "stream",
     "text": [
      "\r",
      " 50%|█████     | 33/66 [22:59<23:06, 42.00s/it]"
     ]
    },
    {
     "name": "stdout",
     "output_type": "stream",
     "text": [
      "[0 1 2 4]\n",
      "2019-05-03 23:42:07 Finish Brats18_TCIA04_253_1 whole tumor.\n",
      "2019-05-03 23:42:21 Finish Brats18_TCIA04_253_1 enhancing tumor.\n",
      "2019-05-03 23:42:35 Finish Brats18_TCIA04_253_1 tumor core.\n",
      "[0 1 2 4]\n"
     ]
    },
    {
     "name": "stderr",
     "output_type": "stream",
     "text": [
      "\r",
      " 52%|█████▏    | 34/66 [23:42<22:24, 42.01s/it]"
     ]
    },
    {
     "name": "stdout",
     "output_type": "stream",
     "text": [
      "2019-05-03 23:42:50 Finish Brats18_TCIA07_600_1 whole tumor.\n",
      "2019-05-03 23:43:03 Finish Brats18_TCIA07_600_1 enhancing tumor.\n",
      "2019-05-03 23:43:17 Finish Brats18_TCIA07_600_1 tumor core.\n"
     ]
    },
    {
     "name": "stderr",
     "output_type": "stream",
     "text": [
      "\r",
      " 53%|█████▎    | 35/66 [24:24<21:43, 42.04s/it]"
     ]
    },
    {
     "name": "stdout",
     "output_type": "stream",
     "text": [
      "[0 1 2 4]\n",
      "2019-05-03 23:43:32 Finish Brats18_TCIA07_601_1 whole tumor.\n",
      "2019-05-03 23:43:45 Finish Brats18_TCIA07_601_1 enhancing tumor.\n",
      "2019-05-03 23:43:59 Finish Brats18_TCIA07_601_1 tumor core.\n"
     ]
    },
    {
     "name": "stderr",
     "output_type": "stream",
     "text": [
      "\r",
      " 55%|█████▍    | 36/66 [25:06<21:00, 42.01s/it]"
     ]
    },
    {
     "name": "stdout",
     "output_type": "stream",
     "text": [
      "[0 1 2 4]\n",
      "2019-05-03 23:44:14 Finish Brats18_TCIA07_602_1 whole tumor.\n",
      "2019-05-03 23:44:27 Finish Brats18_TCIA07_602_1 enhancing tumor.\n",
      "2019-05-03 23:44:41 Finish Brats18_TCIA07_602_1 tumor core.\n"
     ]
    },
    {
     "name": "stderr",
     "output_type": "stream",
     "text": [
      "\r",
      " 56%|█████▌    | 37/66 [25:48<20:17, 41.99s/it]"
     ]
    },
    {
     "name": "stdout",
     "output_type": "stream",
     "text": [
      "[0 1 2 4]\n",
      "2019-05-03 23:44:55 Finish Brats18_TCIA09_248_1 whole tumor.\n",
      "2019-05-03 23:45:09 Finish Brats18_TCIA09_248_1 enhancing tumor.\n",
      "2019-05-03 23:45:23 Finish Brats18_TCIA09_248_1 tumor core.\n"
     ]
    },
    {
     "name": "stderr",
     "output_type": "stream",
     "text": [
      "\r",
      " 58%|█████▊    | 38/66 [26:29<19:34, 41.96s/it]"
     ]
    },
    {
     "name": "stdout",
     "output_type": "stream",
     "text": [
      "[0 2 4]\n",
      "2019-05-03 23:45:38 Finish Brats18_TCIA10_195_1 whole tumor.\n",
      "2019-05-03 23:45:52 Finish Brats18_TCIA10_195_1 enhancing tumor.\n",
      "2019-05-03 23:46:05 Finish Brats18_TCIA10_195_1 tumor core.\n"
     ]
    },
    {
     "name": "stderr",
     "output_type": "stream",
     "text": [
      "\r",
      " 59%|█████▉    | 39/66 [27:12<18:56, 42.10s/it]"
     ]
    },
    {
     "name": "stdout",
     "output_type": "stream",
     "text": [
      "[0 2 4]\n",
      "2019-05-03 23:46:20 Finish Brats18_TCIA10_311_1 whole tumor.\n",
      "2019-05-03 23:46:34 Finish Brats18_TCIA10_311_1 enhancing tumor.\n",
      "2019-05-03 23:46:47 Finish Brats18_TCIA10_311_1 tumor core.\n"
     ]
    },
    {
     "name": "stderr",
     "output_type": "stream",
     "text": [
      "\r",
      " 61%|██████    | 40/66 [27:54<18:15, 42.14s/it]"
     ]
    },
    {
     "name": "stdout",
     "output_type": "stream",
     "text": [
      "[0 2 4]\n",
      "2019-05-03 23:47:02 Finish Brats18_TCIA10_609_1 whole tumor.\n",
      "2019-05-03 23:47:16 Finish Brats18_TCIA10_609_1 enhancing tumor.\n",
      "2019-05-03 23:47:29 Finish Brats18_TCIA10_609_1 tumor core.\n"
     ]
    },
    {
     "name": "stderr",
     "output_type": "stream",
     "text": [
      "\r",
      " 62%|██████▏   | 41/66 [28:36<17:32, 42.08s/it]"
     ]
    },
    {
     "name": "stdout",
     "output_type": "stream",
     "text": [
      "[0 1 2 4]\n",
      "2019-05-03 23:47:44 Finish Brats18_TCIA11_612_1 whole tumor.\n",
      "2019-05-03 23:47:58 Finish Brats18_TCIA11_612_1 enhancing tumor.\n",
      "2019-05-03 23:48:11 Finish Brats18_TCIA11_612_1 tumor core.\n"
     ]
    },
    {
     "name": "stderr",
     "output_type": "stream",
     "text": [
      "\r",
      " 64%|██████▎   | 42/66 [29:18<16:48, 42.03s/it]"
     ]
    },
    {
     "name": "stdout",
     "output_type": "stream",
     "text": [
      "[0 2]\n",
      "2019-05-03 23:48:26 Finish Brats18_TCIA12_613_1 whole tumor.\n",
      "2019-05-03 23:48:40 Finish Brats18_TCIA12_613_1 enhancing tumor.\n",
      "2019-05-03 23:48:53 Finish Brats18_TCIA12_613_1 tumor core.\n"
     ]
    },
    {
     "name": "stderr",
     "output_type": "stream",
     "text": [
      "\r",
      " 65%|██████▌   | 43/66 [30:00<16:05, 41.98s/it]"
     ]
    },
    {
     "name": "stdout",
     "output_type": "stream",
     "text": [
      "[0]\n",
      "2019-05-03 23:49:08 Finish Brats18_TCIA13_610_1 whole tumor.\n",
      "2019-05-03 23:49:22 Finish Brats18_TCIA13_610_1 enhancing tumor.\n",
      "2019-05-03 23:49:36 Finish Brats18_TCIA13_610_1 tumor core.\n"
     ]
    },
    {
     "name": "stderr",
     "output_type": "stream",
     "text": [
      "\r",
      " 67%|██████▋   | 44/66 [30:43<15:29, 42.25s/it]"
     ]
    },
    {
     "name": "stdout",
     "output_type": "stream",
     "text": [
      "[0 1 2 4]\n",
      "2019-05-03 23:49:51 Finish Brats18_TCIA13_611_1 whole tumor.\n",
      "2019-05-03 23:50:05 Finish Brats18_TCIA13_611_1 enhancing tumor.\n",
      "2019-05-03 23:50:18 Finish Brats18_TCIA13_611_1 tumor core.\n"
     ]
    },
    {
     "name": "stderr",
     "output_type": "stream",
     "text": [
      "\r",
      " 68%|██████▊   | 45/66 [31:25<14:45, 42.19s/it]"
     ]
    },
    {
     "name": "stdout",
     "output_type": "stream",
     "text": [
      "[0 1 2 4]\n",
      "2019-05-03 23:50:33 Finish Brats18_TCIA13_617_1 whole tumor.\n",
      "2019-05-03 23:50:46 Finish Brats18_TCIA13_617_1 enhancing tumor.\n",
      "2019-05-03 23:51:00 Finish Brats18_TCIA13_617_1 tumor core.\n"
     ]
    },
    {
     "name": "stderr",
     "output_type": "stream",
     "text": [
      "\r",
      " 70%|██████▉   | 46/66 [32:07<14:02, 42.12s/it]"
     ]
    },
    {
     "name": "stdout",
     "output_type": "stream",
     "text": [
      "[0 1 2 4]\n",
      "2019-05-03 23:51:15 Finish Brats18_TCIA13_636_1 whole tumor.\n",
      "2019-05-03 23:51:28 Finish Brats18_TCIA13_636_1 enhancing tumor.\n",
      "2019-05-03 23:51:42 Finish Brats18_TCIA13_636_1 tumor core.\n"
     ]
    },
    {
     "name": "stderr",
     "output_type": "stream",
     "text": [
      "\r",
      " 71%|███████   | 47/66 [32:49<13:20, 42.11s/it]"
     ]
    },
    {
     "name": "stdout",
     "output_type": "stream",
     "text": [
      "[0 1 2 4]\n",
      "2019-05-03 23:51:57 Finish Brats18_TCIA13_638_1 whole tumor.\n",
      "2019-05-03 23:52:10 Finish Brats18_TCIA13_638_1 enhancing tumor.\n",
      "2019-05-03 23:52:24 Finish Brats18_TCIA13_638_1 tumor core.\n"
     ]
    },
    {
     "name": "stderr",
     "output_type": "stream",
     "text": [
      "\r",
      " 73%|███████▎  | 48/66 [33:30<12:36, 42.00s/it]"
     ]
    },
    {
     "name": "stdout",
     "output_type": "stream",
     "text": [
      "[0 1 2 4]\n",
      "2019-05-03 23:52:38 Finish Brats18_TCIA13_646_1 whole tumor.\n",
      "2019-05-03 23:52:53 Finish Brats18_TCIA13_646_1 enhancing tumor.\n",
      "2019-05-03 23:53:06 Finish Brats18_TCIA13_646_1 tumor core.\n"
     ]
    },
    {
     "name": "stderr",
     "output_type": "stream",
     "text": [
      "\r",
      " 74%|███████▍  | 49/66 [34:13<11:55, 42.09s/it]"
     ]
    },
    {
     "name": "stdout",
     "output_type": "stream",
     "text": [
      "[0 2 4]\n",
      "2019-05-03 23:53:21 Finish Brats18_TCIA13_652_1 whole tumor.\n",
      "2019-05-03 23:53:35 Finish Brats18_TCIA13_652_1 enhancing tumor.\n",
      "2019-05-03 23:53:48 Finish Brats18_TCIA13_652_1 tumor core.\n"
     ]
    },
    {
     "name": "stderr",
     "output_type": "stream",
     "text": [
      "\r",
      " 76%|███████▌  | 50/66 [34:55<11:12, 42.05s/it]"
     ]
    },
    {
     "name": "stdout",
     "output_type": "stream",
     "text": [
      "[0 2 4]\n",
      "2019-05-03 23:54:03 Finish Brats18_UAB_3446_1 whole tumor.\n",
      "2019-05-03 23:54:16 Finish Brats18_UAB_3446_1 enhancing tumor.\n",
      "2019-05-03 23:54:30 Finish Brats18_UAB_3446_1 tumor core.\n"
     ]
    },
    {
     "name": "stderr",
     "output_type": "stream",
     "text": [
      "\r",
      " 77%|███████▋  | 51/66 [35:37<10:29, 41.99s/it]"
     ]
    },
    {
     "name": "stdout",
     "output_type": "stream",
     "text": [
      "[0 1 2 4]\n",
      "2019-05-03 23:54:45 Finish Brats18_UAB_3448_1 whole tumor.\n",
      "2019-05-03 23:54:58 Finish Brats18_UAB_3448_1 enhancing tumor.\n",
      "2019-05-03 23:55:12 Finish Brats18_UAB_3448_1 tumor core.\n"
     ]
    },
    {
     "name": "stderr",
     "output_type": "stream",
     "text": [
      "\r",
      " 79%|███████▉  | 52/66 [36:19<09:47, 41.98s/it]"
     ]
    },
    {
     "name": "stdout",
     "output_type": "stream",
     "text": [
      "[0 1 2 4]\n",
      "2019-05-03 23:55:27 Finish Brats18_UAB_3449_1 whole tumor.\n",
      "2019-05-03 23:55:40 Finish Brats18_UAB_3449_1 enhancing tumor.\n",
      "2019-05-03 23:55:54 Finish Brats18_UAB_3449_1 tumor core.\n"
     ]
    },
    {
     "name": "stderr",
     "output_type": "stream",
     "text": [
      "\r",
      " 80%|████████  | 53/66 [37:00<09:05, 41.96s/it]"
     ]
    },
    {
     "name": "stdout",
     "output_type": "stream",
     "text": [
      "[0 1 2 4]\n",
      "2019-05-03 23:56:08 Finish Brats18_UAB_3454_1 whole tumor.\n",
      "2019-05-03 23:56:23 Finish Brats18_UAB_3454_1 enhancing tumor.\n",
      "2019-05-03 23:56:37 Finish Brats18_UAB_3454_1 tumor core.\n"
     ]
    },
    {
     "name": "stderr",
     "output_type": "stream",
     "text": [
      "\r",
      " 82%|████████▏ | 54/66 [37:43<08:26, 42.25s/it]"
     ]
    },
    {
     "name": "stdout",
     "output_type": "stream",
     "text": [
      "[0 1 2 4]\n",
      "2019-05-03 23:56:51 Finish Brats18_UAB_3455_1 whole tumor.\n",
      "2019-05-03 23:57:05 Finish Brats18_UAB_3455_1 enhancing tumor.\n",
      "2019-05-03 23:57:18 Finish Brats18_UAB_3455_1 tumor core.\n"
     ]
    },
    {
     "name": "stderr",
     "output_type": "stream",
     "text": [
      "\r",
      " 83%|████████▎ | 55/66 [38:25<07:43, 42.14s/it]"
     ]
    },
    {
     "name": "stdout",
     "output_type": "stream",
     "text": [
      "[0 1 2 4]\n",
      "2019-05-03 23:57:33 Finish Brats18_UAB_3456_1 whole tumor.\n",
      "2019-05-03 23:57:47 Finish Brats18_UAB_3456_1 enhancing tumor.\n",
      "2019-05-03 23:58:01 Finish Brats18_UAB_3456_1 tumor core.\n"
     ]
    },
    {
     "name": "stderr",
     "output_type": "stream",
     "text": [
      "\r",
      " 85%|████████▍ | 56/66 [39:07<07:01, 42.14s/it]"
     ]
    },
    {
     "name": "stdout",
     "output_type": "stream",
     "text": [
      "[0 1 2 4]\n",
      "2019-05-03 23:58:15 Finish Brats18_UAB_3490_1 whole tumor.\n",
      "2019-05-03 23:58:29 Finish Brats18_UAB_3490_1 enhancing tumor.\n",
      "2019-05-03 23:58:43 Finish Brats18_UAB_3490_1 tumor core.\n"
     ]
    },
    {
     "name": "stderr",
     "output_type": "stream",
     "text": [
      "\r",
      " 86%|████████▋ | 57/66 [39:49<06:18, 42.06s/it]"
     ]
    },
    {
     "name": "stdout",
     "output_type": "stream",
     "text": [
      "[0 1 2 4]\n",
      "2019-05-03 23:58:57 Finish Brats18_UAB_3498_1 whole tumor.\n",
      "2019-05-03 23:59:11 Finish Brats18_UAB_3498_1 enhancing tumor.\n",
      "2019-05-03 23:59:25 Finish Brats18_UAB_3498_1 tumor core.\n"
     ]
    },
    {
     "name": "stderr",
     "output_type": "stream",
     "text": [
      "\r",
      " 88%|████████▊ | 58/66 [40:31<05:36, 42.07s/it]"
     ]
    },
    {
     "name": "stdout",
     "output_type": "stream",
     "text": [
      "[0 1 2 4]\n",
      "2019-05-03 23:59:39 Finish Brats18_UAB_3499_1 whole tumor.\n",
      "2019-05-03 23:59:53 Finish Brats18_UAB_3499_1 enhancing tumor.\n",
      "2019-05-04 00:00:06 Finish Brats18_UAB_3499_1 tumor core.\n"
     ]
    },
    {
     "name": "stderr",
     "output_type": "stream",
     "text": [
      "\r",
      " 89%|████████▉ | 59/66 [41:13<04:53, 41.98s/it]"
     ]
    },
    {
     "name": "stdout",
     "output_type": "stream",
     "text": [
      "[0 1 2 4]\n",
      "2019-05-04 00:00:21 Finish Brats18_WashU_S036_1 whole tumor.\n",
      "2019-05-04 00:00:35 Finish Brats18_WashU_S036_1 enhancing tumor.\n",
      "2019-05-04 00:00:49 Finish Brats18_WashU_S036_1 tumor core.\n"
     ]
    },
    {
     "name": "stderr",
     "output_type": "stream",
     "text": [
      "\r",
      " 91%|█████████ | 60/66 [41:55<04:12, 42.04s/it]"
     ]
    },
    {
     "name": "stdout",
     "output_type": "stream",
     "text": [
      "[0 1 2 4]\n",
      "2019-05-04 00:01:03 Finish Brats18_WashU_S037_1 whole tumor.\n",
      "2019-05-04 00:01:17 Finish Brats18_WashU_S037_1 enhancing tumor.\n",
      "2019-05-04 00:01:31 Finish Brats18_WashU_S037_1 tumor core.\n"
     ]
    },
    {
     "name": "stderr",
     "output_type": "stream",
     "text": [
      "\r",
      " 92%|█████████▏| 61/66 [42:37<03:30, 42.04s/it]"
     ]
    },
    {
     "name": "stdout",
     "output_type": "stream",
     "text": [
      "[0 1 2 4]\n",
      "2019-05-04 00:01:46 Finish Brats18_WashU_S041_1 whole tumor.\n",
      "2019-05-04 00:01:59 Finish Brats18_WashU_S041_1 enhancing tumor.\n",
      "2019-05-04 00:02:13 Finish Brats18_WashU_S041_1 tumor core.\n"
     ]
    },
    {
     "name": "stderr",
     "output_type": "stream",
     "text": [
      "\r",
      " 94%|█████████▍| 62/66 [43:20<02:48, 42.11s/it]"
     ]
    },
    {
     "name": "stdout",
     "output_type": "stream",
     "text": [
      "[0 1 2 4]\n",
      "2019-05-04 00:02:28 Finish Brats18_WashU_W033_1 whole tumor.\n",
      "2019-05-04 00:02:42 Finish Brats18_WashU_W033_1 enhancing tumor.\n",
      "2019-05-04 00:02:55 Finish Brats18_WashU_W033_1 tumor core.\n"
     ]
    },
    {
     "name": "stderr",
     "output_type": "stream",
     "text": [
      "\r",
      " 95%|█████████▌| 63/66 [44:02<02:06, 42.11s/it]"
     ]
    },
    {
     "name": "stdout",
     "output_type": "stream",
     "text": [
      "[0 1 2 4]\n",
      "2019-05-04 00:03:10 Finish Brats18_WashU_W038_1 whole tumor.\n",
      "2019-05-04 00:03:24 Finish Brats18_WashU_W038_1 enhancing tumor.\n",
      "2019-05-04 00:03:37 Finish Brats18_WashU_W038_1 tumor core.\n"
     ]
    },
    {
     "name": "stderr",
     "output_type": "stream",
     "text": [
      "\r",
      " 97%|█████████▋| 64/66 [44:44<01:24, 42.14s/it]"
     ]
    },
    {
     "name": "stdout",
     "output_type": "stream",
     "text": [
      "[0 1 2 4]\n",
      "2019-05-04 00:03:52 Finish Brats18_WashU_W047_1 whole tumor.\n",
      "2019-05-04 00:04:06 Finish Brats18_WashU_W047_1 enhancing tumor.\n",
      "2019-05-04 00:04:19 Finish Brats18_WashU_W047_1 tumor core.\n"
     ]
    },
    {
     "name": "stderr",
     "output_type": "stream",
     "text": [
      "\r",
      " 98%|█████████▊| 65/66 [45:26<00:42, 42.12s/it]"
     ]
    },
    {
     "name": "stdout",
     "output_type": "stream",
     "text": [
      "[0 1 2 4]\n",
      "2019-05-04 00:04:34 Finish Brats18_WashU_W053_1 whole tumor.\n",
      "2019-05-04 00:04:48 Finish Brats18_WashU_W053_1 enhancing tumor.\n",
      "2019-05-04 00:05:02 Finish Brats18_WashU_W053_1 tumor core.\n"
     ]
    },
    {
     "name": "stderr",
     "output_type": "stream",
     "text": [
      "\r",
      "100%|██████████| 66/66 [46:08<00:00, 42.17s/it]"
     ]
    },
    {
     "name": "stdout",
     "output_type": "stream",
     "text": [
      "[0 1 2 4]\n"
     ]
    },
    {
     "name": "stderr",
     "output_type": "stream",
     "text": [
      "\n"
     ]
    }
   ],
   "source": [
    "for case_name in tqdm(case_list):\n",
    "    preds_wt = infer(case_name, 'wt', '../UNetResidualBlock_DiceLoss_WT_210_manual/UNets-ResidualBlock-BRATS2018-210-WT_batch8_training_epochs15_Adam_scheduler-step10-gamma1.0_lr0.0001_w_decay1e-05/trained_model.pt',\\\n",
    "         device)\n",
    "    assert preds_wt.shape == (155, 240, 240)\n",
    "    print(f'{time_stamp()} Finish {case_name} whole tumor.')\n",
    "    \n",
    "    preds_et = infer(case_name, 'et', '../UNetResidualBlock_DiceLoss_ET_210_manual/UNet-Residual-Block-BRATS2018-210-ET_batch8_training_epochs10_Adam_scheduler-step10-gamma1.0_lr1e-05_w_decay1e-05/terminated_model.pt',\\\n",
    "         device)\n",
    "    assert preds_et.shape == (155, 240, 240)\n",
    "    print(f'{time_stamp()} Finish {case_name} enhancing tumor.')\n",
    "    \n",
    "    preds_tc = infer(case_name, 'tc', '../UNetResidualBlock_DiceLoss_TC_210_manual/UNet-ResidualBlock-BRATS2018-210-TC_batch8_training_epochs15_Adam_scheduler-step10-gamma1.0_lr3e-05_w_decay1e-05/terminated_model.pt',\\\n",
    "         device)\n",
    "    assert preds_tc.shape == (155, 240, 240)\n",
    "    print(f'{time_stamp()} Finish {case_name} tumor core.')\n",
    "    \n",
    "    preds_2 = np.logical_xor(preds_wt, preds_tc).astype(np.uint8)\n",
    "    preds_1 = np.logical_xor(preds_tc, preds_et).astype(np.uint8)\n",
    "    preds_4 = preds_et.astype(np.uint8)\n",
    "    \n",
    "    preds_seg = 4 * preds_4 + 2 * preds_2 + preds_1\n",
    "    assert preds_seg.shape == (155, 240, 240)\n",
    "    \n",
    "    # get the mask of which computed label is greater than 4, and set it to 4\n",
    "    preds_seg = preds_seg + (preds_seg > 4).astype(np.uint8) * (4 * np.ones((155, 240, 240)) - preds_seg)\n",
    "    preds_seg = preds_seg + (preds_seg == 3) * np.ones((155, 240, 240))\n",
    "    preds_seg = preds_seg.astype(np.uint8)\n",
    "    print(np.unique(preds_seg))\n",
    "    \n",
    "    img = nib.Nifti1Image(preds_seg.transpose(1, 2, 0), affine=None)\n",
    "    nib.save(img, os.path.join('validations', case_name + '.nii.gz'))\n",
    "    \n",
    "    "
   ]
  },
  {
   "cell_type": "markdown",
   "metadata": {},
   "source": [
    "## infer 4 classes in one forward pass"
   ]
  },
  {
   "cell_type": "code",
   "execution_count": 5,
   "metadata": {},
   "outputs": [
    {
     "data": {
      "text/plain": [
       "ResNet3D(\n",
       "  (conv1): Conv3d(4, 32, kernel_size=(3, 3, 3), stride=(2, 2, 2), padding=(1, 1, 1), bias=False)\n",
       "  (bn1): BatchNorm3d(32, eps=1e-05, momentum=0.1, affine=True, track_running_stats=True)\n",
       "  (relu): ReLU(inplace)\n",
       "  (maxpool): MaxPool3d(kernel_size=3, stride=2, padding=1, dilation=1, ceil_mode=False)\n",
       "  (layer1): Sequential(\n",
       "    (0): Bottleneck3D(\n",
       "      (conv1): Conv3d(32, 32, kernel_size=(1, 1, 1), stride=(1, 1, 1), bias=False)\n",
       "      (bn1): BatchNorm3d(32, eps=1e-05, momentum=0.1, affine=True, track_running_stats=True)\n",
       "      (conv2): Conv3d(32, 32, kernel_size=(3, 3, 3), stride=(1, 1, 1), padding=(1, 1, 1), bias=False)\n",
       "      (bn2): BatchNorm3d(32, eps=1e-05, momentum=0.1, affine=True, track_running_stats=True)\n",
       "      (conv3): Conv3d(32, 128, kernel_size=(1, 1, 1), stride=(1, 1, 1), bias=False)\n",
       "      (bn3): BatchNorm3d(128, eps=1e-05, momentum=0.1, affine=True, track_running_stats=True)\n",
       "      (relu): ReLU(inplace)\n",
       "      (downsample): Sequential(\n",
       "        (0): Conv3d(32, 128, kernel_size=(1, 1, 1), stride=(1, 1, 1), bias=False)\n",
       "        (1): BatchNorm3d(128, eps=1e-05, momentum=0.1, affine=True, track_running_stats=True)\n",
       "      )\n",
       "    )\n",
       "    (1): Bottleneck3D(\n",
       "      (conv1): Conv3d(128, 32, kernel_size=(1, 1, 1), stride=(1, 1, 1), bias=False)\n",
       "      (bn1): BatchNorm3d(32, eps=1e-05, momentum=0.1, affine=True, track_running_stats=True)\n",
       "      (conv2): Conv3d(32, 32, kernel_size=(3, 3, 3), stride=(1, 1, 1), padding=(1, 1, 1), bias=False)\n",
       "      (bn2): BatchNorm3d(32, eps=1e-05, momentum=0.1, affine=True, track_running_stats=True)\n",
       "      (conv3): Conv3d(32, 128, kernel_size=(1, 1, 1), stride=(1, 1, 1), bias=False)\n",
       "      (bn3): BatchNorm3d(128, eps=1e-05, momentum=0.1, affine=True, track_running_stats=True)\n",
       "      (relu): ReLU(inplace)\n",
       "    )\n",
       "    (2): Bottleneck3D(\n",
       "      (conv1): Conv3d(128, 32, kernel_size=(1, 1, 1), stride=(1, 1, 1), bias=False)\n",
       "      (bn1): BatchNorm3d(32, eps=1e-05, momentum=0.1, affine=True, track_running_stats=True)\n",
       "      (conv2): Conv3d(32, 32, kernel_size=(3, 3, 3), stride=(1, 1, 1), padding=(1, 1, 1), bias=False)\n",
       "      (bn2): BatchNorm3d(32, eps=1e-05, momentum=0.1, affine=True, track_running_stats=True)\n",
       "      (conv3): Conv3d(32, 128, kernel_size=(1, 1, 1), stride=(1, 1, 1), bias=False)\n",
       "      (bn3): BatchNorm3d(128, eps=1e-05, momentum=0.1, affine=True, track_running_stats=True)\n",
       "      (relu): ReLU(inplace)\n",
       "    )\n",
       "  )\n",
       "  (layer2): Sequential(\n",
       "    (0): Bottleneck3D(\n",
       "      (conv1): Conv3d(128, 64, kernel_size=(1, 1, 1), stride=(1, 1, 1), bias=False)\n",
       "      (bn1): BatchNorm3d(64, eps=1e-05, momentum=0.1, affine=True, track_running_stats=True)\n",
       "      (conv2): Conv3d(64, 64, kernel_size=(3, 3, 3), stride=(2, 2, 2), padding=(1, 1, 1), bias=False)\n",
       "      (bn2): BatchNorm3d(64, eps=1e-05, momentum=0.1, affine=True, track_running_stats=True)\n",
       "      (conv3): Conv3d(64, 256, kernel_size=(1, 1, 1), stride=(1, 1, 1), bias=False)\n",
       "      (bn3): BatchNorm3d(256, eps=1e-05, momentum=0.1, affine=True, track_running_stats=True)\n",
       "      (relu): ReLU(inplace)\n",
       "      (downsample): Sequential(\n",
       "        (0): Conv3d(128, 256, kernel_size=(1, 1, 1), stride=(2, 2, 2), bias=False)\n",
       "        (1): BatchNorm3d(256, eps=1e-05, momentum=0.1, affine=True, track_running_stats=True)\n",
       "      )\n",
       "    )\n",
       "    (1): Bottleneck3D(\n",
       "      (conv1): Conv3d(256, 64, kernel_size=(1, 1, 1), stride=(1, 1, 1), bias=False)\n",
       "      (bn1): BatchNorm3d(64, eps=1e-05, momentum=0.1, affine=True, track_running_stats=True)\n",
       "      (conv2): Conv3d(64, 64, kernel_size=(3, 3, 3), stride=(1, 1, 1), padding=(1, 1, 1), bias=False)\n",
       "      (bn2): BatchNorm3d(64, eps=1e-05, momentum=0.1, affine=True, track_running_stats=True)\n",
       "      (conv3): Conv3d(64, 256, kernel_size=(1, 1, 1), stride=(1, 1, 1), bias=False)\n",
       "      (bn3): BatchNorm3d(256, eps=1e-05, momentum=0.1, affine=True, track_running_stats=True)\n",
       "      (relu): ReLU(inplace)\n",
       "    )\n",
       "    (2): Bottleneck3D(\n",
       "      (conv1): Conv3d(256, 64, kernel_size=(1, 1, 1), stride=(1, 1, 1), bias=False)\n",
       "      (bn1): BatchNorm3d(64, eps=1e-05, momentum=0.1, affine=True, track_running_stats=True)\n",
       "      (conv2): Conv3d(64, 64, kernel_size=(3, 3, 3), stride=(1, 1, 1), padding=(1, 1, 1), bias=False)\n",
       "      (bn2): BatchNorm3d(64, eps=1e-05, momentum=0.1, affine=True, track_running_stats=True)\n",
       "      (conv3): Conv3d(64, 256, kernel_size=(1, 1, 1), stride=(1, 1, 1), bias=False)\n",
       "      (bn3): BatchNorm3d(256, eps=1e-05, momentum=0.1, affine=True, track_running_stats=True)\n",
       "      (relu): ReLU(inplace)\n",
       "    )\n",
       "    (3): Bottleneck3D(\n",
       "      (conv1): Conv3d(256, 64, kernel_size=(1, 1, 1), stride=(1, 1, 1), bias=False)\n",
       "      (bn1): BatchNorm3d(64, eps=1e-05, momentum=0.1, affine=True, track_running_stats=True)\n",
       "      (conv2): Conv3d(64, 64, kernel_size=(3, 3, 3), stride=(1, 1, 1), padding=(1, 1, 1), bias=False)\n",
       "      (bn2): BatchNorm3d(64, eps=1e-05, momentum=0.1, affine=True, track_running_stats=True)\n",
       "      (conv3): Conv3d(64, 256, kernel_size=(1, 1, 1), stride=(1, 1, 1), bias=False)\n",
       "      (bn3): BatchNorm3d(256, eps=1e-05, momentum=0.1, affine=True, track_running_stats=True)\n",
       "      (relu): ReLU(inplace)\n",
       "    )\n",
       "  )\n",
       "  (layer3): Sequential(\n",
       "    (0): Bottleneck3D(\n",
       "      (conv1): Conv3d(256, 128, kernel_size=(1, 1, 1), stride=(1, 1, 1), bias=False)\n",
       "      (bn1): BatchNorm3d(128, eps=1e-05, momentum=0.1, affine=True, track_running_stats=True)\n",
       "      (conv2): Conv3d(128, 128, kernel_size=(3, 3, 3), stride=(2, 2, 2), padding=(1, 1, 1), bias=False)\n",
       "      (bn2): BatchNorm3d(128, eps=1e-05, momentum=0.1, affine=True, track_running_stats=True)\n",
       "      (conv3): Conv3d(128, 512, kernel_size=(1, 1, 1), stride=(1, 1, 1), bias=False)\n",
       "      (bn3): BatchNorm3d(512, eps=1e-05, momentum=0.1, affine=True, track_running_stats=True)\n",
       "      (relu): ReLU(inplace)\n",
       "      (downsample): Sequential(\n",
       "        (0): Conv3d(256, 512, kernel_size=(1, 1, 1), stride=(2, 2, 2), bias=False)\n",
       "        (1): BatchNorm3d(512, eps=1e-05, momentum=0.1, affine=True, track_running_stats=True)\n",
       "      )\n",
       "    )\n",
       "    (1): Bottleneck3D(\n",
       "      (conv1): Conv3d(512, 128, kernel_size=(1, 1, 1), stride=(1, 1, 1), bias=False)\n",
       "      (bn1): BatchNorm3d(128, eps=1e-05, momentum=0.1, affine=True, track_running_stats=True)\n",
       "      (conv2): Conv3d(128, 128, kernel_size=(3, 3, 3), stride=(1, 1, 1), padding=(1, 1, 1), bias=False)\n",
       "      (bn2): BatchNorm3d(128, eps=1e-05, momentum=0.1, affine=True, track_running_stats=True)\n",
       "      (conv3): Conv3d(128, 512, kernel_size=(1, 1, 1), stride=(1, 1, 1), bias=False)\n",
       "      (bn3): BatchNorm3d(512, eps=1e-05, momentum=0.1, affine=True, track_running_stats=True)\n",
       "      (relu): ReLU(inplace)\n",
       "    )\n",
       "    (2): Bottleneck3D(\n",
       "      (conv1): Conv3d(512, 128, kernel_size=(1, 1, 1), stride=(1, 1, 1), bias=False)\n",
       "      (bn1): BatchNorm3d(128, eps=1e-05, momentum=0.1, affine=True, track_running_stats=True)\n",
       "      (conv2): Conv3d(128, 128, kernel_size=(3, 3, 3), stride=(1, 1, 1), padding=(1, 1, 1), bias=False)\n",
       "      (bn2): BatchNorm3d(128, eps=1e-05, momentum=0.1, affine=True, track_running_stats=True)\n",
       "      (conv3): Conv3d(128, 512, kernel_size=(1, 1, 1), stride=(1, 1, 1), bias=False)\n",
       "      (bn3): BatchNorm3d(512, eps=1e-05, momentum=0.1, affine=True, track_running_stats=True)\n",
       "      (relu): ReLU(inplace)\n",
       "    )\n",
       "    (3): Bottleneck3D(\n",
       "      (conv1): Conv3d(512, 128, kernel_size=(1, 1, 1), stride=(1, 1, 1), bias=False)\n",
       "      (bn1): BatchNorm3d(128, eps=1e-05, momentum=0.1, affine=True, track_running_stats=True)\n",
       "      (conv2): Conv3d(128, 128, kernel_size=(3, 3, 3), stride=(1, 1, 1), padding=(1, 1, 1), bias=False)\n",
       "      (bn2): BatchNorm3d(128, eps=1e-05, momentum=0.1, affine=True, track_running_stats=True)\n",
       "      (conv3): Conv3d(128, 512, kernel_size=(1, 1, 1), stride=(1, 1, 1), bias=False)\n",
       "      (bn3): BatchNorm3d(512, eps=1e-05, momentum=0.1, affine=True, track_running_stats=True)\n",
       "      (relu): ReLU(inplace)\n",
       "    )\n",
       "    (4): Bottleneck3D(\n",
       "      (conv1): Conv3d(512, 128, kernel_size=(1, 1, 1), stride=(1, 1, 1), bias=False)\n",
       "      (bn1): BatchNorm3d(128, eps=1e-05, momentum=0.1, affine=True, track_running_stats=True)\n",
       "      (conv2): Conv3d(128, 128, kernel_size=(3, 3, 3), stride=(1, 1, 1), padding=(1, 1, 1), bias=False)\n",
       "      (bn2): BatchNorm3d(128, eps=1e-05, momentum=0.1, affine=True, track_running_stats=True)\n",
       "      (conv3): Conv3d(128, 512, kernel_size=(1, 1, 1), stride=(1, 1, 1), bias=False)\n",
       "      (bn3): BatchNorm3d(512, eps=1e-05, momentum=0.1, affine=True, track_running_stats=True)\n",
       "      (relu): ReLU(inplace)\n",
       "    )\n",
       "    (5): Bottleneck3D(\n",
       "      (conv1): Conv3d(512, 128, kernel_size=(1, 1, 1), stride=(1, 1, 1), bias=False)\n",
       "      (bn1): BatchNorm3d(128, eps=1e-05, momentum=0.1, affine=True, track_running_stats=True)\n",
       "      (conv2): Conv3d(128, 128, kernel_size=(3, 3, 3), stride=(1, 1, 1), padding=(1, 1, 1), bias=False)\n",
       "      (bn2): BatchNorm3d(128, eps=1e-05, momentum=0.1, affine=True, track_running_stats=True)\n",
       "      (conv3): Conv3d(128, 512, kernel_size=(1, 1, 1), stride=(1, 1, 1), bias=False)\n",
       "      (bn3): BatchNorm3d(512, eps=1e-05, momentum=0.1, affine=True, track_running_stats=True)\n",
       "      (relu): ReLU(inplace)\n",
       "    )\n",
       "  )\n",
       "  (layer4): Sequential(\n",
       "    (0): Bottleneck3D(\n",
       "      (conv1): Conv3d(512, 256, kernel_size=(1, 1, 1), stride=(1, 1, 1), bias=False)\n",
       "      (bn1): BatchNorm3d(256, eps=1e-05, momentum=0.1, affine=True, track_running_stats=True)\n",
       "      (conv2): Conv3d(256, 256, kernel_size=(3, 3, 3), stride=(2, 2, 2), padding=(1, 1, 1), bias=False)\n",
       "      (bn2): BatchNorm3d(256, eps=1e-05, momentum=0.1, affine=True, track_running_stats=True)\n",
       "      (conv3): Conv3d(256, 1024, kernel_size=(1, 1, 1), stride=(1, 1, 1), bias=False)\n",
       "      (bn3): BatchNorm3d(1024, eps=1e-05, momentum=0.1, affine=True, track_running_stats=True)\n",
       "      (relu): ReLU(inplace)\n",
       "      (downsample): Sequential(\n",
       "        (0): Conv3d(512, 1024, kernel_size=(1, 1, 1), stride=(2, 2, 2), bias=False)\n",
       "        (1): BatchNorm3d(1024, eps=1e-05, momentum=0.1, affine=True, track_running_stats=True)\n",
       "      )\n",
       "    )\n",
       "    (1): Bottleneck3D(\n",
       "      (conv1): Conv3d(1024, 256, kernel_size=(1, 1, 1), stride=(1, 1, 1), bias=False)\n",
       "      (bn1): BatchNorm3d(256, eps=1e-05, momentum=0.1, affine=True, track_running_stats=True)\n",
       "      (conv2): Conv3d(256, 256, kernel_size=(3, 3, 3), stride=(1, 1, 1), padding=(1, 1, 1), bias=False)\n",
       "      (bn2): BatchNorm3d(256, eps=1e-05, momentum=0.1, affine=True, track_running_stats=True)\n",
       "      (conv3): Conv3d(256, 1024, kernel_size=(1, 1, 1), stride=(1, 1, 1), bias=False)\n",
       "      (bn3): BatchNorm3d(1024, eps=1e-05, momentum=0.1, affine=True, track_running_stats=True)\n",
       "      (relu): ReLU(inplace)\n",
       "    )\n",
       "    (2): Bottleneck3D(\n",
       "      (conv1): Conv3d(1024, 256, kernel_size=(1, 1, 1), stride=(1, 1, 1), bias=False)\n",
       "      (bn1): BatchNorm3d(256, eps=1e-05, momentum=0.1, affine=True, track_running_stats=True)\n",
       "      (conv2): Conv3d(256, 256, kernel_size=(3, 3, 3), stride=(1, 1, 1), padding=(1, 1, 1), bias=False)\n",
       "      (bn2): BatchNorm3d(256, eps=1e-05, momentum=0.1, affine=True, track_running_stats=True)\n",
       "      (conv3): Conv3d(256, 1024, kernel_size=(1, 1, 1), stride=(1, 1, 1), bias=False)\n",
       "      (bn3): BatchNorm3d(1024, eps=1e-05, momentum=0.1, affine=True, track_running_stats=True)\n",
       "      (relu): ReLU(inplace)\n",
       "    )\n",
       "  )\n",
       "  (avgpool): AdaptiveAvgPool3d(output_size=(1, 1, 1))\n",
       "  (fc): Linear(in_features=1024, out_features=2, bias=True)\n",
       ")"
      ]
     },
     "execution_count": 5,
     "metadata": {},
     "output_type": "execute_result"
    }
   ],
   "source": [
    "case_list = sorted(os.listdir('BRATS2018_Validation/'))\n",
    "val_dir = 'BRATS2018_Validation'\n",
    "device = torch.device('cuda:0' if torch.cuda.is_available() else 'cpu')\n",
    "cls_model = resnet50_3D(num_classes=2)\n",
    "cls_model.load_state_dict(torch.load('../ResNet50-3D-32-CLS/trained_model.pt', map_location=device))\n",
    "cls_model.to(device)\n",
    "cls_model.eval()"
   ]
  },
  {
   "cell_type": "code",
   "execution_count": 6,
   "metadata": {},
   "outputs": [
    {
     "name": "stderr",
     "output_type": "stream",
     "text": [
      "\r",
      "  0%|          | 0/66 [00:00<?, ?it/s]"
     ]
    },
    {
     "name": "stdout",
     "output_type": "stream",
     "text": [
      "Brats18_CBICA_AAM_1 - HGG\n"
     ]
    },
    {
     "name": "stderr",
     "output_type": "stream",
     "text": [
      "/home/martin/Documents/semantic_segmentation/PyTorch_venv/lib/python3.6/site-packages/torch/nn/modules/upsampling.py:129: UserWarning: nn.Upsample is deprecated. Use nn.functional.interpolate instead.\n",
      "  warnings.warn(\"nn.{} is deprecated. Use nn.functional.interpolate instead.\".format(self.name))\n"
     ]
    },
    {
     "name": "stdout",
     "output_type": "stream",
     "text": [
      "2019-05-15 11:41:11 Finish Brats18_CBICA_AAM_1.\n",
      "[0 1 2 4]\n"
     ]
    },
    {
     "name": "stderr",
     "output_type": "stream",
     "text": [
      "\r",
      "  2%|▏         | 1/66 [00:23<25:08, 23.21s/it]"
     ]
    },
    {
     "name": "stdout",
     "output_type": "stream",
     "text": [
      "Brats18_CBICA_ABT_1 - HGG\n",
      "2019-05-15 11:41:34 Finish Brats18_CBICA_ABT_1.\n",
      "[0 1 2 4]\n"
     ]
    },
    {
     "name": "stderr",
     "output_type": "stream",
     "text": [
      "\r",
      "  3%|▎         | 2/66 [00:46<24:39, 23.12s/it]"
     ]
    },
    {
     "name": "stdout",
     "output_type": "stream",
     "text": [
      "Brats18_CBICA_ALA_1 - HGG\n",
      "2019-05-15 11:41:57 Finish Brats18_CBICA_ALA_1.\n",
      "[0 1 2 4]\n"
     ]
    },
    {
     "name": "stderr",
     "output_type": "stream",
     "text": [
      "\r",
      "  5%|▍         | 3/66 [01:09<24:12, 23.05s/it]"
     ]
    },
    {
     "name": "stdout",
     "output_type": "stream",
     "text": [
      "Brats18_CBICA_ALT_1 - HGG\n",
      "2019-05-15 11:42:20 Finish Brats18_CBICA_ALT_1.\n",
      "[0 1 2 4]\n"
     ]
    },
    {
     "name": "stderr",
     "output_type": "stream",
     "text": [
      "\r",
      "  6%|▌         | 4/66 [01:31<23:45, 22.99s/it]"
     ]
    },
    {
     "name": "stdout",
     "output_type": "stream",
     "text": [
      "Brats18_CBICA_ALV_1 - HGG\n",
      "2019-05-15 11:42:42 Finish Brats18_CBICA_ALV_1.\n",
      "[0 1 2 4]\n"
     ]
    },
    {
     "name": "stderr",
     "output_type": "stream",
     "text": [
      "\r",
      "  8%|▊         | 5/66 [01:54<23:20, 22.96s/it]"
     ]
    },
    {
     "name": "stdout",
     "output_type": "stream",
     "text": [
      "Brats18_CBICA_ALZ_1 - HGG\n",
      "2019-05-15 11:43:05 Finish Brats18_CBICA_ALZ_1.\n",
      "[0 1 2 4]\n"
     ]
    },
    {
     "name": "stderr",
     "output_type": "stream",
     "text": [
      "\r",
      "  9%|▉         | 6/66 [02:17<22:55, 22.93s/it]"
     ]
    },
    {
     "name": "stdout",
     "output_type": "stream",
     "text": [
      "Brats18_CBICA_AMF_1 - HGG\n",
      "2019-05-15 11:43:28 Finish Brats18_CBICA_AMF_1.\n",
      "[0 1 2 4]\n"
     ]
    },
    {
     "name": "stderr",
     "output_type": "stream",
     "text": [
      "\r",
      " 11%|█         | 7/66 [02:40<22:31, 22.92s/it]"
     ]
    },
    {
     "name": "stdout",
     "output_type": "stream",
     "text": [
      "Brats18_CBICA_AMU_1 - HGG\n",
      "2019-05-15 11:43:51 Finish Brats18_CBICA_AMU_1.\n",
      "[0 1 2 4]\n"
     ]
    },
    {
     "name": "stderr",
     "output_type": "stream",
     "text": [
      "\r",
      " 12%|█▏        | 8/66 [03:03<22:08, 22.90s/it]"
     ]
    },
    {
     "name": "stdout",
     "output_type": "stream",
     "text": [
      "Brats18_CBICA_ANK_1 - HGG\n",
      "2019-05-15 11:44:14 Finish Brats18_CBICA_ANK_1.\n",
      "[0 1 2 4]\n"
     ]
    },
    {
     "name": "stderr",
     "output_type": "stream",
     "text": [
      "\r",
      " 14%|█▎        | 9/66 [03:26<21:45, 22.90s/it]"
     ]
    },
    {
     "name": "stdout",
     "output_type": "stream",
     "text": [
      "Brats18_CBICA_APM_1 - HGG\n",
      "2019-05-15 11:44:37 Finish Brats18_CBICA_APM_1.\n",
      "[0 1 2 4]\n"
     ]
    },
    {
     "name": "stderr",
     "output_type": "stream",
     "text": [
      "\r",
      " 15%|█▌        | 10/66 [03:49<21:21, 22.89s/it]"
     ]
    },
    {
     "name": "stdout",
     "output_type": "stream",
     "text": [
      "Brats18_CBICA_AQE_1 - HGG\n",
      "2019-05-15 11:45:00 Finish Brats18_CBICA_AQE_1.\n",
      "[0 1 2 4]\n"
     ]
    },
    {
     "name": "stderr",
     "output_type": "stream",
     "text": [
      "\r",
      " 17%|█▋        | 11/66 [04:11<20:58, 22.88s/it]"
     ]
    },
    {
     "name": "stdout",
     "output_type": "stream",
     "text": [
      "Brats18_CBICA_ARR_1 - HGG\n",
      "2019-05-15 11:45:23 Finish Brats18_CBICA_ARR_1.\n",
      "[0 1 2 4]\n"
     ]
    },
    {
     "name": "stderr",
     "output_type": "stream",
     "text": [
      "\r",
      " 18%|█▊        | 12/66 [04:34<20:36, 22.89s/it]"
     ]
    },
    {
     "name": "stdout",
     "output_type": "stream",
     "text": [
      "Brats18_CBICA_ATW_1 - HGG\n",
      "2019-05-15 11:45:45 Finish Brats18_CBICA_ATW_1.\n",
      "[0 1 2 4]\n"
     ]
    },
    {
     "name": "stderr",
     "output_type": "stream",
     "text": [
      "\r",
      " 20%|█▉        | 13/66 [04:57<20:13, 22.89s/it]"
     ]
    },
    {
     "name": "stdout",
     "output_type": "stream",
     "text": [
      "Brats18_CBICA_AUC_1 - HGG\n",
      "2019-05-15 11:46:08 Finish Brats18_CBICA_AUC_1.\n",
      "[0 1 2 4]\n"
     ]
    },
    {
     "name": "stderr",
     "output_type": "stream",
     "text": [
      "\r",
      " 21%|██        | 14/66 [05:20<19:50, 22.89s/it]"
     ]
    },
    {
     "name": "stdout",
     "output_type": "stream",
     "text": [
      "Brats18_CBICA_AUE_1 - HGG\n",
      "2019-05-15 11:46:31 Finish Brats18_CBICA_AUE_1.\n",
      "[0 1 2 4]\n"
     ]
    },
    {
     "name": "stderr",
     "output_type": "stream",
     "text": [
      "\r",
      " 23%|██▎       | 15/66 [05:43<19:27, 22.89s/it]"
     ]
    },
    {
     "name": "stdout",
     "output_type": "stream",
     "text": [
      "Brats18_CBICA_AZA_1 - HGG\n",
      "2019-05-15 11:46:54 Finish Brats18_CBICA_AZA_1.\n",
      "[0 1 2 4]\n"
     ]
    },
    {
     "name": "stderr",
     "output_type": "stream",
     "text": [
      "\r",
      " 24%|██▍       | 16/66 [06:06<19:05, 22.90s/it]"
     ]
    },
    {
     "name": "stdout",
     "output_type": "stream",
     "text": [
      "Brats18_CBICA_BHF_1 - HGG\n",
      "2019-05-15 11:47:17 Finish Brats18_CBICA_BHF_1.\n",
      "[0 1 2 4]\n"
     ]
    },
    {
     "name": "stderr",
     "output_type": "stream",
     "text": [
      "\r",
      " 26%|██▌       | 17/66 [06:29<18:42, 22.91s/it]"
     ]
    },
    {
     "name": "stdout",
     "output_type": "stream",
     "text": [
      "Brats18_CBICA_BHN_1 - HGG\n",
      "2019-05-15 11:47:40 Finish Brats18_CBICA_BHN_1.\n",
      "[0 1 2 4]\n"
     ]
    },
    {
     "name": "stderr",
     "output_type": "stream",
     "text": [
      "\r",
      " 27%|██▋       | 18/66 [06:52<18:19, 22.91s/it]"
     ]
    },
    {
     "name": "stdout",
     "output_type": "stream",
     "text": [
      "Brats18_CBICA_BKY_1 - HGG\n",
      "2019-05-15 11:48:03 Finish Brats18_CBICA_BKY_1.\n",
      "[0 1 2 4]\n"
     ]
    },
    {
     "name": "stderr",
     "output_type": "stream",
     "text": [
      "\r",
      " 29%|██▉       | 19/66 [07:15<17:56, 22.90s/it]"
     ]
    },
    {
     "name": "stdout",
     "output_type": "stream",
     "text": [
      "Brats18_CBICA_BLI_1 - HGG\n",
      "2019-05-15 11:48:26 Finish Brats18_CBICA_BLI_1.\n",
      "[0 1 2 4]\n"
     ]
    },
    {
     "name": "stderr",
     "output_type": "stream",
     "text": [
      "\r",
      " 30%|███       | 20/66 [07:38<17:32, 22.89s/it]"
     ]
    },
    {
     "name": "stdout",
     "output_type": "stream",
     "text": [
      "Brats18_CBICA_BLK_1 - HGG\n",
      "2019-05-15 11:48:49 Finish Brats18_CBICA_BLK_1.\n",
      "[0 1 2 4]\n"
     ]
    },
    {
     "name": "stderr",
     "output_type": "stream",
     "text": [
      "\r",
      " 32%|███▏      | 21/66 [08:00<17:10, 22.89s/it]"
     ]
    },
    {
     "name": "stdout",
     "output_type": "stream",
     "text": [
      "Brats18_MDA_1012_1 - HGG\n",
      "2019-05-15 11:49:12 Finish Brats18_MDA_1012_1.\n",
      "[0 1 2 4]\n"
     ]
    },
    {
     "name": "stderr",
     "output_type": "stream",
     "text": [
      "\r",
      " 33%|███▎      | 22/66 [08:23<16:47, 22.91s/it]"
     ]
    },
    {
     "name": "stdout",
     "output_type": "stream",
     "text": [
      "Brats18_MDA_1015_1 - HGG\n",
      "2019-05-15 11:49:34 Finish Brats18_MDA_1015_1.\n",
      "[0 1 2 4]\n"
     ]
    },
    {
     "name": "stderr",
     "output_type": "stream",
     "text": [
      "\r",
      " 35%|███▍      | 23/66 [08:46<16:25, 22.91s/it]"
     ]
    },
    {
     "name": "stdout",
     "output_type": "stream",
     "text": [
      "Brats18_MDA_1081_1 - HGG\n",
      "2019-05-15 11:49:57 Finish Brats18_MDA_1081_1.\n",
      "[0 1 2 4]\n"
     ]
    },
    {
     "name": "stderr",
     "output_type": "stream",
     "text": [
      "\r",
      " 36%|███▋      | 24/66 [09:09<16:02, 22.91s/it]"
     ]
    },
    {
     "name": "stdout",
     "output_type": "stream",
     "text": [
      "Brats18_MDA_907_1 - HGG\n",
      "2019-05-15 11:50:21 Finish Brats18_MDA_907_1.\n",
      "[0 1 2 4]\n"
     ]
    },
    {
     "name": "stderr",
     "output_type": "stream",
     "text": [
      "\r",
      " 38%|███▊      | 25/66 [09:33<15:44, 23.04s/it]"
     ]
    },
    {
     "name": "stdout",
     "output_type": "stream",
     "text": [
      "Brats18_MDA_922_1 - HGG\n",
      "2019-05-15 11:50:44 Finish Brats18_MDA_922_1.\n",
      "[0 1 2 4]\n"
     ]
    },
    {
     "name": "stderr",
     "output_type": "stream",
     "text": [
      "\r",
      " 39%|███▉      | 26/66 [09:56<15:24, 23.12s/it]"
     ]
    },
    {
     "name": "stdout",
     "output_type": "stream",
     "text": [
      "Brats18_TCIA02_230_1 - HGG\n",
      "2019-05-15 11:51:07 Finish Brats18_TCIA02_230_1.\n",
      "[0 1 2 4]\n"
     ]
    },
    {
     "name": "stderr",
     "output_type": "stream",
     "text": [
      "\r",
      " 41%|████      | 27/66 [10:19<14:58, 23.05s/it]"
     ]
    },
    {
     "name": "stdout",
     "output_type": "stream",
     "text": [
      "Brats18_TCIA02_400_1 - HGG\n",
      "2019-05-15 11:51:30 Finish Brats18_TCIA02_400_1.\n",
      "[0 1 2 4]\n"
     ]
    },
    {
     "name": "stderr",
     "output_type": "stream",
     "text": [
      "\r",
      " 42%|████▏     | 28/66 [10:42<14:34, 23.01s/it]"
     ]
    },
    {
     "name": "stdout",
     "output_type": "stream",
     "text": [
      "Brats18_TCIA03_216_1 - HGG\n",
      "2019-05-15 11:51:53 Finish Brats18_TCIA03_216_1.\n",
      "[0 1 2 4]\n"
     ]
    },
    {
     "name": "stderr",
     "output_type": "stream",
     "text": [
      "\r",
      " 44%|████▍     | 29/66 [11:05<14:10, 22.99s/it]"
     ]
    },
    {
     "name": "stdout",
     "output_type": "stream",
     "text": [
      "Brats18_TCIA03_288_1 - HGG\n",
      "2019-05-15 11:52:16 Finish Brats18_TCIA03_288_1.\n",
      "[0 1 2 4]\n"
     ]
    },
    {
     "name": "stderr",
     "output_type": "stream",
     "text": [
      "\r",
      " 45%|████▌     | 30/66 [11:28<13:47, 22.98s/it]"
     ]
    },
    {
     "name": "stdout",
     "output_type": "stream",
     "text": [
      "Brats18_TCIA03_313_1 - HGG\n",
      "2019-05-15 11:52:39 Finish Brats18_TCIA03_313_1.\n",
      "[0 1 2 4]\n"
     ]
    },
    {
     "name": "stderr",
     "output_type": "stream",
     "text": [
      "\r",
      " 47%|████▋     | 31/66 [11:51<13:23, 22.97s/it]"
     ]
    },
    {
     "name": "stdout",
     "output_type": "stream",
     "text": [
      "Brats18_TCIA03_604_1 - HGG\n",
      "2019-05-15 11:53:02 Finish Brats18_TCIA03_604_1.\n",
      "[0 1 2 4]\n"
     ]
    },
    {
     "name": "stderr",
     "output_type": "stream",
     "text": [
      "\r",
      " 48%|████▊     | 32/66 [12:13<13:00, 22.96s/it]"
     ]
    },
    {
     "name": "stdout",
     "output_type": "stream",
     "text": [
      "Brats18_TCIA04_212_1 - HGG\n",
      "2019-05-15 11:53:25 Finish Brats18_TCIA04_212_1.\n",
      "[0 1 2 4]\n"
     ]
    },
    {
     "name": "stderr",
     "output_type": "stream",
     "text": [
      "\r",
      " 50%|█████     | 33/66 [12:36<12:37, 22.95s/it]"
     ]
    },
    {
     "name": "stdout",
     "output_type": "stream",
     "text": [
      "Brats18_TCIA04_253_1 - HGG\n",
      "2019-05-15 11:53:47 Finish Brats18_TCIA04_253_1.\n",
      "[0 1 2 4]\n"
     ]
    },
    {
     "name": "stderr",
     "output_type": "stream",
     "text": [
      "\r",
      " 52%|█████▏    | 34/66 [12:59<12:14, 22.95s/it]"
     ]
    },
    {
     "name": "stdout",
     "output_type": "stream",
     "text": [
      "Brats18_TCIA07_600_1 - HGG\n",
      "2019-05-15 11:54:10 Finish Brats18_TCIA07_600_1.\n",
      "[0 1 2 4]\n"
     ]
    },
    {
     "name": "stderr",
     "output_type": "stream",
     "text": [
      "\r",
      " 53%|█████▎    | 35/66 [13:22<11:51, 22.94s/it]"
     ]
    },
    {
     "name": "stdout",
     "output_type": "stream",
     "text": [
      "Brats18_TCIA07_601_1 - HGG\n",
      "2019-05-15 11:54:33 Finish Brats18_TCIA07_601_1.\n",
      "[0 1 2 4]\n"
     ]
    },
    {
     "name": "stderr",
     "output_type": "stream",
     "text": [
      "\r",
      " 55%|█████▍    | 36/66 [13:45<11:28, 22.94s/it]"
     ]
    },
    {
     "name": "stdout",
     "output_type": "stream",
     "text": [
      "Brats18_TCIA07_602_1 - HGG\n",
      "2019-05-15 11:54:56 Finish Brats18_TCIA07_602_1.\n",
      "[0 1 2 4]\n"
     ]
    },
    {
     "name": "stderr",
     "output_type": "stream",
     "text": [
      "\r",
      " 56%|█████▌    | 37/66 [14:08<11:05, 22.94s/it]"
     ]
    },
    {
     "name": "stdout",
     "output_type": "stream",
     "text": [
      "Brats18_TCIA09_248_1 - LGG\n",
      "2019-05-15 11:55:21 Finish Brats18_TCIA09_248_1.\n",
      "enhancing tumor voxels are fewer than 700, mask out\n",
      "[0. 1. 2.]\n"
     ]
    },
    {
     "name": "stderr",
     "output_type": "stream",
     "text": [
      "\r",
      " 58%|█████▊    | 38/66 [14:33<11:02, 23.65s/it]"
     ]
    },
    {
     "name": "stdout",
     "output_type": "stream",
     "text": [
      "Brats18_TCIA10_195_1 - LGG\n",
      "2019-05-15 11:55:45 Finish Brats18_TCIA10_195_1.\n",
      "[0 1 2 4]\n"
     ]
    },
    {
     "name": "stderr",
     "output_type": "stream",
     "text": [
      "\r",
      " 59%|█████▉    | 39/66 [14:56<10:33, 23.45s/it]"
     ]
    },
    {
     "name": "stdout",
     "output_type": "stream",
     "text": [
      "Brats18_TCIA10_311_1 - LGG\n",
      "2019-05-15 11:56:08 Finish Brats18_TCIA10_311_1.\n",
      "enhancing tumor voxels are fewer than 700, mask out\n",
      "[0. 2.]\n"
     ]
    },
    {
     "name": "stderr",
     "output_type": "stream",
     "text": [
      "\r",
      " 61%|██████    | 40/66 [15:20<10:08, 23.42s/it]"
     ]
    },
    {
     "name": "stdout",
     "output_type": "stream",
     "text": [
      "Brats18_TCIA10_609_1 - LGG\n",
      "2019-05-15 11:56:31 Finish Brats18_TCIA10_609_1.\n",
      "enhancing tumor voxels are fewer than 700, mask out\n",
      "[0. 1. 2.]\n"
     ]
    },
    {
     "name": "stderr",
     "output_type": "stream",
     "text": [
      "\r",
      " 62%|██████▏   | 41/66 [15:43<09:44, 23.39s/it]"
     ]
    },
    {
     "name": "stdout",
     "output_type": "stream",
     "text": [
      "Brats18_TCIA11_612_1 - HGG\n",
      "2019-05-15 11:56:54 Finish Brats18_TCIA11_612_1.\n",
      "enhancing tumor voxels are fewer than 700, mask out\n",
      "[0. 2.]\n"
     ]
    },
    {
     "name": "stderr",
     "output_type": "stream",
     "text": [
      "\r",
      " 64%|██████▎   | 42/66 [16:06<09:20, 23.36s/it]"
     ]
    },
    {
     "name": "stdout",
     "output_type": "stream",
     "text": [
      "Brats18_TCIA12_613_1 - HGG\n",
      "2019-05-15 11:57:17 Finish Brats18_TCIA12_613_1.\n",
      "enhancing tumor voxels are fewer than 700, mask out\n",
      "[0. 2.]\n"
     ]
    },
    {
     "name": "stderr",
     "output_type": "stream",
     "text": [
      "\r",
      " 65%|██████▌   | 43/66 [16:30<08:56, 23.32s/it]"
     ]
    },
    {
     "name": "stdout",
     "output_type": "stream",
     "text": [
      "Brats18_TCIA13_610_1 - HGG\n",
      "2019-05-15 11:57:41 Finish Brats18_TCIA13_610_1.\n",
      "[0 1 2 4]\n"
     ]
    },
    {
     "name": "stderr",
     "output_type": "stream",
     "text": [
      "\r",
      " 67%|██████▋   | 44/66 [16:53<08:30, 23.21s/it]"
     ]
    },
    {
     "name": "stdout",
     "output_type": "stream",
     "text": [
      "Brats18_TCIA13_611_1 - HGG\n",
      "2019-05-15 11:58:04 Finish Brats18_TCIA13_611_1.\n",
      "[0 1 2 4]\n"
     ]
    },
    {
     "name": "stderr",
     "output_type": "stream",
     "text": [
      "\r",
      " 68%|██████▊   | 45/66 [17:16<08:05, 23.13s/it]"
     ]
    },
    {
     "name": "stdout",
     "output_type": "stream",
     "text": [
      "Brats18_TCIA13_617_1 - LGG\n",
      "2019-05-15 11:58:27 Finish Brats18_TCIA13_617_1.\n",
      "enhancing tumor voxels are fewer than 700, mask out\n",
      "[0. 1. 2.]\n"
     ]
    },
    {
     "name": "stderr",
     "output_type": "stream",
     "text": [
      "\r",
      " 70%|██████▉   | 46/66 [17:39<07:43, 23.20s/it]"
     ]
    },
    {
     "name": "stdout",
     "output_type": "stream",
     "text": [
      "Brats18_TCIA13_636_1 - HGG\n",
      "2019-05-15 11:58:50 Finish Brats18_TCIA13_636_1.\n",
      "[0 1 2 4]\n"
     ]
    },
    {
     "name": "stderr",
     "output_type": "stream",
     "text": [
      "\r",
      " 71%|███████   | 47/66 [18:02<07:19, 23.12s/it]"
     ]
    },
    {
     "name": "stdout",
     "output_type": "stream",
     "text": [
      "Brats18_TCIA13_638_1 - LGG\n",
      "2019-05-15 11:59:13 Finish Brats18_TCIA13_638_1.\n",
      "[0 1 2 4]\n"
     ]
    },
    {
     "name": "stderr",
     "output_type": "stream",
     "text": [
      "\r",
      " 73%|███████▎  | 48/66 [18:25<06:55, 23.10s/it]"
     ]
    },
    {
     "name": "stdout",
     "output_type": "stream",
     "text": [
      "Brats18_TCIA13_646_1 - HGG\n",
      "2019-05-15 11:59:36 Finish Brats18_TCIA13_646_1.\n",
      "enhancing tumor voxels are fewer than 700, mask out\n",
      "[0. 2.]\n"
     ]
    },
    {
     "name": "stderr",
     "output_type": "stream",
     "text": [
      "\r",
      " 74%|███████▍  | 49/66 [18:48<06:33, 23.15s/it]"
     ]
    },
    {
     "name": "stdout",
     "output_type": "stream",
     "text": [
      "Brats18_TCIA13_652_1 - LGG\n",
      "2019-05-15 11:59:59 Finish Brats18_TCIA13_652_1.\n",
      "enhancing tumor voxels are fewer than 700, mask out\n",
      "[0. 1. 2.]\n"
     ]
    },
    {
     "name": "stderr",
     "output_type": "stream",
     "text": [
      "\r",
      " 76%|███████▌  | 50/66 [19:12<06:11, 23.21s/it]"
     ]
    },
    {
     "name": "stdout",
     "output_type": "stream",
     "text": [
      "Brats18_UAB_3446_1 - HGG\n",
      "2019-05-15 12:00:23 Finish Brats18_UAB_3446_1.\n",
      "[0 1 2 4]\n"
     ]
    },
    {
     "name": "stderr",
     "output_type": "stream",
     "text": [
      "\r",
      " 77%|███████▋  | 51/66 [19:34<05:46, 23.12s/it]"
     ]
    },
    {
     "name": "stdout",
     "output_type": "stream",
     "text": [
      "Brats18_UAB_3448_1 - HGG\n",
      "2019-05-15 12:00:46 Finish Brats18_UAB_3448_1.\n",
      "[0 1 2 4]\n"
     ]
    },
    {
     "name": "stderr",
     "output_type": "stream",
     "text": [
      "\r",
      " 79%|███████▉  | 52/66 [19:57<05:23, 23.07s/it]"
     ]
    },
    {
     "name": "stdout",
     "output_type": "stream",
     "text": [
      "Brats18_UAB_3449_1 - HGG\n",
      "2019-05-15 12:01:08 Finish Brats18_UAB_3449_1.\n",
      "[0 1 2 4]\n"
     ]
    },
    {
     "name": "stderr",
     "output_type": "stream",
     "text": [
      "\r",
      " 80%|████████  | 53/66 [20:20<04:59, 23.03s/it]"
     ]
    },
    {
     "name": "stdout",
     "output_type": "stream",
     "text": [
      "Brats18_UAB_3454_1 - HGG\n",
      "2019-05-15 12:01:31 Finish Brats18_UAB_3454_1.\n",
      "[0 1 2 4]\n"
     ]
    },
    {
     "name": "stderr",
     "output_type": "stream",
     "text": [
      "\r",
      " 82%|████████▏ | 54/66 [20:43<04:36, 23.00s/it]"
     ]
    },
    {
     "name": "stdout",
     "output_type": "stream",
     "text": [
      "Brats18_UAB_3455_1 - HGG\n",
      "2019-05-15 12:01:54 Finish Brats18_UAB_3455_1.\n",
      "[0 1 2 4]\n"
     ]
    },
    {
     "name": "stderr",
     "output_type": "stream",
     "text": [
      "\r",
      " 83%|████████▎ | 55/66 [21:06<04:12, 22.99s/it]"
     ]
    },
    {
     "name": "stdout",
     "output_type": "stream",
     "text": [
      "Brats18_UAB_3456_1 - HGG\n",
      "2019-05-15 12:02:17 Finish Brats18_UAB_3456_1.\n",
      "[0 1 2 4]\n"
     ]
    },
    {
     "name": "stderr",
     "output_type": "stream",
     "text": [
      "\r",
      " 85%|████████▍ | 56/66 [21:29<03:49, 22.97s/it]"
     ]
    },
    {
     "name": "stdout",
     "output_type": "stream",
     "text": [
      "Brats18_UAB_3490_1 - HGG\n",
      "2019-05-15 12:02:40 Finish Brats18_UAB_3490_1.\n",
      "[0 1 2 4]\n"
     ]
    },
    {
     "name": "stderr",
     "output_type": "stream",
     "text": [
      "\r",
      " 86%|████████▋ | 57/66 [21:52<03:26, 22.97s/it]"
     ]
    },
    {
     "name": "stdout",
     "output_type": "stream",
     "text": [
      "Brats18_UAB_3498_1 - HGG\n",
      "2019-05-15 12:03:03 Finish Brats18_UAB_3498_1.\n",
      "[0 1 2 4]\n"
     ]
    },
    {
     "name": "stderr",
     "output_type": "stream",
     "text": [
      "\r",
      " 88%|████████▊ | 58/66 [22:15<03:03, 22.95s/it]"
     ]
    },
    {
     "name": "stdout",
     "output_type": "stream",
     "text": [
      "Brats18_UAB_3499_1 - LGG\n",
      "2019-05-15 12:03:26 Finish Brats18_UAB_3499_1.\n",
      "[0 1 2 4]\n"
     ]
    },
    {
     "name": "stderr",
     "output_type": "stream",
     "text": [
      "\r",
      " 89%|████████▉ | 59/66 [22:38<02:40, 22.97s/it]"
     ]
    },
    {
     "name": "stdout",
     "output_type": "stream",
     "text": [
      "Brats18_WashU_S036_1 - HGG\n",
      "2019-05-15 12:03:49 Finish Brats18_WashU_S036_1.\n",
      "[0 1 2 4]\n"
     ]
    },
    {
     "name": "stderr",
     "output_type": "stream",
     "text": [
      "\r",
      " 91%|█████████ | 60/66 [23:01<02:18, 23.06s/it]"
     ]
    },
    {
     "name": "stdout",
     "output_type": "stream",
     "text": [
      "Brats18_WashU_S037_1 - LGG\n",
      "2019-05-15 12:04:13 Finish Brats18_WashU_S037_1.\n",
      "[0 1 2 4]\n"
     ]
    },
    {
     "name": "stderr",
     "output_type": "stream",
     "text": [
      "\r",
      " 92%|█████████▏| 61/66 [23:25<01:55, 23.15s/it]"
     ]
    },
    {
     "name": "stdout",
     "output_type": "stream",
     "text": [
      "Brats18_WashU_S041_1 - HGG\n",
      "2019-05-15 12:04:36 Finish Brats18_WashU_S041_1.\n",
      "[0 1 2 4]\n"
     ]
    },
    {
     "name": "stderr",
     "output_type": "stream",
     "text": [
      "\r",
      " 94%|█████████▍| 62/66 [23:48<01:32, 23.19s/it]"
     ]
    },
    {
     "name": "stdout",
     "output_type": "stream",
     "text": [
      "Brats18_WashU_W033_1 - HGG\n",
      "2019-05-15 12:04:59 Finish Brats18_WashU_W033_1.\n",
      "[0 1 2 4]\n"
     ]
    },
    {
     "name": "stderr",
     "output_type": "stream",
     "text": [
      "\r",
      " 95%|█████████▌| 63/66 [24:11<01:09, 23.23s/it]"
     ]
    },
    {
     "name": "stdout",
     "output_type": "stream",
     "text": [
      "Brats18_WashU_W038_1 - HGG\n",
      "2019-05-15 12:05:23 Finish Brats18_WashU_W038_1.\n",
      "[0 1 2 4]\n"
     ]
    },
    {
     "name": "stderr",
     "output_type": "stream",
     "text": [
      "\r",
      " 97%|█████████▋| 64/66 [24:35<00:46, 23.25s/it]"
     ]
    },
    {
     "name": "stdout",
     "output_type": "stream",
     "text": [
      "Brats18_WashU_W047_1 - HGG\n",
      "2019-05-15 12:05:46 Finish Brats18_WashU_W047_1.\n",
      "[0 1 2 4]\n"
     ]
    },
    {
     "name": "stderr",
     "output_type": "stream",
     "text": [
      "\r",
      " 98%|█████████▊| 65/66 [24:58<00:23, 23.27s/it]"
     ]
    },
    {
     "name": "stdout",
     "output_type": "stream",
     "text": [
      "Brats18_WashU_W053_1 - HGG\n",
      "2019-05-15 12:06:09 Finish Brats18_WashU_W053_1.\n",
      "[0 1 2 4]\n"
     ]
    },
    {
     "name": "stderr",
     "output_type": "stream",
     "text": [
      "100%|██████████| 66/66 [25:21<00:00, 23.28s/it]\n"
     ]
    }
   ],
   "source": [
    "for case_name in tqdm(case_list):\n",
    "    label = classification_infer(case_name, val_dir, cls_model)\n",
    "    if label == 0.:\n",
    "        print(f'{case_name} - LGG')\n",
    "        preds = infer(case_name, 'seg', '../UNet-ResidualBlock-Expansion_LGG_end_to_end/epoch10_model.pt', device)\n",
    "    else:\n",
    "        print(f'{case_name} - HGG')\n",
    "        preds = infer(case_name, 'seg', '../UNet-ResidualBlock-Expansion_210_end_to_end_manual/UNet-ResidualBlock-Expansion-BRATS2018-End-to-End_batch6_training_epochs15_Adam_scheduler-step10-gamma1.0_lr5e-05_w_decay3e-05/trained_model.pt',\\\n",
    "                 device)\n",
    "    assert preds.shape == (155, 240, 240)\n",
    "    print(f'{time_stamp()} Finish {case_name}.')\n",
    "    \n",
    "    # map label (0, 1, 2, 3) to (0, 1, 2, 4)\n",
    "    preds = preds + (preds == 3).astype(np.uint8) * np.ones((155, 240, 240))\n",
    "    preds = preds.astype(np.uint8)\n",
    "    if np.sum((preds == 4).astype(np.uint8)) < 700:\n",
    "        preds = preds + (preds == 4).astype(np.uint8) * (-4) * np.ones((155, 240, 240))\n",
    "        print('enhancing tumor voxels are fewer than 700, mask out')\n",
    "    print(np.unique(preds))\n",
    "    \n",
    "    img = nib.Nifti1Image(preds.transpose(1, 2, 0), affine=None)\n",
    "    nib.save(img, os.path.join('validations', case_name + '.nii.gz'))"
   ]
  },
  {
   "cell_type": "markdown",
   "metadata": {},
   "source": [
    "## inference for possible LGG cases"
   ]
  },
  {
   "cell_type": "code",
   "execution_count": 4,
   "metadata": {},
   "outputs": [],
   "source": [
    "val_dir = 'BRATS2018_Validation/'\n",
    "device = torch.device('cuda:0' if torch.cuda.is_available() else 'cpu')\n",
    "lgg_case_list = ['Brats18_TCIA09_248_1', 'Brats18_TCIA10_195_1', 'Brats18_TCIA10_311_1',\\\n",
    "                'Brats18_TCIA10_609_1', 'Brats18_TCIA13_617_1',\\\n",
    "                'Brats18_TCIA13_638_1', 'Brats18_TCIA13_652_1', 'Brats18_UAB_3499_1']"
   ]
  },
  {
   "cell_type": "code",
   "execution_count": 5,
   "metadata": {},
   "outputs": [
    {
     "name": "stderr",
     "output_type": "stream",
     "text": [
      "  0%|          | 0/8 [00:00<?, ?it/s]/home/martin/Documents/semantic_segmentation/PyTorch_venv/lib/python3.6/site-packages/torch/nn/modules/upsampling.py:129: UserWarning: nn.Upsample is deprecated. Use nn.functional.interpolate instead.\n",
      "  warnings.warn(\"nn.{} is deprecated. Use nn.functional.interpolate instead.\".format(self.name))\n"
     ]
    },
    {
     "name": "stdout",
     "output_type": "stream",
     "text": [
      "2019-05-14 19:52:16 Finish Brats18_TCIA09_248_1.\n"
     ]
    },
    {
     "name": "stderr",
     "output_type": "stream",
     "text": [
      "\r",
      " 12%|█▎        | 1/8 [00:27<03:10, 27.18s/it]"
     ]
    },
    {
     "name": "stdout",
     "output_type": "stream",
     "text": [
      "[0 1 2 4]\n",
      "2019-05-14 19:52:39 Finish Brats18_TCIA10_195_1.\n",
      "[0 1 2 4]\n"
     ]
    },
    {
     "name": "stderr",
     "output_type": "stream",
     "text": [
      "\r",
      " 25%|██▌       | 2/8 [00:49<02:34, 25.74s/it]"
     ]
    },
    {
     "name": "stdout",
     "output_type": "stream",
     "text": [
      "2019-05-14 19:53:02 Finish Brats18_TCIA10_311_1.\n",
      "[0 2 4]\n"
     ]
    },
    {
     "name": "stderr",
     "output_type": "stream",
     "text": [
      "\r",
      " 38%|███▊      | 3/8 [01:11<02:03, 24.73s/it]"
     ]
    },
    {
     "name": "stdout",
     "output_type": "stream",
     "text": [
      "2019-05-14 19:53:24 Finish Brats18_TCIA10_609_1.\n",
      "[0 1 2 4]\n"
     ]
    },
    {
     "name": "stderr",
     "output_type": "stream",
     "text": [
      "\r",
      " 50%|█████     | 4/8 [01:34<01:36, 24.02s/it]"
     ]
    },
    {
     "name": "stdout",
     "output_type": "stream",
     "text": [
      "2019-05-14 19:53:46 Finish Brats18_TCIA13_617_1.\n",
      "[0 1 2 4]\n"
     ]
    },
    {
     "name": "stderr",
     "output_type": "stream",
     "text": [
      "\r",
      " 62%|██████▎   | 5/8 [01:56<01:10, 23.53s/it]"
     ]
    },
    {
     "name": "stdout",
     "output_type": "stream",
     "text": [
      "2019-05-14 19:54:09 Finish Brats18_TCIA13_638_1.\n",
      "[0 1 2 4]\n"
     ]
    },
    {
     "name": "stderr",
     "output_type": "stream",
     "text": [
      "\r",
      " 75%|███████▌  | 6/8 [02:19<00:46, 23.19s/it]"
     ]
    },
    {
     "name": "stdout",
     "output_type": "stream",
     "text": [
      "2019-05-14 19:54:31 Finish Brats18_TCIA13_652_1.\n",
      "[0 1 2 4]\n"
     ]
    },
    {
     "name": "stderr",
     "output_type": "stream",
     "text": [
      "\r",
      " 88%|████████▊ | 7/8 [02:41<00:22, 22.95s/it]"
     ]
    },
    {
     "name": "stdout",
     "output_type": "stream",
     "text": [
      "2019-05-14 19:54:54 Finish Brats18_UAB_3499_1.\n",
      "[0 1 2 4]\n"
     ]
    },
    {
     "name": "stderr",
     "output_type": "stream",
     "text": [
      "100%|██████████| 8/8 [03:03<00:00, 22.79s/it]\n"
     ]
    }
   ],
   "source": [
    "for case_name in tqdm(lgg_case_list):\n",
    "    preds = infer(case_name, 'seg', '../UNet-ResidualBlock-Expansion_LGG_end_to_end/epoch10_model.pt',\\\n",
    "                 device)\n",
    "    assert preds.shape == (155, 240, 240)\n",
    "    print(f'{time_stamp()} Finish {case_name}.')\n",
    "    \n",
    "    # map label (0, 1, 2, 3) to (0, 1, 2, 4)\n",
    "    preds = preds + (preds == 3).astype(np.uint8) * np.ones((155, 240, 240))\n",
    "    preds = preds.astype(np.uint8)\n",
    "    print(np.unique(preds))\n",
    "    \n",
    "    img = nib.Nifti1Image(preds.transpose(1, 2, 0), affine=None)\n",
    "    nib.save(img, os.path.join('../validations_lgg/', case_name + '.nii.gz'))"
   ]
  }
 ],
 "metadata": {
  "kernelspec": {
   "display_name": "Python 3",
   "language": "python",
   "name": "python3"
  },
  "language_info": {
   "codemirror_mode": {
    "name": "ipython",
    "version": 3
   },
   "file_extension": ".py",
   "mimetype": "text/x-python",
   "name": "python",
   "nbconvert_exporter": "python",
   "pygments_lexer": "ipython3",
   "version": "3.6.7"
  }
 },
 "nbformat": 4,
 "nbformat_minor": 2
}
