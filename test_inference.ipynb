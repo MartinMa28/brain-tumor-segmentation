{
 "cells": [
  {
   "cell_type": "code",
   "execution_count": 1,
   "metadata": {},
   "outputs": [],
   "source": [
    "import torch\n",
    "import torch.nn as nn\n",
    "import torch.optim as optim\n",
    "from torchvision import transforms\n",
    "from torchvision import models\n",
    "from torchvision.models.vgg import VGG\n",
    "from PIL import Image\n",
    "import numpy as np\n",
    "import matplotlib.pyplot as plt\n",
    "from matplotlib.lines import Line2D\n",
    "import os\n",
    "import nibabel as nib\n",
    "import torch.nn.functional as F\n",
    "import seaborn as sns\n",
    "from models.unet import UNet\n",
    "from metrics.torch_seg_metrics import dice_score, iou\n",
    "from datasets.BRATS2018 import ToTensor, NormalizeBRATS, ZeroPad\n",
    "\n",
    "%matplotlib inline"
   ]
  },
  {
   "cell_type": "code",
   "execution_count": 2,
   "metadata": {},
   "outputs": [],
   "source": [
    "def test_inference(base_path, img_name, model_path, device, scan_type='t1ce', seg_type='wt'):\n",
    "    if seg_type == 'wt':\n",
    "        model = UNet(n_channels=1, n_classes=1)\n",
    "    else:\n",
    "        model = UNet(n_channels=1, n_classes=1)\n",
    "    model.load_state_dict(torch.load(model_path, map_location=device))\n",
    "    model.to(device)\n",
    "    \n",
    "    scan_path = os.path.join(base_path, img_name + '_scan.npy')\n",
    "    mask_path = os.path.join(base_path, img_name + f'_{seg_type}.npy')\n",
    "    \n",
    "    if scan_type == 't1ce':\n",
    "        sc = np.load(scan_path)[1]\n",
    "        sc = np.expand_dims(sc, axis=0)\n",
    "        assert sc.shape == (1, 240, 240)\n",
    "    elif scan_type == 'flair':\n",
    "        sc = np.load(scan_path)[3]\n",
    "        sc = np.expand_dims(sc, axis=0)\n",
    "        assert sc.shape == (1, 240, 240)\n",
    "    elif scan_type == 't2-flair':\n",
    "        sc = np.load(scan_path)[2:]\n",
    "        assert sc.shape == (2, 240, 240)\n",
    "    else:\n",
    "        raise ValueError('Scan type should only be t1ze, flair, or t2-flair!')\n",
    "    mask = np.load(mask_path)\n",
    "    assert mask.shape == (240, 240)\n",
    "    \n",
    "    to_tensor = ToTensor()\n",
    "    normalize_BraTS = NormalizeBRATS()\n",
    "    sc, mask = normalize_BraTS((sc, mask))\n",
    "    sc, mask = to_tensor((sc, mask))\n",
    "    \n",
    "    # unsqueeze to 4-dimension NxCxHxW\n",
    "    sc = torch.unsqueeze(sc, dim=0)\n",
    "    model.eval()\n",
    "    with torch.no_grad():\n",
    "        output = model(sc)\n",
    "        #pred = torch.argmax(F.softmax(output, dim=1), dim=1)\n",
    "        pred = torch.sigmoid(output)\n",
    "        pred = pred > 0.5\n",
    "    \n",
    "    # squeeze the dense label back to a 2-dimension tensor\n",
    "    pred = torch.squeeze(pred)\n",
    "    \n",
    "    pred = pred.numpy().astype(np.uint8)\n",
    "    mask = mask.numpy().astype(np.uint8)\n",
    "    \n",
    "    return pred, mask"
   ]
  },
  {
   "cell_type": "code",
   "execution_count": 3,
   "metadata": {},
   "outputs": [],
   "source": [
    "device = torch.device('cuda:0' if torch.cuda.is_available() else 'cpu')\n",
    "base_path = './BRATS2018/seg/val/'"
   ]
  },
  {
   "cell_type": "code",
   "execution_count": 4,
   "metadata": {},
   "outputs": [],
   "source": [
    "wt_pred, wt_gt = test_inference(base_path, img_name='Brats18_TCIA04_361_1_084',\\\n",
    "                               model_path='../scores/UNet_BraTS_DiceLoss_WT_manual/UNets-BRATS2018-DiceLoss-WT_batch6_lr1e-5_gamma1.0/terminated_model.pt',\\\n",
    "                               device=device, scan_type='flair', seg_type='wt')"
   ]
  },
  {
   "cell_type": "code",
   "execution_count": 5,
   "metadata": {},
   "outputs": [],
   "source": [
    "et_pred, et_gt = test_inference(base_path, img_name='Brats18_TCIA04_361_1_084',\\\n",
    "                               model_path='../scores/UNet_BraTS_DiceLoss_ET_manual/UNets-BRATS2018-ET-DiceLoss_batch6_training_epochs50_Adam_scheduler-step10-gamma1.0_lr0.0001_w_decay1e-05/terminated_model.pt',\\\n",
    "                               device=device, scan_type='t1ce', seg_type='et')"
   ]
  },
  {
   "cell_type": "code",
   "execution_count": 6,
   "metadata": {},
   "outputs": [],
   "source": [
    "tc_pred, tc_gt = test_inference(base_path, img_name='Brats18_TCIA04_361_1_084',\\\n",
    "                               model_path='../scores/UNet_BraTS_DiceLoss_TC_manual/UNets-BRATS2018-TC-DiceLoss_batch6_training_epochs50_Adam_scheduler-step10-gamma1.0_lr1e-05_w_decay1e-05/terminated_model.pt',\\\n",
    "                               device=device, scan_type='t1ce', seg_type='tc')"
   ]
  },
  {
   "cell_type": "code",
   "execution_count": 7,
   "metadata": {},
   "outputs": [],
   "source": [
    "# for label-2\n",
    "map_2 = np.logical_xor(wt_gt, tc_gt).astype(np.uint8)\n",
    "# for label-1\n",
    "map_1 = np.logical_xor(tc_gt, et_gt).astype(np.uint8)\n",
    "map_4 = et_gt"
   ]
  },
  {
   "cell_type": "code",
   "execution_count": 8,
   "metadata": {},
   "outputs": [
    {
     "data": {
      "text/plain": [
       "<matplotlib.image.AxesImage at 0x7f28ff1bc320>"
      ]
     },
     "execution_count": 8,
     "metadata": {},
     "output_type": "execute_result"
    },
    {
     "data": {
      "image/png": "[encoded data removed]",
      "text/plain": [
       "<Figure size 432x288 with 1 Axes>"
      ]
     },
     "metadata": {
      "needs_background": "light"
     },
     "output_type": "display_data"
    }
   ],
   "source": [
    "plt.imshow(4*map_4 + 2*map_2 + map_1)"
   ]
  },
  {
   "cell_type": "code",
   "execution_count": 28,
   "metadata": {},
   "outputs": [
    {
     "data": {
      "text/plain": [
       "<matplotlib.image.AxesImage at 0x7f28fc2da080>"
      ]
     },
     "execution_count": 28,
     "metadata": {},
     "output_type": "execute_result"
    },
    {
     "data": {
      "image/png": "[encoded data removed]",
      "text/plain": [
       "<Figure size 432x288 with 1 Axes>"
      ]
     },
     "metadata": {
      "needs_background": "light"
     },
     "output_type": "display_data"
    }
   ],
   "source": [
    "seg = nib.load('BRATS2018/HGG/Brats18_TCIA04_361_1/Brats18_TCIA04_361_1_seg.nii.gz')\n",
    "seg_np = seg.get_data()\n",
    "seg_np = seg_np[:, :, 84]\n",
    "plt.imshow(seg_np)"
   ]
  },
  {
   "cell_type": "code",
   "execution_count": 9,
   "metadata": {},
   "outputs": [
    {
     "data": {
      "text/plain": [
       "<matplotlib.image.AxesImage at 0x7f28fd0e75c0>"
      ]
     },
     "execution_count": 9,
     "metadata": {},
     "output_type": "execute_result"
    },
    {
     "data": {
      "image/png": "[encoded data removed]",
      "text/plain": [
       "<Figure size 1080x1800 with 3 Axes>"
      ]
     },
     "metadata": {
      "needs_background": "light"
     },
     "output_type": "display_data"
    }
   ],
   "source": [
    "fig, (ax1, ax2, ax3) = plt.subplots(1, 3, figsize=(15, 25))\n",
    "ax1.imshow(map_1)\n",
    "ax2.imshow(map_2)\n",
    "ax3.imshow(map_4)"
   ]
  },
  {
   "cell_type": "code",
   "execution_count": 37,
   "metadata": {},
   "outputs": [],
   "source": [
    "pred_2 = np.logical_xor(wt_pred, tc_pred).astype(np.uint8)\n",
    "pred_1 = np.logical_xor(tc_pred, et_pred).astype(np.uint8)\n",
    "pred_4 = et_pred\n",
    "pred = 4 * pred_4 + 2 * pred_2 + pred_1"
   ]
  },
  {
   "cell_type": "code",
   "execution_count": 44,
   "metadata": {},
   "outputs": [
    {
     "data": {
      "text/plain": [
       "<matplotlib.image.AxesImage at 0x7f28fb0f6da0>"
      ]
     },
     "execution_count": 44,
     "metadata": {},
     "output_type": "execute_result"
    },
    {
     "data": {
      "image/png": "[encoded data removed]",
      "text/plain": [
       "<Figure size 432x288 with 1 Axes>"
      ]
     },
     "metadata": {
      "needs_background": "light"
     },
     "output_type": "display_data"
    }
   ],
   "source": [
    "plt.imshow((pred + ((pred > 4).astype(np.uint8) * (4 * np.ones((240, 240)) - pred))))"
   ]
  },
  {
   "cell_type": "code",
   "execution_count": 33,
   "metadata": {},
   "outputs": [
    {
     "data": {
      "text/plain": [
       "<matplotlib.image.AxesImage at 0x7f28fbac9c88>"
      ]
     },
     "execution_count": 33,
     "metadata": {},
     "output_type": "execute_result"
    },
    {
     "data": {
      "image/png": "[encoded data removed]",
      "text/plain": [
       "<Figure size 432x288 with 1 Axes>"
      ]
     },
     "metadata": {
      "needs_background": "light"
     },
     "output_type": "display_data"
    }
   ],
   "source": [
    "((4 * pred_4 + 2 * pred_2 + pred_1) > 4).astype(np.uint8) * (4 * np.ones())"
   ]
  },
  {
   "cell_type": "code",
   "execution_count": 39,
   "metadata": {},
   "outputs": [
    {
     "data": {
      "text/plain": [
       "<matplotlib.image.AxesImage at 0x7f28fcc099e8>"
      ]
     },
     "execution_count": 39,
     "metadata": {},
     "output_type": "execute_result"
    },
    {
     "data": {
      "image/png": "[encoded data removed]",
      "text/plain": [
       "<Figure size 432x288 with 1 Axes>"
      ]
     },
     "metadata": {
      "needs_background": "light"
     },
     "output_type": "display_data"
    }
   ],
   "source": [
    "plt.imshow(pred)"
   ]
  },
  {
   "cell_type": "code",
   "execution_count": 13,
   "metadata": {},
   "outputs": [
    {
     "data": {
      "text/plain": [
       "<matplotlib.image.AxesImage at 0x7f28fcfa3f60>"
      ]
     },
     "execution_count": 13,
     "metadata": {},
     "output_type": "execute_result"
    },
    {
     "data": {
      "image/png": "[encoded data removed]",
      "text/plain": [
       "<Figure size 1080x1800 with 3 Axes>"
      ]
     },
     "metadata": {
      "needs_background": "light"
     },
     "output_type": "display_data"
    }
   ],
   "source": [
    "fig, (ax1, ax2, ax3) = plt.subplots(1, 3, figsize=(15, 25))\n",
    "ax1.imshow(pred_1)\n",
    "ax2.imshow(pred_2)\n",
    "ax3.imshow(pred_4)"
   ]
  },
  {
   "cell_type": "code",
   "execution_count": 14,
   "metadata": {},
   "outputs": [
    {
     "data": {
      "text/plain": [
       "<matplotlib.image.AxesImage at 0x7f28fcf16d30>"
      ]
     },
     "execution_count": 14,
     "metadata": {},
     "output_type": "execute_result"
    },
    {
     "data": {
      "image/png": "[encoded data removed]",
      "text/plain": [
       "<Figure size 1080x1800 with 3 Axes>"
      ]
     },
     "metadata": {
      "needs_background": "light"
     },
     "output_type": "display_data"
    }
   ],
   "source": [
    "fig, (ax1, ax2, ax3) = plt.subplots(1, 3, figsize=(15, 25))\n",
    "ax1.imshow(wt_pred)\n",
    "ax2.imshow(et_pred)\n",
    "ax3.imshow(tc_pred)"
   ]
  }
 ],
 "metadata": {
  "kernelspec": {
   "display_name": "Python 3",
   "language": "python",
   "name": "python3"
  },
  "language_info": {
   "codemirror_mode": {
    "name": "ipython",
    "version": 3
   },
   "file_extension": ".py",
   "mimetype": "text/x-python",
   "name": "python",
   "nbconvert_exporter": "python",
   "pygments_lexer": "ipython3",
   "version": "3.6.7"
  }
 },
 "nbformat": 4,
 "nbformat_minor": 2
}
